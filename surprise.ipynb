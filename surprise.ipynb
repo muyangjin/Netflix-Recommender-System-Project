{
 "cells": [
  {
   "cell_type": "markdown",
   "metadata": {
    "_uuid": "231d2b68d22339194cd6b553fbf2669b0c787f46"
   },
   "source": [
    " Import packages and Data"
   ]
  },
  {
   "cell_type": "code",
   "execution_count": 1,
   "metadata": {
    "_uuid": "967862a8a95b1c3115daa13a36108177057b2c15",
    "scrolled": true
   },
   "outputs": [],
   "source": [
    "import numpy as np\n",
    "import pandas as pd\n",
    "import matplotlib.pyplot as plt\n",
    "from datetime import datetime\n",
    "from surprise import Reader, Dataset, SVD, SVDpp, NMF, KNNBaseline, evaluate, accuracy\n",
    "from surprise.model_selection import KFold, train_test_split, GridSearchCV\n",
    "from sklearn.linear_model import LinearRegression\n",
    "\n",
    "\n",
    "r_cols = ['user_id', 'movie_id', 'rating', 'unix_timestamp']\n",
    "ratings = pd.read_csv('ml-100k/u.data', sep='\\t', names=r_cols, encoding='latin-1')\n",
    "\n",
    "m_cols = ['movie_id', 'title', 'release_date', 'video_release_date', 'imdb_url','unknown', 'Action', 'Adventure',\\\n",
    "          'Animation', 'Children\\'s', 'Comedy', 'Crime', 'Documentary', 'Drama', 'Fantasy','Film-Noir', 'Horror',\\\n",
    "          'Musical', 'Mystery', 'Romance', 'Sci-Fi', 'Thriller', 'War', 'Western']\n",
    "movies = pd.read_csv('ml-100k/u.item', sep='|', names=m_cols, encoding='latin-1')\n",
    "\n",
    "u_cols = ['user_id', 'age', 'sex', 'occupation', 'zip_code']\n",
    "users = pd.read_csv('ml-100k/u.user', sep='|', names=u_cols, encoding='latin-1', parse_dates=True)"
   ]
  },
  {
   "cell_type": "code",
   "execution_count": 2,
   "metadata": {
    "_uuid": "a7b0ca7f5fb6339cdfff8fa78835a235c531212a",
    "scrolled": false
   },
   "outputs": [
    {
     "data": {
      "text/html": [
       "<div>\n",
       "<style scoped>\n",
       "    .dataframe tbody tr th:only-of-type {\n",
       "        vertical-align: middle;\n",
       "    }\n",
       "\n",
       "    .dataframe tbody tr th {\n",
       "        vertical-align: top;\n",
       "    }\n",
       "\n",
       "    .dataframe thead th {\n",
       "        text-align: right;\n",
       "    }\n",
       "</style>\n",
       "<table border=\"1\" class=\"dataframe\">\n",
       "  <thead>\n",
       "    <tr style=\"text-align: right;\">\n",
       "      <th></th>\n",
       "      <th>user_id</th>\n",
       "      <th>movie_id</th>\n",
       "      <th>rating</th>\n",
       "      <th>time</th>\n",
       "    </tr>\n",
       "  </thead>\n",
       "  <tbody>\n",
       "    <tr>\n",
       "      <th>0</th>\n",
       "      <td>196</td>\n",
       "      <td>242</td>\n",
       "      <td>3</td>\n",
       "      <td>1997-12-04 10:55:49</td>\n",
       "    </tr>\n",
       "    <tr>\n",
       "      <th>1</th>\n",
       "      <td>186</td>\n",
       "      <td>302</td>\n",
       "      <td>3</td>\n",
       "      <td>1998-04-04 14:22:22</td>\n",
       "    </tr>\n",
       "    <tr>\n",
       "      <th>2</th>\n",
       "      <td>22</td>\n",
       "      <td>377</td>\n",
       "      <td>1</td>\n",
       "      <td>1997-11-07 02:18:36</td>\n",
       "    </tr>\n",
       "    <tr>\n",
       "      <th>3</th>\n",
       "      <td>244</td>\n",
       "      <td>51</td>\n",
       "      <td>2</td>\n",
       "      <td>1997-11-27 00:02:03</td>\n",
       "    </tr>\n",
       "    <tr>\n",
       "      <th>4</th>\n",
       "      <td>166</td>\n",
       "      <td>346</td>\n",
       "      <td>1</td>\n",
       "      <td>1998-02-02 00:33:16</td>\n",
       "    </tr>\n",
       "    <tr>\n",
       "      <th>5</th>\n",
       "      <td>298</td>\n",
       "      <td>474</td>\n",
       "      <td>4</td>\n",
       "      <td>1998-01-07 09:20:06</td>\n",
       "    </tr>\n",
       "    <tr>\n",
       "      <th>6</th>\n",
       "      <td>115</td>\n",
       "      <td>265</td>\n",
       "      <td>2</td>\n",
       "      <td>1997-12-03 12:51:28</td>\n",
       "    </tr>\n",
       "    <tr>\n",
       "      <th>7</th>\n",
       "      <td>253</td>\n",
       "      <td>465</td>\n",
       "      <td>5</td>\n",
       "      <td>1998-04-03 13:34:27</td>\n",
       "    </tr>\n",
       "    <tr>\n",
       "      <th>8</th>\n",
       "      <td>305</td>\n",
       "      <td>451</td>\n",
       "      <td>3</td>\n",
       "      <td>1998-02-01 04:20:17</td>\n",
       "    </tr>\n",
       "    <tr>\n",
       "      <th>9</th>\n",
       "      <td>6</td>\n",
       "      <td>86</td>\n",
       "      <td>3</td>\n",
       "      <td>1997-12-31 16:16:53</td>\n",
       "    </tr>\n",
       "  </tbody>\n",
       "</table>\n",
       "</div>"
      ],
      "text/plain": [
       "   user_id  movie_id  rating                time\n",
       "0      196       242       3 1997-12-04 10:55:49\n",
       "1      186       302       3 1998-04-04 14:22:22\n",
       "2       22       377       1 1997-11-07 02:18:36\n",
       "3      244        51       2 1997-11-27 00:02:03\n",
       "4      166       346       1 1998-02-02 00:33:16\n",
       "5      298       474       4 1998-01-07 09:20:06\n",
       "6      115       265       2 1997-12-03 12:51:28\n",
       "7      253       465       5 1998-04-03 13:34:27\n",
       "8      305       451       3 1998-02-01 04:20:17\n",
       "9        6        86       3 1997-12-31 16:16:53"
      ]
     },
     "execution_count": 2,
     "metadata": {},
     "output_type": "execute_result"
    }
   ],
   "source": [
    "ratings['unix_timestamp'] = ratings['unix_timestamp'].apply(datetime.fromtimestamp)\n",
    "ratings.columns = ['user_id', 'movie_id', 'rating', 'time']\n",
    "ratings.head(10)"
   ]
  },
  {
   "cell_type": "markdown",
   "metadata": {
    "_uuid": "9f50a0067f9b858a75019981d4418c2632dca8ac"
   },
   "source": [
    "Here we can see how ratings distributed."
   ]
  },
  {
   "cell_type": "code",
   "execution_count": 3,
   "metadata": {
    "_uuid": "911226f462844a0b6a6d10cf7a6377ca8f516d90",
    "scrolled": true
   },
   "outputs": [
    {
     "data": {
      "text/plain": [
       "<matplotlib.axes._subplots.AxesSubplot at 0x110390390>"
      ]
     },
     "execution_count": 3,
     "metadata": {},
     "output_type": "execute_result"
    },
    {
     "data": {
      "image/png": "[encoded data removed]",
      "text/plain": [
       "<Figure size 432x288 with 1 Axes>"
      ]
     },
     "metadata": {},
     "output_type": "display_data"
    }
   ],
   "source": [
    "ratings['rating'].hist(bins=9)"
   ]
  },
  {
   "cell_type": "markdown",
   "metadata": {
    "_uuid": "c7823a29680019a4b09cca4482f1049f7eb50432"
   },
   "source": [
    "So far we will only use the movie title from this DataFrame. We may need the types of the movie later in our model."
   ]
  },
  {
   "cell_type": "code",
   "execution_count": 4,
   "metadata": {
    "_uuid": "1b0bbb9795c3c2477d46f664664cfa6265ae8f7a",
    "scrolled": false
   },
   "outputs": [
    {
     "data": {
      "text/html": [
       "<div>\n",
       "<style scoped>\n",
       "    .dataframe tbody tr th:only-of-type {\n",
       "        vertical-align: middle;\n",
       "    }\n",
       "\n",
       "    .dataframe tbody tr th {\n",
       "        vertical-align: top;\n",
       "    }\n",
       "\n",
       "    .dataframe thead th {\n",
       "        text-align: right;\n",
       "    }\n",
       "</style>\n",
       "<table border=\"1\" class=\"dataframe\">\n",
       "  <thead>\n",
       "    <tr style=\"text-align: right;\">\n",
       "      <th></th>\n",
       "      <th>movie_id</th>\n",
       "      <th>title</th>\n",
       "      <th>release_date</th>\n",
       "      <th>video_release_date</th>\n",
       "      <th>imdb_url</th>\n",
       "      <th>unknown</th>\n",
       "      <th>Action</th>\n",
       "      <th>Adventure</th>\n",
       "      <th>Animation</th>\n",
       "      <th>Children's</th>\n",
       "      <th>...</th>\n",
       "      <th>Fantasy</th>\n",
       "      <th>Film-Noir</th>\n",
       "      <th>Horror</th>\n",
       "      <th>Musical</th>\n",
       "      <th>Mystery</th>\n",
       "      <th>Romance</th>\n",
       "      <th>Sci-Fi</th>\n",
       "      <th>Thriller</th>\n",
       "      <th>War</th>\n",
       "      <th>Western</th>\n",
       "    </tr>\n",
       "  </thead>\n",
       "  <tbody>\n",
       "    <tr>\n",
       "      <th>0</th>\n",
       "      <td>1</td>\n",
       "      <td>Toy Story (1995)</td>\n",
       "      <td>1995-01-01</td>\n",
       "      <td>NaN</td>\n",
       "      <td>http://us.imdb.com/M/title-exact?Toy%20Story%2...</td>\n",
       "      <td>0</td>\n",
       "      <td>0</td>\n",
       "      <td>0</td>\n",
       "      <td>1</td>\n",
       "      <td>1</td>\n",
       "      <td>...</td>\n",
       "      <td>0</td>\n",
       "      <td>0</td>\n",
       "      <td>0</td>\n",
       "      <td>0</td>\n",
       "      <td>0</td>\n",
       "      <td>0</td>\n",
       "      <td>0</td>\n",
       "      <td>0</td>\n",
       "      <td>0</td>\n",
       "      <td>0</td>\n",
       "    </tr>\n",
       "    <tr>\n",
       "      <th>1</th>\n",
       "      <td>2</td>\n",
       "      <td>GoldenEye (1995)</td>\n",
       "      <td>1995-01-01</td>\n",
       "      <td>NaN</td>\n",
       "      <td>http://us.imdb.com/M/title-exact?GoldenEye%20(...</td>\n",
       "      <td>0</td>\n",
       "      <td>1</td>\n",
       "      <td>1</td>\n",
       "      <td>0</td>\n",
       "      <td>0</td>\n",
       "      <td>...</td>\n",
       "      <td>0</td>\n",
       "      <td>0</td>\n",
       "      <td>0</td>\n",
       "      <td>0</td>\n",
       "      <td>0</td>\n",
       "      <td>0</td>\n",
       "      <td>0</td>\n",
       "      <td>1</td>\n",
       "      <td>0</td>\n",
       "      <td>0</td>\n",
       "    </tr>\n",
       "    <tr>\n",
       "      <th>2</th>\n",
       "      <td>3</td>\n",
       "      <td>Four Rooms (1995)</td>\n",
       "      <td>1995-01-01</td>\n",
       "      <td>NaN</td>\n",
       "      <td>http://us.imdb.com/M/title-exact?Four%20Rooms%...</td>\n",
       "      <td>0</td>\n",
       "      <td>0</td>\n",
       "      <td>0</td>\n",
       "      <td>0</td>\n",
       "      <td>0</td>\n",
       "      <td>...</td>\n",
       "      <td>0</td>\n",
       "      <td>0</td>\n",
       "      <td>0</td>\n",
       "      <td>0</td>\n",
       "      <td>0</td>\n",
       "      <td>0</td>\n",
       "      <td>0</td>\n",
       "      <td>1</td>\n",
       "      <td>0</td>\n",
       "      <td>0</td>\n",
       "    </tr>\n",
       "    <tr>\n",
       "      <th>3</th>\n",
       "      <td>4</td>\n",
       "      <td>Get Shorty (1995)</td>\n",
       "      <td>1995-01-01</td>\n",
       "      <td>NaN</td>\n",
       "      <td>http://us.imdb.com/M/title-exact?Get%20Shorty%...</td>\n",
       "      <td>0</td>\n",
       "      <td>1</td>\n",
       "      <td>0</td>\n",
       "      <td>0</td>\n",
       "      <td>0</td>\n",
       "      <td>...</td>\n",
       "      <td>0</td>\n",
       "      <td>0</td>\n",
       "      <td>0</td>\n",
       "      <td>0</td>\n",
       "      <td>0</td>\n",
       "      <td>0</td>\n",
       "      <td>0</td>\n",
       "      <td>0</td>\n",
       "      <td>0</td>\n",
       "      <td>0</td>\n",
       "    </tr>\n",
       "    <tr>\n",
       "      <th>4</th>\n",
       "      <td>5</td>\n",
       "      <td>Copycat (1995)</td>\n",
       "      <td>1995-01-01</td>\n",
       "      <td>NaN</td>\n",
       "      <td>http://us.imdb.com/M/title-exact?Copycat%20(1995)</td>\n",
       "      <td>0</td>\n",
       "      <td>0</td>\n",
       "      <td>0</td>\n",
       "      <td>0</td>\n",
       "      <td>0</td>\n",
       "      <td>...</td>\n",
       "      <td>0</td>\n",
       "      <td>0</td>\n",
       "      <td>0</td>\n",
       "      <td>0</td>\n",
       "      <td>0</td>\n",
       "      <td>0</td>\n",
       "      <td>0</td>\n",
       "      <td>1</td>\n",
       "      <td>0</td>\n",
       "      <td>0</td>\n",
       "    </tr>\n",
       "    <tr>\n",
       "      <th>5</th>\n",
       "      <td>6</td>\n",
       "      <td>Shanghai Triad (Yao a yao yao dao waipo qiao) ...</td>\n",
       "      <td>1995-01-01</td>\n",
       "      <td>NaN</td>\n",
       "      <td>http://us.imdb.com/Title?Yao+a+yao+yao+dao+wai...</td>\n",
       "      <td>0</td>\n",
       "      <td>0</td>\n",
       "      <td>0</td>\n",
       "      <td>0</td>\n",
       "      <td>0</td>\n",
       "      <td>...</td>\n",
       "      <td>0</td>\n",
       "      <td>0</td>\n",
       "      <td>0</td>\n",
       "      <td>0</td>\n",
       "      <td>0</td>\n",
       "      <td>0</td>\n",
       "      <td>0</td>\n",
       "      <td>0</td>\n",
       "      <td>0</td>\n",
       "      <td>0</td>\n",
       "    </tr>\n",
       "    <tr>\n",
       "      <th>6</th>\n",
       "      <td>7</td>\n",
       "      <td>Twelve Monkeys (1995)</td>\n",
       "      <td>1995-01-01</td>\n",
       "      <td>NaN</td>\n",
       "      <td>http://us.imdb.com/M/title-exact?Twelve%20Monk...</td>\n",
       "      <td>0</td>\n",
       "      <td>0</td>\n",
       "      <td>0</td>\n",
       "      <td>0</td>\n",
       "      <td>0</td>\n",
       "      <td>...</td>\n",
       "      <td>0</td>\n",
       "      <td>0</td>\n",
       "      <td>0</td>\n",
       "      <td>0</td>\n",
       "      <td>0</td>\n",
       "      <td>0</td>\n",
       "      <td>1</td>\n",
       "      <td>0</td>\n",
       "      <td>0</td>\n",
       "      <td>0</td>\n",
       "    </tr>\n",
       "    <tr>\n",
       "      <th>7</th>\n",
       "      <td>8</td>\n",
       "      <td>Babe (1995)</td>\n",
       "      <td>1995-01-01</td>\n",
       "      <td>NaN</td>\n",
       "      <td>http://us.imdb.com/M/title-exact?Babe%20(1995)</td>\n",
       "      <td>0</td>\n",
       "      <td>0</td>\n",
       "      <td>0</td>\n",
       "      <td>0</td>\n",
       "      <td>1</td>\n",
       "      <td>...</td>\n",
       "      <td>0</td>\n",
       "      <td>0</td>\n",
       "      <td>0</td>\n",
       "      <td>0</td>\n",
       "      <td>0</td>\n",
       "      <td>0</td>\n",
       "      <td>0</td>\n",
       "      <td>0</td>\n",
       "      <td>0</td>\n",
       "      <td>0</td>\n",
       "    </tr>\n",
       "    <tr>\n",
       "      <th>8</th>\n",
       "      <td>9</td>\n",
       "      <td>Dead Man Walking (1995)</td>\n",
       "      <td>1995-01-01</td>\n",
       "      <td>NaN</td>\n",
       "      <td>http://us.imdb.com/M/title-exact?Dead%20Man%20...</td>\n",
       "      <td>0</td>\n",
       "      <td>0</td>\n",
       "      <td>0</td>\n",
       "      <td>0</td>\n",
       "      <td>0</td>\n",
       "      <td>...</td>\n",
       "      <td>0</td>\n",
       "      <td>0</td>\n",
       "      <td>0</td>\n",
       "      <td>0</td>\n",
       "      <td>0</td>\n",
       "      <td>0</td>\n",
       "      <td>0</td>\n",
       "      <td>0</td>\n",
       "      <td>0</td>\n",
       "      <td>0</td>\n",
       "    </tr>\n",
       "    <tr>\n",
       "      <th>9</th>\n",
       "      <td>10</td>\n",
       "      <td>Richard III (1995)</td>\n",
       "      <td>1996-01-22</td>\n",
       "      <td>NaN</td>\n",
       "      <td>http://us.imdb.com/M/title-exact?Richard%20III...</td>\n",
       "      <td>0</td>\n",
       "      <td>0</td>\n",
       "      <td>0</td>\n",
       "      <td>0</td>\n",
       "      <td>0</td>\n",
       "      <td>...</td>\n",
       "      <td>0</td>\n",
       "      <td>0</td>\n",
       "      <td>0</td>\n",
       "      <td>0</td>\n",
       "      <td>0</td>\n",
       "      <td>0</td>\n",
       "      <td>0</td>\n",
       "      <td>0</td>\n",
       "      <td>1</td>\n",
       "      <td>0</td>\n",
       "    </tr>\n",
       "  </tbody>\n",
       "</table>\n",
       "<p>10 rows × 24 columns</p>\n",
       "</div>"
      ],
      "text/plain": [
       "   movie_id                                              title release_date  \\\n",
       "0         1                                   Toy Story (1995)   1995-01-01   \n",
       "1         2                                   GoldenEye (1995)   1995-01-01   \n",
       "2         3                                  Four Rooms (1995)   1995-01-01   \n",
       "3         4                                  Get Shorty (1995)   1995-01-01   \n",
       "4         5                                     Copycat (1995)   1995-01-01   \n",
       "5         6  Shanghai Triad (Yao a yao yao dao waipo qiao) ...   1995-01-01   \n",
       "6         7                              Twelve Monkeys (1995)   1995-01-01   \n",
       "7         8                                        Babe (1995)   1995-01-01   \n",
       "8         9                            Dead Man Walking (1995)   1995-01-01   \n",
       "9        10                                 Richard III (1995)   1996-01-22   \n",
       "\n",
       "   video_release_date                                           imdb_url  \\\n",
       "0                 NaN  http://us.imdb.com/M/title-exact?Toy%20Story%2...   \n",
       "1                 NaN  http://us.imdb.com/M/title-exact?GoldenEye%20(...   \n",
       "2                 NaN  http://us.imdb.com/M/title-exact?Four%20Rooms%...   \n",
       "3                 NaN  http://us.imdb.com/M/title-exact?Get%20Shorty%...   \n",
       "4                 NaN  http://us.imdb.com/M/title-exact?Copycat%20(1995)   \n",
       "5                 NaN  http://us.imdb.com/Title?Yao+a+yao+yao+dao+wai...   \n",
       "6                 NaN  http://us.imdb.com/M/title-exact?Twelve%20Monk...   \n",
       "7                 NaN     http://us.imdb.com/M/title-exact?Babe%20(1995)   \n",
       "8                 NaN  http://us.imdb.com/M/title-exact?Dead%20Man%20...   \n",
       "9                 NaN  http://us.imdb.com/M/title-exact?Richard%20III...   \n",
       "\n",
       "   unknown  Action  Adventure  Animation  Children's  ...  Fantasy  Film-Noir  \\\n",
       "0        0       0          0          1           1  ...        0          0   \n",
       "1        0       1          1          0           0  ...        0          0   \n",
       "2        0       0          0          0           0  ...        0          0   \n",
       "3        0       1          0          0           0  ...        0          0   \n",
       "4        0       0          0          0           0  ...        0          0   \n",
       "5        0       0          0          0           0  ...        0          0   \n",
       "6        0       0          0          0           0  ...        0          0   \n",
       "7        0       0          0          0           1  ...        0          0   \n",
       "8        0       0          0          0           0  ...        0          0   \n",
       "9        0       0          0          0           0  ...        0          0   \n",
       "\n",
       "   Horror  Musical  Mystery  Romance  Sci-Fi  Thriller  War  Western  \n",
       "0       0        0        0        0       0         0    0        0  \n",
       "1       0        0        0        0       0         1    0        0  \n",
       "2       0        0        0        0       0         1    0        0  \n",
       "3       0        0        0        0       0         0    0        0  \n",
       "4       0        0        0        0       0         1    0        0  \n",
       "5       0        0        0        0       0         0    0        0  \n",
       "6       0        0        0        0       1         0    0        0  \n",
       "7       0        0        0        0       0         0    0        0  \n",
       "8       0        0        0        0       0         0    0        0  \n",
       "9       0        0        0        0       0         0    1        0  \n",
       "\n",
       "[10 rows x 24 columns]"
      ]
     },
     "execution_count": 4,
     "metadata": {},
     "output_type": "execute_result"
    }
   ],
   "source": [
    "movies['release_date'] = pd.to_datetime(movies['release_date'])\n",
    "movies.head(10)"
   ]
  },
  {
   "cell_type": "code",
   "execution_count": 5,
   "metadata": {
    "_uuid": "0416a84284faa8aaf079f5211a2fc6b64c017152"
   },
   "outputs": [
    {
     "data": {
      "text/html": [
       "<div>\n",
       "<style scoped>\n",
       "    .dataframe tbody tr th:only-of-type {\n",
       "        vertical-align: middle;\n",
       "    }\n",
       "\n",
       "    .dataframe tbody tr th {\n",
       "        vertical-align: top;\n",
       "    }\n",
       "\n",
       "    .dataframe thead th {\n",
       "        text-align: right;\n",
       "    }\n",
       "</style>\n",
       "<table border=\"1\" class=\"dataframe\">\n",
       "  <thead>\n",
       "    <tr style=\"text-align: right;\">\n",
       "      <th></th>\n",
       "      <th>user_id</th>\n",
       "      <th>age</th>\n",
       "      <th>sex</th>\n",
       "      <th>zip_code</th>\n",
       "      <th>technician</th>\n",
       "      <th>other</th>\n",
       "      <th>writer</th>\n",
       "      <th>executive</th>\n",
       "      <th>administrator</th>\n",
       "      <th>student</th>\n",
       "      <th>...</th>\n",
       "      <th>librarian</th>\n",
       "      <th>homemaker</th>\n",
       "      <th>artist</th>\n",
       "      <th>engineer</th>\n",
       "      <th>marketing</th>\n",
       "      <th>none</th>\n",
       "      <th>healthcare</th>\n",
       "      <th>retired</th>\n",
       "      <th>salesman</th>\n",
       "      <th>doctor</th>\n",
       "    </tr>\n",
       "  </thead>\n",
       "  <tbody>\n",
       "    <tr>\n",
       "      <th>0</th>\n",
       "      <td>1</td>\n",
       "      <td>24</td>\n",
       "      <td>M</td>\n",
       "      <td>85711</td>\n",
       "      <td>True</td>\n",
       "      <td>False</td>\n",
       "      <td>False</td>\n",
       "      <td>False</td>\n",
       "      <td>False</td>\n",
       "      <td>False</td>\n",
       "      <td>...</td>\n",
       "      <td>False</td>\n",
       "      <td>False</td>\n",
       "      <td>False</td>\n",
       "      <td>False</td>\n",
       "      <td>False</td>\n",
       "      <td>False</td>\n",
       "      <td>False</td>\n",
       "      <td>False</td>\n",
       "      <td>False</td>\n",
       "      <td>False</td>\n",
       "    </tr>\n",
       "    <tr>\n",
       "      <th>1</th>\n",
       "      <td>2</td>\n",
       "      <td>53</td>\n",
       "      <td>F</td>\n",
       "      <td>94043</td>\n",
       "      <td>False</td>\n",
       "      <td>True</td>\n",
       "      <td>False</td>\n",
       "      <td>False</td>\n",
       "      <td>False</td>\n",
       "      <td>False</td>\n",
       "      <td>...</td>\n",
       "      <td>False</td>\n",
       "      <td>False</td>\n",
       "      <td>False</td>\n",
       "      <td>False</td>\n",
       "      <td>False</td>\n",
       "      <td>False</td>\n",
       "      <td>False</td>\n",
       "      <td>False</td>\n",
       "      <td>False</td>\n",
       "      <td>False</td>\n",
       "    </tr>\n",
       "    <tr>\n",
       "      <th>2</th>\n",
       "      <td>3</td>\n",
       "      <td>23</td>\n",
       "      <td>M</td>\n",
       "      <td>32067</td>\n",
       "      <td>False</td>\n",
       "      <td>False</td>\n",
       "      <td>True</td>\n",
       "      <td>False</td>\n",
       "      <td>False</td>\n",
       "      <td>False</td>\n",
       "      <td>...</td>\n",
       "      <td>False</td>\n",
       "      <td>False</td>\n",
       "      <td>False</td>\n",
       "      <td>False</td>\n",
       "      <td>False</td>\n",
       "      <td>False</td>\n",
       "      <td>False</td>\n",
       "      <td>False</td>\n",
       "      <td>False</td>\n",
       "      <td>False</td>\n",
       "    </tr>\n",
       "    <tr>\n",
       "      <th>3</th>\n",
       "      <td>4</td>\n",
       "      <td>24</td>\n",
       "      <td>M</td>\n",
       "      <td>43537</td>\n",
       "      <td>True</td>\n",
       "      <td>False</td>\n",
       "      <td>False</td>\n",
       "      <td>False</td>\n",
       "      <td>False</td>\n",
       "      <td>False</td>\n",
       "      <td>...</td>\n",
       "      <td>False</td>\n",
       "      <td>False</td>\n",
       "      <td>False</td>\n",
       "      <td>False</td>\n",
       "      <td>False</td>\n",
       "      <td>False</td>\n",
       "      <td>False</td>\n",
       "      <td>False</td>\n",
       "      <td>False</td>\n",
       "      <td>False</td>\n",
       "    </tr>\n",
       "    <tr>\n",
       "      <th>4</th>\n",
       "      <td>5</td>\n",
       "      <td>33</td>\n",
       "      <td>F</td>\n",
       "      <td>15213</td>\n",
       "      <td>False</td>\n",
       "      <td>True</td>\n",
       "      <td>False</td>\n",
       "      <td>False</td>\n",
       "      <td>False</td>\n",
       "      <td>False</td>\n",
       "      <td>...</td>\n",
       "      <td>False</td>\n",
       "      <td>False</td>\n",
       "      <td>False</td>\n",
       "      <td>False</td>\n",
       "      <td>False</td>\n",
       "      <td>False</td>\n",
       "      <td>False</td>\n",
       "      <td>False</td>\n",
       "      <td>False</td>\n",
       "      <td>False</td>\n",
       "    </tr>\n",
       "    <tr>\n",
       "      <th>5</th>\n",
       "      <td>6</td>\n",
       "      <td>42</td>\n",
       "      <td>M</td>\n",
       "      <td>98101</td>\n",
       "      <td>False</td>\n",
       "      <td>False</td>\n",
       "      <td>False</td>\n",
       "      <td>True</td>\n",
       "      <td>False</td>\n",
       "      <td>False</td>\n",
       "      <td>...</td>\n",
       "      <td>False</td>\n",
       "      <td>False</td>\n",
       "      <td>False</td>\n",
       "      <td>False</td>\n",
       "      <td>False</td>\n",
       "      <td>False</td>\n",
       "      <td>False</td>\n",
       "      <td>False</td>\n",
       "      <td>False</td>\n",
       "      <td>False</td>\n",
       "    </tr>\n",
       "    <tr>\n",
       "      <th>6</th>\n",
       "      <td>7</td>\n",
       "      <td>57</td>\n",
       "      <td>M</td>\n",
       "      <td>91344</td>\n",
       "      <td>False</td>\n",
       "      <td>False</td>\n",
       "      <td>False</td>\n",
       "      <td>False</td>\n",
       "      <td>True</td>\n",
       "      <td>False</td>\n",
       "      <td>...</td>\n",
       "      <td>False</td>\n",
       "      <td>False</td>\n",
       "      <td>False</td>\n",
       "      <td>False</td>\n",
       "      <td>False</td>\n",
       "      <td>False</td>\n",
       "      <td>False</td>\n",
       "      <td>False</td>\n",
       "      <td>False</td>\n",
       "      <td>False</td>\n",
       "    </tr>\n",
       "    <tr>\n",
       "      <th>7</th>\n",
       "      <td>8</td>\n",
       "      <td>36</td>\n",
       "      <td>M</td>\n",
       "      <td>05201</td>\n",
       "      <td>False</td>\n",
       "      <td>False</td>\n",
       "      <td>False</td>\n",
       "      <td>False</td>\n",
       "      <td>True</td>\n",
       "      <td>False</td>\n",
       "      <td>...</td>\n",
       "      <td>False</td>\n",
       "      <td>False</td>\n",
       "      <td>False</td>\n",
       "      <td>False</td>\n",
       "      <td>False</td>\n",
       "      <td>False</td>\n",
       "      <td>False</td>\n",
       "      <td>False</td>\n",
       "      <td>False</td>\n",
       "      <td>False</td>\n",
       "    </tr>\n",
       "    <tr>\n",
       "      <th>8</th>\n",
       "      <td>9</td>\n",
       "      <td>29</td>\n",
       "      <td>M</td>\n",
       "      <td>01002</td>\n",
       "      <td>False</td>\n",
       "      <td>False</td>\n",
       "      <td>False</td>\n",
       "      <td>False</td>\n",
       "      <td>False</td>\n",
       "      <td>True</td>\n",
       "      <td>...</td>\n",
       "      <td>False</td>\n",
       "      <td>False</td>\n",
       "      <td>False</td>\n",
       "      <td>False</td>\n",
       "      <td>False</td>\n",
       "      <td>False</td>\n",
       "      <td>False</td>\n",
       "      <td>False</td>\n",
       "      <td>False</td>\n",
       "      <td>False</td>\n",
       "    </tr>\n",
       "    <tr>\n",
       "      <th>9</th>\n",
       "      <td>10</td>\n",
       "      <td>53</td>\n",
       "      <td>M</td>\n",
       "      <td>90703</td>\n",
       "      <td>False</td>\n",
       "      <td>False</td>\n",
       "      <td>False</td>\n",
       "      <td>False</td>\n",
       "      <td>False</td>\n",
       "      <td>False</td>\n",
       "      <td>...</td>\n",
       "      <td>False</td>\n",
       "      <td>False</td>\n",
       "      <td>False</td>\n",
       "      <td>False</td>\n",
       "      <td>False</td>\n",
       "      <td>False</td>\n",
       "      <td>False</td>\n",
       "      <td>False</td>\n",
       "      <td>False</td>\n",
       "      <td>False</td>\n",
       "    </tr>\n",
       "  </tbody>\n",
       "</table>\n",
       "<p>10 rows × 25 columns</p>\n",
       "</div>"
      ],
      "text/plain": [
       "   user_id  age sex zip_code  technician  other  writer  executive  \\\n",
       "0        1   24   M    85711        True  False   False      False   \n",
       "1        2   53   F    94043       False   True   False      False   \n",
       "2        3   23   M    32067       False  False    True      False   \n",
       "3        4   24   M    43537        True  False   False      False   \n",
       "4        5   33   F    15213       False   True   False      False   \n",
       "5        6   42   M    98101       False  False   False       True   \n",
       "6        7   57   M    91344       False  False   False      False   \n",
       "7        8   36   M    05201       False  False   False      False   \n",
       "8        9   29   M    01002       False  False   False      False   \n",
       "9       10   53   M    90703       False  False   False      False   \n",
       "\n",
       "   administrator  student  ...  librarian  homemaker  artist  engineer  \\\n",
       "0          False    False  ...      False      False   False     False   \n",
       "1          False    False  ...      False      False   False     False   \n",
       "2          False    False  ...      False      False   False     False   \n",
       "3          False    False  ...      False      False   False     False   \n",
       "4          False    False  ...      False      False   False     False   \n",
       "5          False    False  ...      False      False   False     False   \n",
       "6           True    False  ...      False      False   False     False   \n",
       "7           True    False  ...      False      False   False     False   \n",
       "8          False     True  ...      False      False   False     False   \n",
       "9          False    False  ...      False      False   False     False   \n",
       "\n",
       "   marketing   none  healthcare  retired  salesman  doctor  \n",
       "0      False  False       False    False     False   False  \n",
       "1      False  False       False    False     False   False  \n",
       "2      False  False       False    False     False   False  \n",
       "3      False  False       False    False     False   False  \n",
       "4      False  False       False    False     False   False  \n",
       "5      False  False       False    False     False   False  \n",
       "6      False  False       False    False     False   False  \n",
       "7      False  False       False    False     False   False  \n",
       "8      False  False       False    False     False   False  \n",
       "9      False  False       False    False     False   False  \n",
       "\n",
       "[10 rows x 25 columns]"
      ]
     },
     "execution_count": 5,
     "metadata": {},
     "output_type": "execute_result"
    }
   ],
   "source": [
    "for i in users['occupation'].unique():\n",
    "    users[i] = users['occupation'] == i\n",
    "users.drop('occupation', axis=1, inplace=True)\n",
    "users.head(10)"
   ]
  },
  {
   "cell_type": "markdown",
   "metadata": {
    "_uuid": "489d7b280b69868765cb4396676cc35ac647c9ef"
   },
   "source": [
    "For each movie we count how many ratings it got, and what's the mean and standard deviation."
   ]
  },
  {
   "cell_type": "code",
   "execution_count": 6,
   "metadata": {
    "_uuid": "9a5f1d5c7ae9c600740da0d4a35df2c3369845c0",
    "scrolled": false
   },
   "outputs": [
    {
     "data": {
      "text/html": [
       "<div>\n",
       "<style scoped>\n",
       "    .dataframe tbody tr th:only-of-type {\n",
       "        vertical-align: middle;\n",
       "    }\n",
       "\n",
       "    .dataframe tbody tr th {\n",
       "        vertical-align: top;\n",
       "    }\n",
       "\n",
       "    .dataframe thead th {\n",
       "        text-align: right;\n",
       "    }\n",
       "</style>\n",
       "<table border=\"1\" class=\"dataframe\">\n",
       "  <thead>\n",
       "    <tr style=\"text-align: right;\">\n",
       "      <th></th>\n",
       "      <th>count</th>\n",
       "      <th>mean</th>\n",
       "      <th>std</th>\n",
       "    </tr>\n",
       "    <tr>\n",
       "      <th>movie_id</th>\n",
       "      <th></th>\n",
       "      <th></th>\n",
       "      <th></th>\n",
       "    </tr>\n",
       "  </thead>\n",
       "  <tbody>\n",
       "    <tr>\n",
       "      <th>1</th>\n",
       "      <td>452</td>\n",
       "      <td>3.878319</td>\n",
       "      <td>0.927897</td>\n",
       "    </tr>\n",
       "    <tr>\n",
       "      <th>2</th>\n",
       "      <td>131</td>\n",
       "      <td>3.206107</td>\n",
       "      <td>0.966497</td>\n",
       "    </tr>\n",
       "    <tr>\n",
       "      <th>3</th>\n",
       "      <td>90</td>\n",
       "      <td>3.033333</td>\n",
       "      <td>1.212760</td>\n",
       "    </tr>\n",
       "    <tr>\n",
       "      <th>4</th>\n",
       "      <td>209</td>\n",
       "      <td>3.550239</td>\n",
       "      <td>0.965069</td>\n",
       "    </tr>\n",
       "    <tr>\n",
       "      <th>5</th>\n",
       "      <td>86</td>\n",
       "      <td>3.302326</td>\n",
       "      <td>0.946446</td>\n",
       "    </tr>\n",
       "    <tr>\n",
       "      <th>6</th>\n",
       "      <td>26</td>\n",
       "      <td>3.576923</td>\n",
       "      <td>1.301478</td>\n",
       "    </tr>\n",
       "    <tr>\n",
       "      <th>7</th>\n",
       "      <td>392</td>\n",
       "      <td>3.798469</td>\n",
       "      <td>0.982037</td>\n",
       "    </tr>\n",
       "    <tr>\n",
       "      <th>8</th>\n",
       "      <td>219</td>\n",
       "      <td>3.995434</td>\n",
       "      <td>1.002281</td>\n",
       "    </tr>\n",
       "    <tr>\n",
       "      <th>9</th>\n",
       "      <td>299</td>\n",
       "      <td>3.896321</td>\n",
       "      <td>1.042368</td>\n",
       "    </tr>\n",
       "    <tr>\n",
       "      <th>10</th>\n",
       "      <td>89</td>\n",
       "      <td>3.831461</td>\n",
       "      <td>1.013948</td>\n",
       "    </tr>\n",
       "  </tbody>\n",
       "</table>\n",
       "</div>"
      ],
      "text/plain": [
       "          count      mean       std\n",
       "movie_id                           \n",
       "1           452  3.878319  0.927897\n",
       "2           131  3.206107  0.966497\n",
       "3            90  3.033333  1.212760\n",
       "4           209  3.550239  0.965069\n",
       "5            86  3.302326  0.946446\n",
       "6            26  3.576923  1.301478\n",
       "7           392  3.798469  0.982037\n",
       "8           219  3.995434  1.002281\n",
       "9           299  3.896321  1.042368\n",
       "10           89  3.831461  1.013948"
      ]
     },
     "execution_count": 6,
     "metadata": {},
     "output_type": "execute_result"
    }
   ],
   "source": [
    "ratings_movie_summary = ratings.groupby('movie_id')['rating'].agg(['count', 'mean', 'std'])\n",
    "ratings_movie_summary.head(10)"
   ]
  },
  {
   "cell_type": "markdown",
   "metadata": {
    "_uuid": "f985438049c52a08583c858707e4bba91b23b26b"
   },
   "source": [
    "For each user, we count how many ratings he or she gives, and the mean and standard deviation as well."
   ]
  },
  {
   "cell_type": "code",
   "execution_count": 7,
   "metadata": {
    "_uuid": "7e471c3529afec1b615c00da3eb8ba40fb59dbc1",
    "scrolled": true
   },
   "outputs": [
    {
     "data": {
      "text/html": [
       "<div>\n",
       "<style scoped>\n",
       "    .dataframe tbody tr th:only-of-type {\n",
       "        vertical-align: middle;\n",
       "    }\n",
       "\n",
       "    .dataframe tbody tr th {\n",
       "        vertical-align: top;\n",
       "    }\n",
       "\n",
       "    .dataframe thead th {\n",
       "        text-align: right;\n",
       "    }\n",
       "</style>\n",
       "<table border=\"1\" class=\"dataframe\">\n",
       "  <thead>\n",
       "    <tr style=\"text-align: right;\">\n",
       "      <th></th>\n",
       "      <th>count</th>\n",
       "      <th>mean</th>\n",
       "      <th>std</th>\n",
       "    </tr>\n",
       "    <tr>\n",
       "      <th>user_id</th>\n",
       "      <th></th>\n",
       "      <th></th>\n",
       "      <th></th>\n",
       "    </tr>\n",
       "  </thead>\n",
       "  <tbody>\n",
       "    <tr>\n",
       "      <th>1</th>\n",
       "      <td>272</td>\n",
       "      <td>3.610294</td>\n",
       "      <td>1.263585</td>\n",
       "    </tr>\n",
       "    <tr>\n",
       "      <th>2</th>\n",
       "      <td>62</td>\n",
       "      <td>3.709677</td>\n",
       "      <td>1.030472</td>\n",
       "    </tr>\n",
       "    <tr>\n",
       "      <th>3</th>\n",
       "      <td>54</td>\n",
       "      <td>2.796296</td>\n",
       "      <td>1.219026</td>\n",
       "    </tr>\n",
       "    <tr>\n",
       "      <th>4</th>\n",
       "      <td>24</td>\n",
       "      <td>4.333333</td>\n",
       "      <td>0.916831</td>\n",
       "    </tr>\n",
       "    <tr>\n",
       "      <th>5</th>\n",
       "      <td>175</td>\n",
       "      <td>2.874286</td>\n",
       "      <td>1.362963</td>\n",
       "    </tr>\n",
       "    <tr>\n",
       "      <th>6</th>\n",
       "      <td>211</td>\n",
       "      <td>3.635071</td>\n",
       "      <td>1.039461</td>\n",
       "    </tr>\n",
       "    <tr>\n",
       "      <th>7</th>\n",
       "      <td>403</td>\n",
       "      <td>3.965261</td>\n",
       "      <td>1.064480</td>\n",
       "    </tr>\n",
       "    <tr>\n",
       "      <th>8</th>\n",
       "      <td>59</td>\n",
       "      <td>3.796610</td>\n",
       "      <td>1.242629</td>\n",
       "    </tr>\n",
       "    <tr>\n",
       "      <th>9</th>\n",
       "      <td>22</td>\n",
       "      <td>4.272727</td>\n",
       "      <td>0.935125</td>\n",
       "    </tr>\n",
       "    <tr>\n",
       "      <th>10</th>\n",
       "      <td>184</td>\n",
       "      <td>4.206522</td>\n",
       "      <td>0.582777</td>\n",
       "    </tr>\n",
       "  </tbody>\n",
       "</table>\n",
       "</div>"
      ],
      "text/plain": [
       "         count      mean       std\n",
       "user_id                           \n",
       "1          272  3.610294  1.263585\n",
       "2           62  3.709677  1.030472\n",
       "3           54  2.796296  1.219026\n",
       "4           24  4.333333  0.916831\n",
       "5          175  2.874286  1.362963\n",
       "6          211  3.635071  1.039461\n",
       "7          403  3.965261  1.064480\n",
       "8           59  3.796610  1.242629\n",
       "9           22  4.272727  0.935125\n",
       "10         184  4.206522  0.582777"
      ]
     },
     "execution_count": 7,
     "metadata": {},
     "output_type": "execute_result"
    }
   ],
   "source": [
    "ratings_user_summary = ratings.groupby('user_id')['rating'].agg(['count', 'mean', 'std'])\n",
    "ratings_user_summary.head(10)"
   ]
  },
  {
   "cell_type": "code",
   "execution_count": 8,
   "metadata": {
    "_uuid": "e032504bec196f448bc8fb2cea3f268682804bfc",
    "scrolled": true
   },
   "outputs": [
    {
     "data": {
      "text/plain": [
       "<matplotlib.axes._subplots.AxesSubplot at 0x1a187b16a0>"
      ]
     },
     "execution_count": 8,
     "metadata": {},
     "output_type": "execute_result"
    },
    {
     "data": {
      "image/png": "[encoded data removed]",
      "text/plain": [
       "<Figure size 432x288 with 1 Axes>"
      ]
     },
     "metadata": {},
     "output_type": "display_data"
    }
   ],
   "source": [
    "ratings_movie_summary.sort_values(by='count')['count'].hist(bins=20)"
   ]
  },
  {
   "cell_type": "code",
   "execution_count": 9,
   "metadata": {
    "_uuid": "ee8dd9c82b36e264f492ad7872350a67cf093ecb",
    "scrolled": true
   },
   "outputs": [
    {
     "data": {
      "text/plain": [
       "<matplotlib.axes._subplots.AxesSubplot at 0x1a18732080>"
      ]
     },
     "execution_count": 9,
     "metadata": {},
     "output_type": "execute_result"
    },
    {
     "data": {
      "image/png": "[encoded data removed]",
      "text/plain": [
       "<Figure size 432x288 with 1 Axes>"
      ]
     },
     "metadata": {},
     "output_type": "display_data"
    }
   ],
   "source": [
    "ratings_movie_summary.sort_values(by='mean')['mean'].hist(bins=20)"
   ]
  },
  {
   "cell_type": "code",
   "execution_count": 10,
   "metadata": {
    "_uuid": "7d8b508a67b7acec54d75116b1bca2a6f1c3e310"
   },
   "outputs": [
    {
     "data": {
      "text/plain": [
       "<matplotlib.axes._subplots.AxesSubplot at 0x111eb9e48>"
      ]
     },
     "execution_count": 10,
     "metadata": {},
     "output_type": "execute_result"
    },
    {
     "data": {
      "image/png": "[encoded data removed]",
      "text/plain": [
       "<Figure size 432x288 with 1 Axes>"
      ]
     },
     "metadata": {},
     "output_type": "display_data"
    }
   ],
   "source": [
    "ratings_user_summary.sort_values(by='count')['count'].hist(bins=20)"
   ]
  },
  {
   "cell_type": "code",
   "execution_count": 11,
   "metadata": {
    "_uuid": "c185dbacd949a445297aff4cee604c99502366a8"
   },
   "outputs": [
    {
     "data": {
      "text/plain": [
       "<matplotlib.axes._subplots.AxesSubplot at 0x1103c9d30>"
      ]
     },
     "execution_count": 11,
     "metadata": {},
     "output_type": "execute_result"
    },
    {
     "data": {
      "image/png": "[encoded data removed]",
      "text/plain": [
       "<Figure size 432x288 with 1 Axes>"
      ]
     },
     "metadata": {},
     "output_type": "display_data"
    }
   ],
   "source": [
    "ratings_user_summary.sort_values(by='mean')['mean'].hist(bins=20)"
   ]
  },
  {
   "cell_type": "markdown",
   "metadata": {
    "_uuid": "7830ed4c5a0f507e398e6dba3996e0fa98dfd3b4"
   },
   "source": [
    "We create a pivot table for ratings and store the total mean and standard deviation values."
   ]
  },
  {
   "cell_type": "code",
   "execution_count": 12,
   "metadata": {
    "_uuid": "7584f37b79cf9a4fb96fca0aea9f3833bc1526dd",
    "scrolled": true
   },
   "outputs": [
    {
     "data": {
      "text/html": [
       "<div>\n",
       "<style scoped>\n",
       "    .dataframe tbody tr th:only-of-type {\n",
       "        vertical-align: middle;\n",
       "    }\n",
       "\n",
       "    .dataframe tbody tr th {\n",
       "        vertical-align: top;\n",
       "    }\n",
       "\n",
       "    .dataframe thead th {\n",
       "        text-align: right;\n",
       "    }\n",
       "</style>\n",
       "<table border=\"1\" class=\"dataframe\">\n",
       "  <thead>\n",
       "    <tr style=\"text-align: right;\">\n",
       "      <th>movie_id</th>\n",
       "      <th>1</th>\n",
       "      <th>2</th>\n",
       "      <th>3</th>\n",
       "      <th>4</th>\n",
       "      <th>5</th>\n",
       "      <th>6</th>\n",
       "      <th>7</th>\n",
       "      <th>8</th>\n",
       "      <th>9</th>\n",
       "      <th>10</th>\n",
       "    </tr>\n",
       "    <tr>\n",
       "      <th>user_id</th>\n",
       "      <th></th>\n",
       "      <th></th>\n",
       "      <th></th>\n",
       "      <th></th>\n",
       "      <th></th>\n",
       "      <th></th>\n",
       "      <th></th>\n",
       "      <th></th>\n",
       "      <th></th>\n",
       "      <th></th>\n",
       "    </tr>\n",
       "  </thead>\n",
       "  <tbody>\n",
       "    <tr>\n",
       "      <th>1</th>\n",
       "      <td>5.0</td>\n",
       "      <td>3.0</td>\n",
       "      <td>4.0</td>\n",
       "      <td>3.0</td>\n",
       "      <td>3.0</td>\n",
       "      <td>5.0</td>\n",
       "      <td>4.0</td>\n",
       "      <td>1.0</td>\n",
       "      <td>5.0</td>\n",
       "      <td>3.0</td>\n",
       "    </tr>\n",
       "    <tr>\n",
       "      <th>2</th>\n",
       "      <td>4.0</td>\n",
       "      <td>NaN</td>\n",
       "      <td>NaN</td>\n",
       "      <td>NaN</td>\n",
       "      <td>NaN</td>\n",
       "      <td>NaN</td>\n",
       "      <td>NaN</td>\n",
       "      <td>NaN</td>\n",
       "      <td>NaN</td>\n",
       "      <td>2.0</td>\n",
       "    </tr>\n",
       "    <tr>\n",
       "      <th>3</th>\n",
       "      <td>NaN</td>\n",
       "      <td>NaN</td>\n",
       "      <td>NaN</td>\n",
       "      <td>NaN</td>\n",
       "      <td>NaN</td>\n",
       "      <td>NaN</td>\n",
       "      <td>NaN</td>\n",
       "      <td>NaN</td>\n",
       "      <td>NaN</td>\n",
       "      <td>NaN</td>\n",
       "    </tr>\n",
       "    <tr>\n",
       "      <th>4</th>\n",
       "      <td>NaN</td>\n",
       "      <td>NaN</td>\n",
       "      <td>NaN</td>\n",
       "      <td>NaN</td>\n",
       "      <td>NaN</td>\n",
       "      <td>NaN</td>\n",
       "      <td>NaN</td>\n",
       "      <td>NaN</td>\n",
       "      <td>NaN</td>\n",
       "      <td>NaN</td>\n",
       "    </tr>\n",
       "    <tr>\n",
       "      <th>5</th>\n",
       "      <td>4.0</td>\n",
       "      <td>3.0</td>\n",
       "      <td>NaN</td>\n",
       "      <td>NaN</td>\n",
       "      <td>NaN</td>\n",
       "      <td>NaN</td>\n",
       "      <td>NaN</td>\n",
       "      <td>NaN</td>\n",
       "      <td>NaN</td>\n",
       "      <td>NaN</td>\n",
       "    </tr>\n",
       "    <tr>\n",
       "      <th>6</th>\n",
       "      <td>4.0</td>\n",
       "      <td>NaN</td>\n",
       "      <td>NaN</td>\n",
       "      <td>NaN</td>\n",
       "      <td>NaN</td>\n",
       "      <td>NaN</td>\n",
       "      <td>2.0</td>\n",
       "      <td>4.0</td>\n",
       "      <td>4.0</td>\n",
       "      <td>NaN</td>\n",
       "    </tr>\n",
       "    <tr>\n",
       "      <th>7</th>\n",
       "      <td>NaN</td>\n",
       "      <td>NaN</td>\n",
       "      <td>NaN</td>\n",
       "      <td>5.0</td>\n",
       "      <td>NaN</td>\n",
       "      <td>NaN</td>\n",
       "      <td>5.0</td>\n",
       "      <td>5.0</td>\n",
       "      <td>5.0</td>\n",
       "      <td>4.0</td>\n",
       "    </tr>\n",
       "    <tr>\n",
       "      <th>8</th>\n",
       "      <td>NaN</td>\n",
       "      <td>NaN</td>\n",
       "      <td>NaN</td>\n",
       "      <td>NaN</td>\n",
       "      <td>NaN</td>\n",
       "      <td>NaN</td>\n",
       "      <td>3.0</td>\n",
       "      <td>NaN</td>\n",
       "      <td>NaN</td>\n",
       "      <td>NaN</td>\n",
       "    </tr>\n",
       "    <tr>\n",
       "      <th>9</th>\n",
       "      <td>NaN</td>\n",
       "      <td>NaN</td>\n",
       "      <td>NaN</td>\n",
       "      <td>NaN</td>\n",
       "      <td>NaN</td>\n",
       "      <td>5.0</td>\n",
       "      <td>4.0</td>\n",
       "      <td>NaN</td>\n",
       "      <td>NaN</td>\n",
       "      <td>NaN</td>\n",
       "    </tr>\n",
       "    <tr>\n",
       "      <th>10</th>\n",
       "      <td>4.0</td>\n",
       "      <td>NaN</td>\n",
       "      <td>NaN</td>\n",
       "      <td>4.0</td>\n",
       "      <td>NaN</td>\n",
       "      <td>NaN</td>\n",
       "      <td>4.0</td>\n",
       "      <td>NaN</td>\n",
       "      <td>4.0</td>\n",
       "      <td>NaN</td>\n",
       "    </tr>\n",
       "  </tbody>\n",
       "</table>\n",
       "</div>"
      ],
      "text/plain": [
       "movie_id   1    2    3    4    5    6    7    8    9    10\n",
       "user_id                                                   \n",
       "1         5.0  3.0  4.0  3.0  3.0  5.0  4.0  1.0  5.0  3.0\n",
       "2         4.0  NaN  NaN  NaN  NaN  NaN  NaN  NaN  NaN  2.0\n",
       "3         NaN  NaN  NaN  NaN  NaN  NaN  NaN  NaN  NaN  NaN\n",
       "4         NaN  NaN  NaN  NaN  NaN  NaN  NaN  NaN  NaN  NaN\n",
       "5         4.0  3.0  NaN  NaN  NaN  NaN  NaN  NaN  NaN  NaN\n",
       "6         4.0  NaN  NaN  NaN  NaN  NaN  2.0  4.0  4.0  NaN\n",
       "7         NaN  NaN  NaN  5.0  NaN  NaN  5.0  5.0  5.0  4.0\n",
       "8         NaN  NaN  NaN  NaN  NaN  NaN  3.0  NaN  NaN  NaN\n",
       "9         NaN  NaN  NaN  NaN  NaN  5.0  4.0  NaN  NaN  NaN\n",
       "10        4.0  NaN  NaN  4.0  NaN  NaN  4.0  NaN  4.0  NaN"
      ]
     },
     "execution_count": 12,
     "metadata": {},
     "output_type": "execute_result"
    }
   ],
   "source": [
    "ratings_p = pd.pivot_table(ratings, values='rating', index='user_id', columns='movie_id')\n",
    "ratings_p.iloc[:10, :10]"
   ]
  },
  {
   "cell_type": "code",
   "execution_count": 13,
   "metadata": {
    "_uuid": "9c26c758afdacfb94332ed4cf220d994117dc6be"
   },
   "outputs": [],
   "source": [
    "mean = ratings_p.stack().mean()\n",
    "std = ratings_p.stack().std()"
   ]
  },
  {
   "cell_type": "markdown",
   "metadata": {
    "_uuid": "643361a6850c4770fd7f6e29c6e1aee2611997ab"
   },
   "source": [
    "- **SVD Model**\n",
    "\n",
    "Here is the Singular Value Decomposition method using the surprise package."
   ]
  },
  {
   "cell_type": "code",
   "execution_count": 14,
   "metadata": {
    "_uuid": "dae613e5e8cf7998883c198ba29fde3d37152959",
    "scrolled": false
   },
   "outputs": [
    {
     "name": "stderr",
     "output_type": "stream",
     "text": [
      "/anaconda3/lib/python3.6/site-packages/surprise/evaluate.py:66: UserWarning: The evaluate() method is deprecated. Please use model_selection.cross_validate() instead.\n",
      "  'model_selection.cross_validate() instead.', UserWarning)\n",
      "/anaconda3/lib/python3.6/site-packages/surprise/dataset.py:193: UserWarning: Using data.split() or using load_from_folds() without using a CV iterator is now deprecated. \n",
      "  UserWarning)\n"
     ]
    },
    {
     "name": "stdout",
     "output_type": "stream",
     "text": [
      "Evaluating RMSE, MAE of algorithm SVD.\n",
      "\n",
      "------------\n",
      "Fold 1\n",
      "RMSE: 0.9378\n",
      "MAE:  0.7401\n",
      "------------\n",
      "Fold 2\n",
      "RMSE: 0.9391\n",
      "MAE:  0.7384\n",
      "------------\n",
      "Fold 3\n",
      "RMSE: 0.9366\n",
      "MAE:  0.7372\n",
      "------------\n",
      "Fold 4\n",
      "RMSE: 0.9326\n",
      "MAE:  0.7353\n",
      "------------\n",
      "Fold 5\n",
      "RMSE: 0.9406\n",
      "MAE:  0.7436\n",
      "------------\n",
      "------------\n",
      "Mean RMSE: 0.9373\n",
      "Mean MAE : 0.7389\n",
      "------------\n",
      "------------\n"
     ]
    },
    {
     "data": {
      "text/plain": [
       "CaseInsensitiveDefaultDict(list,\n",
       "                           {'rmse': [0.9377976153549861,\n",
       "                             0.939104859431426,\n",
       "                             0.9365997863324468,\n",
       "                             0.9325888203609853,\n",
       "                             0.9406187273204947],\n",
       "                            'mae': [0.7400922084212521,\n",
       "                             0.7384082569119351,\n",
       "                             0.7371635885466925,\n",
       "                             0.7353120266770539,\n",
       "                             0.7436426002139366]})"
      ]
     },
     "execution_count": 14,
     "metadata": {},
     "output_type": "execute_result"
    }
   ],
   "source": [
    "#trainset, testset = train_test_split(ratings, test_size=0.15, random_state=0)\n",
    "\n",
    "reader = Reader()\n",
    "data = Dataset.load_from_df(ratings[['user_id', 'movie_id', 'rating']], reader)\n",
    "#data.split(n_folds=3)\n",
    "\n",
    "svd = SVD()\n",
    "evaluate(svd, data, measures=['RMSE', 'MAE'])"
   ]
  },
  {
   "cell_type": "markdown",
   "metadata": {
    "_uuid": "8e9e65615713967f511773a900f9e4865b90d5ed"
   },
   "source": [
    "---\n",
    "numpy.linalg.svd experiment"
   ]
  },
  {
   "cell_type": "code",
   "execution_count": 15,
   "metadata": {
    "_uuid": "915d34909daa6d5d49808b389e52cbb331f0d509"
   },
   "outputs": [
    {
     "data": {
      "text/plain": [
       "(100000, 3)"
      ]
     },
     "execution_count": 15,
     "metadata": {},
     "output_type": "execute_result"
    }
   ],
   "source": [
    "trainset = data.build_full_trainset()\n",
    "testset = trainset.build_testset()\n",
    "predictions = svd.test(testset)\n",
    "model_pred = pd.DataFrame([[i.uid, i.iid, i.est] for i in predictions], columns=['user_id', 'movie_id', 'svd'])\n",
    "model_pred.shape"
   ]
  },
  {
   "cell_type": "code",
   "execution_count": 16,
   "metadata": {
    "_uuid": "f60b5cf6028087748333642544113bad6800c302"
   },
   "outputs": [
    {
     "data": {
      "text/plain": [
       "(1586126, 3)"
      ]
     },
     "execution_count": 16,
     "metadata": {},
     "output_type": "execute_result"
    }
   ],
   "source": [
    "anti_testset = trainset.build_anti_testset()\n",
    "anti_predictions = svd.test(anti_testset)\n",
    "model_pred_anti = pd.DataFrame([[i.uid, i.iid, i.est] for i in anti_predictions], columns=['user_id', 'movie_id', 'svd'])\n",
    "model_pred = pd.concat([model_pred, model_pred_anti], ignore_index=True)\n",
    "model_pred.shape"
   ]
  },
  {
   "cell_type": "code",
   "execution_count": 17,
   "metadata": {
    "_uuid": "5ebdea2c3c76fcc6b96385e2f1e95ae7114521aa"
   },
   "outputs": [
    {
     "data": {
      "text/html": [
       "<div>\n",
       "<style scoped>\n",
       "    .dataframe tbody tr th:only-of-type {\n",
       "        vertical-align: middle;\n",
       "    }\n",
       "\n",
       "    .dataframe tbody tr th {\n",
       "        vertical-align: top;\n",
       "    }\n",
       "\n",
       "    .dataframe thead th {\n",
       "        text-align: right;\n",
       "    }\n",
       "</style>\n",
       "<table border=\"1\" class=\"dataframe\">\n",
       "  <thead>\n",
       "    <tr style=\"text-align: right;\">\n",
       "      <th>movie_id</th>\n",
       "      <th>1</th>\n",
       "      <th>2</th>\n",
       "      <th>3</th>\n",
       "      <th>4</th>\n",
       "      <th>5</th>\n",
       "      <th>6</th>\n",
       "      <th>7</th>\n",
       "      <th>8</th>\n",
       "      <th>9</th>\n",
       "      <th>10</th>\n",
       "    </tr>\n",
       "    <tr>\n",
       "      <th>user_id</th>\n",
       "      <th></th>\n",
       "      <th></th>\n",
       "      <th></th>\n",
       "      <th></th>\n",
       "      <th></th>\n",
       "      <th></th>\n",
       "      <th></th>\n",
       "      <th></th>\n",
       "      <th></th>\n",
       "      <th></th>\n",
       "    </tr>\n",
       "  </thead>\n",
       "  <tbody>\n",
       "    <tr>\n",
       "      <th>1</th>\n",
       "      <td>4.046208</td>\n",
       "      <td>3.134853</td>\n",
       "      <td>3.806769</td>\n",
       "      <td>3.655800</td>\n",
       "      <td>2.969818</td>\n",
       "      <td>4.107507</td>\n",
       "      <td>4.145638</td>\n",
       "      <td>3.824170</td>\n",
       "      <td>4.432500</td>\n",
       "      <td>3.638340</td>\n",
       "    </tr>\n",
       "    <tr>\n",
       "      <th>2</th>\n",
       "      <td>4.117208</td>\n",
       "      <td>3.385481</td>\n",
       "      <td>3.278004</td>\n",
       "      <td>3.537121</td>\n",
       "      <td>3.333670</td>\n",
       "      <td>4.085825</td>\n",
       "      <td>3.511899</td>\n",
       "      <td>3.956142</td>\n",
       "      <td>3.924821</td>\n",
       "      <td>4.105132</td>\n",
       "    </tr>\n",
       "    <tr>\n",
       "      <th>3</th>\n",
       "      <td>3.437468</td>\n",
       "      <td>2.629064</td>\n",
       "      <td>2.471522</td>\n",
       "      <td>3.122192</td>\n",
       "      <td>2.938676</td>\n",
       "      <td>3.380326</td>\n",
       "      <td>3.758950</td>\n",
       "      <td>4.151197</td>\n",
       "      <td>3.719288</td>\n",
       "      <td>3.398250</td>\n",
       "    </tr>\n",
       "    <tr>\n",
       "      <th>4</th>\n",
       "      <td>4.678449</td>\n",
       "      <td>4.091196</td>\n",
       "      <td>4.054334</td>\n",
       "      <td>4.148908</td>\n",
       "      <td>4.095731</td>\n",
       "      <td>4.801707</td>\n",
       "      <td>4.269675</td>\n",
       "      <td>4.417162</td>\n",
       "      <td>4.593331</td>\n",
       "      <td>4.829538</td>\n",
       "    </tr>\n",
       "    <tr>\n",
       "      <th>5</th>\n",
       "      <td>3.217502</td>\n",
       "      <td>2.554633</td>\n",
       "      <td>2.804608</td>\n",
       "      <td>3.006256</td>\n",
       "      <td>2.640993</td>\n",
       "      <td>3.114872</td>\n",
       "      <td>3.333294</td>\n",
       "      <td>3.441495</td>\n",
       "      <td>3.518919</td>\n",
       "      <td>3.341342</td>\n",
       "    </tr>\n",
       "    <tr>\n",
       "      <th>6</th>\n",
       "      <td>3.646967</td>\n",
       "      <td>2.634448</td>\n",
       "      <td>2.926123</td>\n",
       "      <td>3.180021</td>\n",
       "      <td>3.038208</td>\n",
       "      <td>3.481281</td>\n",
       "      <td>2.924350</td>\n",
       "      <td>3.800642</td>\n",
       "      <td>3.881775</td>\n",
       "      <td>4.076492</td>\n",
       "    </tr>\n",
       "    <tr>\n",
       "      <th>7</th>\n",
       "      <td>4.034423</td>\n",
       "      <td>3.619312</td>\n",
       "      <td>3.317878</td>\n",
       "      <td>3.839601</td>\n",
       "      <td>3.935731</td>\n",
       "      <td>3.779605</td>\n",
       "      <td>4.081024</td>\n",
       "      <td>4.231017</td>\n",
       "      <td>4.419463</td>\n",
       "      <td>4.305721</td>\n",
       "    </tr>\n",
       "    <tr>\n",
       "      <th>8</th>\n",
       "      <td>4.331660</td>\n",
       "      <td>3.529902</td>\n",
       "      <td>3.435795</td>\n",
       "      <td>3.755186</td>\n",
       "      <td>3.428542</td>\n",
       "      <td>4.048429</td>\n",
       "      <td>3.662222</td>\n",
       "      <td>4.111709</td>\n",
       "      <td>4.147701</td>\n",
       "      <td>4.058041</td>\n",
       "    </tr>\n",
       "    <tr>\n",
       "      <th>9</th>\n",
       "      <td>4.595878</td>\n",
       "      <td>3.521081</td>\n",
       "      <td>3.520901</td>\n",
       "      <td>3.831720</td>\n",
       "      <td>3.728502</td>\n",
       "      <td>4.410904</td>\n",
       "      <td>4.005939</td>\n",
       "      <td>4.193736</td>\n",
       "      <td>4.018170</td>\n",
       "      <td>4.364065</td>\n",
       "    </tr>\n",
       "    <tr>\n",
       "      <th>10</th>\n",
       "      <td>4.113933</td>\n",
       "      <td>3.434080</td>\n",
       "      <td>3.540219</td>\n",
       "      <td>3.761381</td>\n",
       "      <td>3.576478</td>\n",
       "      <td>4.149051</td>\n",
       "      <td>3.935102</td>\n",
       "      <td>4.191976</td>\n",
       "      <td>4.142839</td>\n",
       "      <td>4.391246</td>\n",
       "    </tr>\n",
       "  </tbody>\n",
       "</table>\n",
       "</div>"
      ],
      "text/plain": [
       "movie_id        1         2         3         4         5         6   \\\n",
       "user_id                                                                \n",
       "1         4.046208  3.134853  3.806769  3.655800  2.969818  4.107507   \n",
       "2         4.117208  3.385481  3.278004  3.537121  3.333670  4.085825   \n",
       "3         3.437468  2.629064  2.471522  3.122192  2.938676  3.380326   \n",
       "4         4.678449  4.091196  4.054334  4.148908  4.095731  4.801707   \n",
       "5         3.217502  2.554633  2.804608  3.006256  2.640993  3.114872   \n",
       "6         3.646967  2.634448  2.926123  3.180021  3.038208  3.481281   \n",
       "7         4.034423  3.619312  3.317878  3.839601  3.935731  3.779605   \n",
       "8         4.331660  3.529902  3.435795  3.755186  3.428542  4.048429   \n",
       "9         4.595878  3.521081  3.520901  3.831720  3.728502  4.410904   \n",
       "10        4.113933  3.434080  3.540219  3.761381  3.576478  4.149051   \n",
       "\n",
       "movie_id        7         8         9         10  \n",
       "user_id                                           \n",
       "1         4.145638  3.824170  4.432500  3.638340  \n",
       "2         3.511899  3.956142  3.924821  4.105132  \n",
       "3         3.758950  4.151197  3.719288  3.398250  \n",
       "4         4.269675  4.417162  4.593331  4.829538  \n",
       "5         3.333294  3.441495  3.518919  3.341342  \n",
       "6         2.924350  3.800642  3.881775  4.076492  \n",
       "7         4.081024  4.231017  4.419463  4.305721  \n",
       "8         3.662222  4.111709  4.147701  4.058041  \n",
       "9         4.005939  4.193736  4.018170  4.364065  \n",
       "10        3.935102  4.191976  4.142839  4.391246  "
      ]
     },
     "execution_count": 17,
     "metadata": {},
     "output_type": "execute_result"
    }
   ],
   "source": [
    "svd_p = pd.pivot_table(model_pred, values='svd', index='user_id', columns='movie_id')\n",
    "svd_p.iloc[:10, :10]"
   ]
  },
  {
   "cell_type": "code",
   "execution_count": 18,
   "metadata": {
    "_uuid": "d8d4ffaec9c19d42b95d23ea641280a1607d358c"
   },
   "outputs": [
    {
     "name": "stdout",
     "output_type": "stream",
     "text": [
      "(943, 943) (943, 943) (943, 1682)\n"
     ]
    },
    {
     "data": {
      "text/html": [
       "<div>\n",
       "<style scoped>\n",
       "    .dataframe tbody tr th:only-of-type {\n",
       "        vertical-align: middle;\n",
       "    }\n",
       "\n",
       "    .dataframe tbody tr th {\n",
       "        vertical-align: top;\n",
       "    }\n",
       "\n",
       "    .dataframe thead th {\n",
       "        text-align: right;\n",
       "    }\n",
       "</style>\n",
       "<table border=\"1\" class=\"dataframe\">\n",
       "  <thead>\n",
       "    <tr style=\"text-align: right;\">\n",
       "      <th></th>\n",
       "      <th>0</th>\n",
       "      <th>1</th>\n",
       "      <th>2</th>\n",
       "      <th>3</th>\n",
       "      <th>4</th>\n",
       "      <th>5</th>\n",
       "      <th>6</th>\n",
       "      <th>7</th>\n",
       "      <th>8</th>\n",
       "      <th>9</th>\n",
       "    </tr>\n",
       "  </thead>\n",
       "  <tbody>\n",
       "    <tr>\n",
       "      <th>0</th>\n",
       "      <td>4321.366617</td>\n",
       "      <td>0.00000</td>\n",
       "      <td>0.000000</td>\n",
       "      <td>0.000000</td>\n",
       "      <td>0.000000</td>\n",
       "      <td>0.000000</td>\n",
       "      <td>0.000000</td>\n",
       "      <td>0.000000</td>\n",
       "      <td>0.000000</td>\n",
       "      <td>0.000000</td>\n",
       "    </tr>\n",
       "    <tr>\n",
       "      <th>1</th>\n",
       "      <td>0.000000</td>\n",
       "      <td>73.04643</td>\n",
       "      <td>0.000000</td>\n",
       "      <td>0.000000</td>\n",
       "      <td>0.000000</td>\n",
       "      <td>0.000000</td>\n",
       "      <td>0.000000</td>\n",
       "      <td>0.000000</td>\n",
       "      <td>0.000000</td>\n",
       "      <td>0.000000</td>\n",
       "    </tr>\n",
       "    <tr>\n",
       "      <th>2</th>\n",
       "      <td>0.000000</td>\n",
       "      <td>0.00000</td>\n",
       "      <td>57.074389</td>\n",
       "      <td>0.000000</td>\n",
       "      <td>0.000000</td>\n",
       "      <td>0.000000</td>\n",
       "      <td>0.000000</td>\n",
       "      <td>0.000000</td>\n",
       "      <td>0.000000</td>\n",
       "      <td>0.000000</td>\n",
       "    </tr>\n",
       "    <tr>\n",
       "      <th>3</th>\n",
       "      <td>0.000000</td>\n",
       "      <td>0.00000</td>\n",
       "      <td>0.000000</td>\n",
       "      <td>40.793046</td>\n",
       "      <td>0.000000</td>\n",
       "      <td>0.000000</td>\n",
       "      <td>0.000000</td>\n",
       "      <td>0.000000</td>\n",
       "      <td>0.000000</td>\n",
       "      <td>0.000000</td>\n",
       "    </tr>\n",
       "    <tr>\n",
       "      <th>4</th>\n",
       "      <td>0.000000</td>\n",
       "      <td>0.00000</td>\n",
       "      <td>0.000000</td>\n",
       "      <td>0.000000</td>\n",
       "      <td>35.462222</td>\n",
       "      <td>0.000000</td>\n",
       "      <td>0.000000</td>\n",
       "      <td>0.000000</td>\n",
       "      <td>0.000000</td>\n",
       "      <td>0.000000</td>\n",
       "    </tr>\n",
       "    <tr>\n",
       "      <th>5</th>\n",
       "      <td>0.000000</td>\n",
       "      <td>0.00000</td>\n",
       "      <td>0.000000</td>\n",
       "      <td>0.000000</td>\n",
       "      <td>0.000000</td>\n",
       "      <td>34.620016</td>\n",
       "      <td>0.000000</td>\n",
       "      <td>0.000000</td>\n",
       "      <td>0.000000</td>\n",
       "      <td>0.000000</td>\n",
       "    </tr>\n",
       "    <tr>\n",
       "      <th>6</th>\n",
       "      <td>0.000000</td>\n",
       "      <td>0.00000</td>\n",
       "      <td>0.000000</td>\n",
       "      <td>0.000000</td>\n",
       "      <td>0.000000</td>\n",
       "      <td>0.000000</td>\n",
       "      <td>34.149464</td>\n",
       "      <td>0.000000</td>\n",
       "      <td>0.000000</td>\n",
       "      <td>0.000000</td>\n",
       "    </tr>\n",
       "    <tr>\n",
       "      <th>7</th>\n",
       "      <td>0.000000</td>\n",
       "      <td>0.00000</td>\n",
       "      <td>0.000000</td>\n",
       "      <td>0.000000</td>\n",
       "      <td>0.000000</td>\n",
       "      <td>0.000000</td>\n",
       "      <td>0.000000</td>\n",
       "      <td>32.264965</td>\n",
       "      <td>0.000000</td>\n",
       "      <td>0.000000</td>\n",
       "    </tr>\n",
       "    <tr>\n",
       "      <th>8</th>\n",
       "      <td>0.000000</td>\n",
       "      <td>0.00000</td>\n",
       "      <td>0.000000</td>\n",
       "      <td>0.000000</td>\n",
       "      <td>0.000000</td>\n",
       "      <td>0.000000</td>\n",
       "      <td>0.000000</td>\n",
       "      <td>0.000000</td>\n",
       "      <td>30.060269</td>\n",
       "      <td>0.000000</td>\n",
       "    </tr>\n",
       "    <tr>\n",
       "      <th>9</th>\n",
       "      <td>0.000000</td>\n",
       "      <td>0.00000</td>\n",
       "      <td>0.000000</td>\n",
       "      <td>0.000000</td>\n",
       "      <td>0.000000</td>\n",
       "      <td>0.000000</td>\n",
       "      <td>0.000000</td>\n",
       "      <td>0.000000</td>\n",
       "      <td>0.000000</td>\n",
       "      <td>29.758319</td>\n",
       "    </tr>\n",
       "  </tbody>\n",
       "</table>\n",
       "</div>"
      ],
      "text/plain": [
       "             0         1          2          3          4          5  \\\n",
       "0  4321.366617   0.00000   0.000000   0.000000   0.000000   0.000000   \n",
       "1     0.000000  73.04643   0.000000   0.000000   0.000000   0.000000   \n",
       "2     0.000000   0.00000  57.074389   0.000000   0.000000   0.000000   \n",
       "3     0.000000   0.00000   0.000000  40.793046   0.000000   0.000000   \n",
       "4     0.000000   0.00000   0.000000   0.000000  35.462222   0.000000   \n",
       "5     0.000000   0.00000   0.000000   0.000000   0.000000  34.620016   \n",
       "6     0.000000   0.00000   0.000000   0.000000   0.000000   0.000000   \n",
       "7     0.000000   0.00000   0.000000   0.000000   0.000000   0.000000   \n",
       "8     0.000000   0.00000   0.000000   0.000000   0.000000   0.000000   \n",
       "9     0.000000   0.00000   0.000000   0.000000   0.000000   0.000000   \n",
       "\n",
       "           6          7          8          9  \n",
       "0   0.000000   0.000000   0.000000   0.000000  \n",
       "1   0.000000   0.000000   0.000000   0.000000  \n",
       "2   0.000000   0.000000   0.000000   0.000000  \n",
       "3   0.000000   0.000000   0.000000   0.000000  \n",
       "4   0.000000   0.000000   0.000000   0.000000  \n",
       "5   0.000000   0.000000   0.000000   0.000000  \n",
       "6  34.149464   0.000000   0.000000   0.000000  \n",
       "7   0.000000  32.264965   0.000000   0.000000  \n",
       "8   0.000000   0.000000  30.060269   0.000000  \n",
       "9   0.000000   0.000000   0.000000  29.758319  "
      ]
     },
     "execution_count": 18,
     "metadata": {},
     "output_type": "execute_result"
    }
   ],
   "source": [
    "svd_p = np.array(svd_p)\n",
    "u, s, vt = np.linalg.svd(svd_p, full_matrices=False)\n",
    "sigma = np.diag(s)\n",
    "print(u.shape, sigma.shape, vt.shape)\n",
    "pd.DataFrame(sigma[:10, :10])"
   ]
  },
  {
   "cell_type": "code",
   "execution_count": 19,
   "metadata": {
    "_kg_hide-input": true,
    "_kg_hide-output": true,
    "_uuid": "34c55e6d29a1714226b2f0ed216152135c1ee8a1",
    "scrolled": false
   },
   "outputs": [
    {
     "data": {
      "text/html": [
       "<div>\n",
       "<style scoped>\n",
       "    .dataframe tbody tr th:only-of-type {\n",
       "        vertical-align: middle;\n",
       "    }\n",
       "\n",
       "    .dataframe tbody tr th {\n",
       "        vertical-align: top;\n",
       "    }\n",
       "\n",
       "    .dataframe thead th {\n",
       "        text-align: right;\n",
       "    }\n",
       "</style>\n",
       "<table border=\"1\" class=\"dataframe\">\n",
       "  <thead>\n",
       "    <tr style=\"text-align: right;\">\n",
       "      <th></th>\n",
       "      <th>0</th>\n",
       "      <th>1</th>\n",
       "      <th>2</th>\n",
       "      <th>3</th>\n",
       "      <th>4</th>\n",
       "      <th>5</th>\n",
       "      <th>6</th>\n",
       "      <th>7</th>\n",
       "      <th>8</th>\n",
       "      <th>9</th>\n",
       "    </tr>\n",
       "  </thead>\n",
       "  <tbody>\n",
       "    <tr>\n",
       "      <th>0</th>\n",
       "      <td>4.046208</td>\n",
       "      <td>3.134853</td>\n",
       "      <td>3.806769</td>\n",
       "      <td>3.655800</td>\n",
       "      <td>2.969818</td>\n",
       "      <td>4.107507</td>\n",
       "      <td>4.145638</td>\n",
       "      <td>3.824170</td>\n",
       "      <td>4.432500</td>\n",
       "      <td>3.638340</td>\n",
       "    </tr>\n",
       "    <tr>\n",
       "      <th>1</th>\n",
       "      <td>4.117208</td>\n",
       "      <td>3.385481</td>\n",
       "      <td>3.278004</td>\n",
       "      <td>3.537121</td>\n",
       "      <td>3.333670</td>\n",
       "      <td>4.085825</td>\n",
       "      <td>3.511899</td>\n",
       "      <td>3.956142</td>\n",
       "      <td>3.924821</td>\n",
       "      <td>4.105132</td>\n",
       "    </tr>\n",
       "    <tr>\n",
       "      <th>2</th>\n",
       "      <td>3.437468</td>\n",
       "      <td>2.629064</td>\n",
       "      <td>2.471522</td>\n",
       "      <td>3.122192</td>\n",
       "      <td>2.938676</td>\n",
       "      <td>3.380326</td>\n",
       "      <td>3.758950</td>\n",
       "      <td>4.151197</td>\n",
       "      <td>3.719288</td>\n",
       "      <td>3.398250</td>\n",
       "    </tr>\n",
       "    <tr>\n",
       "      <th>3</th>\n",
       "      <td>4.678449</td>\n",
       "      <td>4.091196</td>\n",
       "      <td>4.054334</td>\n",
       "      <td>4.148908</td>\n",
       "      <td>4.095731</td>\n",
       "      <td>4.801707</td>\n",
       "      <td>4.269675</td>\n",
       "      <td>4.417162</td>\n",
       "      <td>4.593331</td>\n",
       "      <td>4.829538</td>\n",
       "    </tr>\n",
       "    <tr>\n",
       "      <th>4</th>\n",
       "      <td>3.217502</td>\n",
       "      <td>2.554633</td>\n",
       "      <td>2.804608</td>\n",
       "      <td>3.006256</td>\n",
       "      <td>2.640993</td>\n",
       "      <td>3.114872</td>\n",
       "      <td>3.333294</td>\n",
       "      <td>3.441495</td>\n",
       "      <td>3.518919</td>\n",
       "      <td>3.341342</td>\n",
       "    </tr>\n",
       "    <tr>\n",
       "      <th>5</th>\n",
       "      <td>3.646967</td>\n",
       "      <td>2.634448</td>\n",
       "      <td>2.926123</td>\n",
       "      <td>3.180021</td>\n",
       "      <td>3.038208</td>\n",
       "      <td>3.481281</td>\n",
       "      <td>2.924350</td>\n",
       "      <td>3.800642</td>\n",
       "      <td>3.881775</td>\n",
       "      <td>4.076492</td>\n",
       "    </tr>\n",
       "    <tr>\n",
       "      <th>6</th>\n",
       "      <td>4.034423</td>\n",
       "      <td>3.619312</td>\n",
       "      <td>3.317878</td>\n",
       "      <td>3.839601</td>\n",
       "      <td>3.935731</td>\n",
       "      <td>3.779605</td>\n",
       "      <td>4.081024</td>\n",
       "      <td>4.231017</td>\n",
       "      <td>4.419463</td>\n",
       "      <td>4.305721</td>\n",
       "    </tr>\n",
       "    <tr>\n",
       "      <th>7</th>\n",
       "      <td>4.331660</td>\n",
       "      <td>3.529902</td>\n",
       "      <td>3.435795</td>\n",
       "      <td>3.755186</td>\n",
       "      <td>3.428542</td>\n",
       "      <td>4.048429</td>\n",
       "      <td>3.662222</td>\n",
       "      <td>4.111709</td>\n",
       "      <td>4.147701</td>\n",
       "      <td>4.058041</td>\n",
       "    </tr>\n",
       "    <tr>\n",
       "      <th>8</th>\n",
       "      <td>4.595878</td>\n",
       "      <td>3.521081</td>\n",
       "      <td>3.520901</td>\n",
       "      <td>3.831720</td>\n",
       "      <td>3.728502</td>\n",
       "      <td>4.410904</td>\n",
       "      <td>4.005939</td>\n",
       "      <td>4.193736</td>\n",
       "      <td>4.018170</td>\n",
       "      <td>4.364065</td>\n",
       "    </tr>\n",
       "    <tr>\n",
       "      <th>9</th>\n",
       "      <td>4.113933</td>\n",
       "      <td>3.434080</td>\n",
       "      <td>3.540219</td>\n",
       "      <td>3.761381</td>\n",
       "      <td>3.576478</td>\n",
       "      <td>4.149051</td>\n",
       "      <td>3.935102</td>\n",
       "      <td>4.191976</td>\n",
       "      <td>4.142839</td>\n",
       "      <td>4.391246</td>\n",
       "    </tr>\n",
       "  </tbody>\n",
       "</table>\n",
       "</div>"
      ],
      "text/plain": [
       "          0         1         2         3         4         5         6  \\\n",
       "0  4.046208  3.134853  3.806769  3.655800  2.969818  4.107507  4.145638   \n",
       "1  4.117208  3.385481  3.278004  3.537121  3.333670  4.085825  3.511899   \n",
       "2  3.437468  2.629064  2.471522  3.122192  2.938676  3.380326  3.758950   \n",
       "3  4.678449  4.091196  4.054334  4.148908  4.095731  4.801707  4.269675   \n",
       "4  3.217502  2.554633  2.804608  3.006256  2.640993  3.114872  3.333294   \n",
       "5  3.646967  2.634448  2.926123  3.180021  3.038208  3.481281  2.924350   \n",
       "6  4.034423  3.619312  3.317878  3.839601  3.935731  3.779605  4.081024   \n",
       "7  4.331660  3.529902  3.435795  3.755186  3.428542  4.048429  3.662222   \n",
       "8  4.595878  3.521081  3.520901  3.831720  3.728502  4.410904  4.005939   \n",
       "9  4.113933  3.434080  3.540219  3.761381  3.576478  4.149051  3.935102   \n",
       "\n",
       "          7         8         9  \n",
       "0  3.824170  4.432500  3.638340  \n",
       "1  3.956142  3.924821  4.105132  \n",
       "2  4.151197  3.719288  3.398250  \n",
       "3  4.417162  4.593331  4.829538  \n",
       "4  3.441495  3.518919  3.341342  \n",
       "5  3.800642  3.881775  4.076492  \n",
       "6  4.231017  4.419463  4.305721  \n",
       "7  4.111709  4.147701  4.058041  \n",
       "8  4.193736  4.018170  4.364065  \n",
       "9  4.191976  4.142839  4.391246  "
      ]
     },
     "execution_count": 19,
     "metadata": {},
     "output_type": "execute_result"
    }
   ],
   "source": [
    "pd.DataFrame(np.matmul(u, np.matmul(sigma, vt))).iloc[:10, :10]"
   ]
  },
  {
   "cell_type": "markdown",
   "metadata": {
    "_uuid": "f17fdc58412d21beb1cabc4f2cd478c21053b7bc"
   },
   "source": [
    "---"
   ]
  },
  {
   "cell_type": "markdown",
   "metadata": {
    "_uuid": "d419bc14f018b99bf2efd38a578aeac94563d14f"
   },
   "source": [
    "Cross-Validation for SVD."
   ]
  },
  {
   "cell_type": "code",
   "execution_count": 20,
   "metadata": {
    "_uuid": "c64836be2063478e7c9fd6078eaf57474c147e74"
   },
   "outputs": [],
   "source": [
    "#from surprise.model_selection import GridSearchCV\n",
    "#from surprise.model_selection import cross_validate\n",
    "\n",
    "#param_grid = {'n_factors': [110, 120, 140, 160], 'n_epochs': [90, 100, 110], 'lr_all': [0.001, 0.003, 0.005, 0.008],\n",
    "#              'reg_all': [0.08, 0.1, 0.15]}\n",
    "#gs = GridSearchCV(SVD, param_grid, measures=['rmse', 'mae'], cv=5)\n",
    "#gs.fit(data)\n",
    "#algo = gs.best_estimator['rmse']\n",
    "#print(gs.best_score['rmse'])\n",
    "#print(gs.best_params['rmse'])\n",
    "#cross_validate(algo, data, measures=['RMSE', 'MAE'], cv=5, verbose=True)"
   ]
  },
  {
   "cell_type": "code",
   "execution_count": 22,
   "metadata": {
    "_uuid": "c64836be2063478e7c9fd6078eaf57474c147e74"
   },
   "outputs": [],
   "source": [
    "# param_grid = {'n_factors': [70, 80, 90, 100, 110, 120, 130, 140, 150, 160], 'n_epochs': [100], 'reg_all': [0.1]}\n",
    "# gs_svd = GridSearchCV(SVD, param_grid, measures=['rmse', 'mae'], cv=5)\n",
    "# gs_svd.fit(data)\n",
    "# svd = gs_svd.best_estimator['rmse']\n",
    "# print(gs_svd.best_score['rmse'])\n",
    "# print(gs_svd.best_params['rmse'])"
   ]
  },
  {
   "cell_type": "code",
   "execution_count": 25,
   "metadata": {
    "_kg_hide-input": true,
    "_uuid": "0a94d2d21267a68f5163183ee1bb5adf8833bd3f"
   },
   "outputs": [],
   "source": [
    "# cv_results_svd = pd.DataFrame(gs_svd.cv_results)\n",
    "# fig = plt.figure(figsize=(15, 6))\n",
    "# plt.subplot(121)\n",
    "# plt.plot(cv_results_svd['mean_test_rmse'])\n",
    "# plt.xticks(np.arange(10), np.arange(70, 170, 10), fontsize=13)\n",
    "# plt.yticks(fontsize=13)\n",
    "# plt.xlabel('number of latent factors', fontsize=16)\n",
    "# plt.ylabel('Root Mean Square Error (RMSE)', fontsize=16)\n",
    "# plt.grid()\n",
    "# plt.legend()\n",
    "# plt.subplot(122)\n",
    "# plt.plot(cv_results_svd['mean_test_mae'])\n",
    "# plt.xticks(np.arange(10), np.arange(70, 170, 10), fontsize=13)\n",
    "# plt.yticks(fontsize=13)\n",
    "# plt.xlabel('number of latent factors', fontsize=16)\n",
    "# plt.ylabel('Mean Absolute Error (MAE)', fontsize=16)\n",
    "# plt.grid()\n",
    "# plt.legend()\n",
    "# plt.show()"
   ]
  },
  {
   "cell_type": "markdown",
   "metadata": {
    "_uuid": "2e49f1461954cdc629257f6f56bb10d65ff9491d"
   },
   "source": [
    "Use the CV best model to recommend movies for user 196."
   ]
  },
  {
   "cell_type": "code",
   "execution_count": 24,
   "metadata": {
    "_uuid": "2db966c95e6b4613edf9c31616994021f561afab",
    "scrolled": false
   },
   "outputs": [
    {
     "name": "stderr",
     "output_type": "stream",
     "text": [
      "/anaconda3/lib/python3.6/site-packages/surprise/evaluate.py:66: UserWarning: The evaluate() method is deprecated. Please use model_selection.cross_validate() instead.\n",
      "  'model_selection.cross_validate() instead.', UserWarning)\n",
      "/anaconda3/lib/python3.6/site-packages/surprise/dataset.py:193: UserWarning: Using data.split() or using load_from_folds() without using a CV iterator is now deprecated. \n",
      "  UserWarning)\n"
     ]
    },
    {
     "name": "stdout",
     "output_type": "stream",
     "text": [
      "Evaluating RMSE, MAE of algorithm SVD.\n",
      "\n",
      "------------\n",
      "Fold 1\n",
      "RMSE: 0.9395\n",
      "MAE:  0.7418\n",
      "------------\n",
      "Fold 2\n",
      "RMSE: 0.9384\n",
      "MAE:  0.7369\n",
      "------------\n",
      "Fold 3\n",
      "RMSE: 0.9363\n",
      "MAE:  0.7386\n",
      "------------\n",
      "Fold 4\n",
      "RMSE: 0.9336\n",
      "MAE:  0.7365\n",
      "------------\n",
      "Fold 5\n",
      "RMSE: 0.9368\n",
      "MAE:  0.7419\n",
      "------------\n",
      "------------\n",
      "Mean RMSE: 0.9369\n",
      "Mean MAE : 0.7392\n",
      "------------\n",
      "------------\n"
     ]
    },
    {
     "data": {
      "text/plain": [
       "<surprise.prediction_algorithms.matrix_factorization.SVD at 0x114653080>"
      ]
     },
     "execution_count": 24,
     "metadata": {},
     "output_type": "execute_result"
    }
   ],
   "source": [
    "eval_svd = evaluate(svd, data, measures=['RMSE', 'MAE'])\n",
    "trainset = data.build_full_trainset()\n",
    "svd.fit(trainset)"
   ]
  },
  {
   "cell_type": "code",
   "execution_count": 26,
   "metadata": {
    "_uuid": "fcf87bba7a4eaf0ba7a49408cf6312d47cf5f61f",
    "scrolled": true
   },
   "outputs": [
    {
     "name": "stdout",
     "output_type": "stream",
     "text": [
      "movie_id\n",
      "8                                 Dead Man Walking (1995)\n",
      "13                                     Postino, Il (1994)\n",
      "25                          Brothers McMullen, The (1995)\n",
      "66                      Ace Ventura: Pet Detective (1994)\n",
      "67                                       Crow, The (1994)\n",
      "70                                  Lion King, The (1994)\n",
      "94                                         Aladdin (1992)\n",
      "108        Mystery Science Theater 3000: The Movie (1996)\n",
      "110                   Truth About Cats & Dogs, The (1996)\n",
      "111                                        Flipper (1996)\n",
      "116                                      Rock, The (1996)\n",
      "153                   Monty Python's Life of Brian (1979)\n",
      "173                        Raiders of the Lost Ark (1981)\n",
      "202                                     Unforgiven (1992)\n",
      "238                                       Sneakers (1992)\n",
      "242                                  Jungle2Jungle (1997)\n",
      "251                 Lost World: Jurassic Park, The (1997)\n",
      "257                                        Contact (1997)\n",
      "269                                        Gattaca (1997)\n",
      "285                           English Patient, The (1996)\n",
      "286                                  Marvin's Room (1996)\n",
      "287                                         Scream (1996)\n",
      "306                          Devil's Advocate, The (1997)\n",
      "340                                  Critical Care (1997)\n",
      "381     Adventures of Priscilla, Queen of the Desert, ...\n",
      "382                               Flintstones, The (1994)\n",
      "393                              Radioland Murders (1994)\n",
      "411                           Very Brady Sequel, A (1996)\n",
      "428                 Day the Earth Stood Still, The (1951)\n",
      "580                                     Kalifornia (1993)\n",
      "655                                              M (1931)\n",
      "663                                   Paris, Texas (1984)\n",
      "692                                         Casino (1995)\n",
      "762                                  Happy Gilmore (1996)\n",
      "845                To Gillian on Her 37th Birthday (1996)\n",
      "1007                            I Shot Andy Warhol (1996)\n",
      "1022                                  Fathers' Day (1997)\n",
      "1118                        Some Kind of Wonderful (1987)\n",
      "1241    Old Lady Who Walked in the Sea, The (Vieille q...\n",
      "Name: title, dtype: object\n"
     ]
    }
   ],
   "source": [
    "df_196 = ratings[ratings['user_id'] == 196]\n",
    "df_196 = df_196.set_index('movie_id')\n",
    "df_196 = df_196.join(movies)['title']\n",
    "print(df_196.sort_index())"
   ]
  },
  {
   "cell_type": "code",
   "execution_count": 27,
   "metadata": {
    "_uuid": "0bf63751a567dd4217d8fa5939584f0cc03f99a4",
    "scrolled": false
   },
   "outputs": [
    {
     "name": "stdout",
     "output_type": "stream",
     "text": [
      "                                                 title release_date  \\\n",
      "407                              Close Shave, A (1995)   1996-04-28   \n",
      "317                            Schindler's List (1993)   1993-01-01   \n",
      "168                         Wrong Trousers, The (1993)   1993-01-01   \n",
      "63                    Shawshank Redemption, The (1994)   1994-01-01   \n",
      "482                                  Casablanca (1942)   1942-01-01   \n",
      "113  Wallace & Gromit: The Best of Aardman Animatio...   1996-04-05   \n",
      "602                                 Rear Window (1954)   1954-01-01   \n",
      "177                                12 Angry Men (1957)   1957-01-01   \n",
      "11                          Usual Suspects, The (1995)   1995-08-14   \n",
      "512                              Third Man, The (1949)   1949-01-01   \n",
      "\n",
      "     Estimate_Score  \n",
      "407        4.577329  \n",
      "317        4.566657  \n",
      "168        4.550977  \n",
      "63         4.547143  \n",
      "482        4.538884  \n",
      "113        4.500653  \n",
      "602        4.450221  \n",
      "177        4.446165  \n",
      "11         4.426820  \n",
      "512        4.412317  \n"
     ]
    },
    {
     "name": "stderr",
     "output_type": "stream",
     "text": [
      "/anaconda3/lib/python3.6/site-packages/ipykernel_launcher.py:2: SettingWithCopyWarning: \n",
      "A value is trying to be set on a copy of a slice from a DataFrame.\n",
      "Try using .loc[row_indexer,col_indexer] = value instead\n",
      "\n",
      "See the caveats in the documentation: http://pandas.pydata.org/pandas-docs/stable/indexing.html#indexing-view-versus-copy\n",
      "  \n"
     ]
    }
   ],
   "source": [
    "user_196_svd = movies[['movie_id', 'title', 'release_date']]\n",
    "user_196_svd['Estimate_Score'] = user_196_svd['movie_id'].apply(lambda x: svd.predict('196', x).est)\n",
    "user_196_svd = user_196_svd.drop('movie_id', axis = 1)\n",
    "user_196_svd = user_196_svd.sort_values('Estimate_Score', ascending=False)\n",
    "print(user_196_svd.head(10))"
   ]
  },
  {
   "cell_type": "markdown",
   "metadata": {
    "_uuid": "f218dd8f7cf2fa3879fe0a5a3ebfa9783c430877"
   },
   "source": [
    "- **SVD++ Model**\n",
    "\n",
    "Improved SVD model with implicit terms."
   ]
  },
  {
   "cell_type": "code",
   "execution_count": 28,
   "metadata": {
    "_uuid": "74546ab7faa541ded607593ba079c959b8bcdde2",
    "collapsed": true
   },
   "outputs": [
    {
     "name": "stderr",
     "output_type": "stream",
     "text": [
      "/anaconda3/lib/python3.6/site-packages/surprise/evaluate.py:66: UserWarning: The evaluate() method is deprecated. Please use model_selection.cross_validate() instead.\n",
      "  'model_selection.cross_validate() instead.', UserWarning)\n",
      "/anaconda3/lib/python3.6/site-packages/surprise/dataset.py:193: UserWarning: Using data.split() or using load_from_folds() without using a CV iterator is now deprecated. \n",
      "  UserWarning)\n"
     ]
    },
    {
     "name": "stdout",
     "output_type": "stream",
     "text": [
      "Evaluating RMSE, MAE of algorithm SVDpp.\n",
      "\n",
      "------------\n",
      "Fold 1\n"
     ]
    },
    {
     "ename": "KeyboardInterrupt",
     "evalue": "",
     "output_type": "error",
     "traceback": [
      "\u001b[0;31m---------------------------------------------------------------------------\u001b[0m",
      "\u001b[0;31mKeyboardInterrupt\u001b[0m                         Traceback (most recent call last)",
      "\u001b[0;32m<ipython-input-28-ecbccd4fca1d>\u001b[0m in \u001b[0;36m<module>\u001b[0;34m()\u001b[0m\n\u001b[1;32m      1\u001b[0m \u001b[0msvdpp\u001b[0m \u001b[0;34m=\u001b[0m \u001b[0mSVDpp\u001b[0m\u001b[0;34m(\u001b[0m\u001b[0;34m)\u001b[0m\u001b[0;34m\u001b[0m\u001b[0;34m\u001b[0m\u001b[0m\n\u001b[0;32m----> 2\u001b[0;31m \u001b[0mevaluate\u001b[0m\u001b[0;34m(\u001b[0m\u001b[0msvdpp\u001b[0m\u001b[0;34m,\u001b[0m \u001b[0mdata\u001b[0m\u001b[0;34m,\u001b[0m \u001b[0mmeasures\u001b[0m\u001b[0;34m=\u001b[0m\u001b[0;34m[\u001b[0m\u001b[0;34m'RMSE'\u001b[0m\u001b[0;34m,\u001b[0m \u001b[0;34m'MAE'\u001b[0m\u001b[0;34m]\u001b[0m\u001b[0;34m)\u001b[0m\u001b[0;34m\u001b[0m\u001b[0;34m\u001b[0m\u001b[0m\n\u001b[0m",
      "\u001b[0;32m/anaconda3/lib/python3.6/site-packages/surprise/evaluate.py\u001b[0m in \u001b[0;36mevaluate\u001b[0;34m(algo, data, measures, with_dump, dump_dir, verbose)\u001b[0m\n\u001b[1;32m     81\u001b[0m \u001b[0;34m\u001b[0m\u001b[0m\n\u001b[1;32m     82\u001b[0m         \u001b[0;31m# train and test algorithm. Keep all rating predictions in a list\u001b[0m\u001b[0;34m\u001b[0m\u001b[0;34m\u001b[0m\u001b[0;34m\u001b[0m\u001b[0m\n\u001b[0;32m---> 83\u001b[0;31m         \u001b[0malgo\u001b[0m\u001b[0;34m.\u001b[0m\u001b[0mfit\u001b[0m\u001b[0;34m(\u001b[0m\u001b[0mtrainset\u001b[0m\u001b[0;34m)\u001b[0m\u001b[0;34m\u001b[0m\u001b[0;34m\u001b[0m\u001b[0m\n\u001b[0m\u001b[1;32m     84\u001b[0m         \u001b[0mpredictions\u001b[0m \u001b[0;34m=\u001b[0m \u001b[0malgo\u001b[0m\u001b[0;34m.\u001b[0m\u001b[0mtest\u001b[0m\u001b[0;34m(\u001b[0m\u001b[0mtestset\u001b[0m\u001b[0;34m,\u001b[0m \u001b[0mverbose\u001b[0m\u001b[0;34m=\u001b[0m\u001b[0;34m(\u001b[0m\u001b[0mverbose\u001b[0m \u001b[0;34m==\u001b[0m \u001b[0;36m2\u001b[0m\u001b[0;34m)\u001b[0m\u001b[0;34m)\u001b[0m\u001b[0;34m\u001b[0m\u001b[0;34m\u001b[0m\u001b[0m\n\u001b[1;32m     85\u001b[0m \u001b[0;34m\u001b[0m\u001b[0m\n",
      "\u001b[0;32m/anaconda3/lib/python3.6/site-packages/surprise/prediction_algorithms/matrix_factorization.pyx\u001b[0m in \u001b[0;36msurprise.prediction_algorithms.matrix_factorization.SVDpp.fit\u001b[0;34m()\u001b[0m\n",
      "\u001b[0;32m/anaconda3/lib/python3.6/site-packages/surprise/prediction_algorithms/matrix_factorization.pyx\u001b[0m in \u001b[0;36msurprise.prediction_algorithms.matrix_factorization.SVDpp.sgd\u001b[0;34m()\u001b[0m\n",
      "\u001b[0;32m/anaconda3/lib/python3.6/site-packages/surprise/trainset.py\u001b[0m in \u001b[0;36mall_ratings\u001b[0;34m(self)\u001b[0m\n\u001b[1;32m    188\u001b[0m         \u001b[0;32mfor\u001b[0m \u001b[0mu\u001b[0m\u001b[0;34m,\u001b[0m \u001b[0mu_ratings\u001b[0m \u001b[0;32min\u001b[0m \u001b[0miteritems\u001b[0m\u001b[0;34m(\u001b[0m\u001b[0mself\u001b[0m\u001b[0;34m.\u001b[0m\u001b[0mur\u001b[0m\u001b[0;34m)\u001b[0m\u001b[0;34m:\u001b[0m\u001b[0;34m\u001b[0m\u001b[0;34m\u001b[0m\u001b[0m\n\u001b[1;32m    189\u001b[0m             \u001b[0;32mfor\u001b[0m \u001b[0mi\u001b[0m\u001b[0;34m,\u001b[0m \u001b[0mr\u001b[0m \u001b[0;32min\u001b[0m \u001b[0mu_ratings\u001b[0m\u001b[0;34m:\u001b[0m\u001b[0;34m\u001b[0m\u001b[0;34m\u001b[0m\u001b[0m\n\u001b[0;32m--> 190\u001b[0;31m                 \u001b[0;32myield\u001b[0m \u001b[0mu\u001b[0m\u001b[0;34m,\u001b[0m \u001b[0mi\u001b[0m\u001b[0;34m,\u001b[0m \u001b[0mr\u001b[0m\u001b[0;34m\u001b[0m\u001b[0;34m\u001b[0m\u001b[0m\n\u001b[0m\u001b[1;32m    191\u001b[0m \u001b[0;34m\u001b[0m\u001b[0m\n\u001b[1;32m    192\u001b[0m     \u001b[0;32mdef\u001b[0m \u001b[0mbuild_testset\u001b[0m\u001b[0;34m(\u001b[0m\u001b[0mself\u001b[0m\u001b[0;34m)\u001b[0m\u001b[0;34m:\u001b[0m\u001b[0;34m\u001b[0m\u001b[0;34m\u001b[0m\u001b[0m\n",
      "\u001b[0;31mKeyboardInterrupt\u001b[0m: "
     ]
    }
   ],
   "source": [
    "svdpp = SVDpp()\n",
    "evaluate(svdpp, data, measures=['RMSE', 'MAE'])"
   ]
  },
  {
   "cell_type": "markdown",
   "metadata": {
    "_uuid": "4a248a7679c6af0a6e92a6da0adf07b4081836f4"
   },
   "source": [
    "Grid Search on SVDpp model"
   ]
  },
  {
   "cell_type": "code",
   "execution_count": null,
   "metadata": {
    "_uuid": "c48bc7c43d02c172e6dfa2d943182c1bc33d9e79"
   },
   "outputs": [],
   "source": [
    "# param_grid = {'lr_all': [0.001, 0.003, 0.005, 0.007, 0.009], 'reg_all': [0.005, 0.01, 0.015, 0.02, 0.025]}\n",
    "# gs_svdpp = GridSearchCV(SVDpp, param_grid, measures=['rmse', 'mae'], cv=3)\n",
    "# gs_svdpp.fit(data)\n",
    "# svdpp = gs_svdpp.best_estimator['rmse']\n",
    "# print(gs_svdpp.best_score['rmse'])\n",
    "# print(gs_svdpp.best_params['rmse'])"
   ]
  },
  {
   "cell_type": "code",
   "execution_count": null,
   "metadata": {
    "_kg_hide-input": true,
    "_uuid": "a583331762eb76b9490d87d621d2e8aa76b23aa7"
   },
   "outputs": [],
   "source": [
    "# cv_results_svdpp = pd.DataFrame(gs_svdpp.cv_results)\n",
    "# svdpp_rmse = np.array(cv_results_svdpp['mean_test_rmse']).reshape(5,5)\n",
    "# svdpp_mae = np.array(cv_results_svdpp['mean_test_mae']).reshape(5,5)\n",
    "# fig = plt.figure(figsize=(15,6))\n",
    "# ax1 = plt.subplot(121)\n",
    "# im1 = ax1.imshow(svdpp_rmse)\n",
    "# cbar = ax1.figure.colorbar(im1, ax=ax1)\n",
    "# ax1.set_xticks(np.arange(5))\n",
    "# ax1.set_yticks(np.arange(5))\n",
    "# ax1.set_xticklabels(param_grid['lr_all'], fontsize=13)\n",
    "# ax1.set_yticklabels(param_grid['reg_all'], fontsize=13)\n",
    "# for i in range(5):\n",
    "#     for j in range(5):\n",
    "#         text = ax1.text(j, i, round(svdpp_rmse[i][j], 4), ha=\"center\", va=\"center\", color=\"w\")\n",
    "# ax1.set_xlabel('reg_all', fontsize=16)\n",
    "# ax1.set_ylabel('lr_all', fontsize=16)\n",
    "# ax1.set_title('Root Mean Square Error (RMSE)', fontsize=16)\n",
    "# ax2 = plt.subplot(122)\n",
    "# im2 = ax2.imshow(svdpp_mae)\n",
    "# cbar = ax2.figure.colorbar(im2, ax=ax2)\n",
    "# ax2.set_xticks(np.arange(5))\n",
    "# ax2.set_yticks(np.arange(5))\n",
    "# ax2.set_xticklabels(param_grid['lr_all'], fontsize=13)\n",
    "# ax2.set_yticklabels(param_grid['reg_all'], fontsize=13)\n",
    "# for i in range(5):\n",
    "#     for j in range(5):\n",
    "#         text = ax2.text(j, i, round(svdpp_mae[i][j], 4), ha=\"center\", va=\"center\", color=\"w\")\n",
    "# ax2.set_xlabel('reg_all', fontsize=16)\n",
    "# ax2.set_ylabel('lr_all', fontsize=16)\n",
    "# ax2.set_title('Mean Absolute Error (MAE)', fontsize=16)\n",
    "# plt.show()"
   ]
  },
  {
   "cell_type": "markdown",
   "metadata": {
    "_uuid": "3384eea24713f9438f90952445f437e740dda50a"
   },
   "source": [
    "And here is the CV best model's proformance."
   ]
  },
  {
   "cell_type": "code",
   "execution_count": null,
   "metadata": {
    "_uuid": "c41f48a25ee4ef080e40a93468a8ece3c950a95d"
   },
   "outputs": [],
   "source": [
    "eval_svdpp = evaluate(svdpp, data, measures=['RMSE', 'MAE'])"
   ]
  },
  {
   "cell_type": "markdown",
   "metadata": {
    "_uuid": "e027a16f2c7333117c3dabb425b3d79743469e07"
   },
   "source": [
    "- **NMF Model**\n",
    "\n",
    "Non-Negative Matrix Factoraization."
   ]
  },
  {
   "cell_type": "code",
   "execution_count": null,
   "metadata": {
    "_uuid": "0ff46674597c449069fca907c73b82c2c20bd9c2"
   },
   "outputs": [],
   "source": [
    "nmf = NMF()\n",
    "evaluate(nmf, data, measures=['RMSE', 'MAE'])"
   ]
  },
  {
   "cell_type": "markdown",
   "metadata": {
    "_uuid": "033c272f7b9a19a37c1ee19751bfde748e6363be"
   },
   "source": [
    "NMF model with biased term. (Similar to SVD)\n",
    "\n",
    "Reduce n_factors to avoid over-fitting."
   ]
  },
  {
   "cell_type": "code",
   "execution_count": null,
   "metadata": {
    "_uuid": "60cc7b01b7b4146af7ab465f289392e64949e93b"
   },
   "outputs": [],
   "source": [
    "# param_grid = {'n_factors': [1,2,3,4,5,6,7,8,9,10], 'n_epochs': [100], 'biased': [True], 'reg_bu': [0.1], 'reg_bi': [0.1]}\n",
    "# gs_nmfb = GridSearchCV(NMF, param_grid, measures=['rmse', 'mae'], cv=3)\n",
    "# gs_nmfb.fit(data)\n",
    "# nmfb = gs_nmfb.best_estimator['rmse']\n",
    "# print(gs_nmfb.best_score['rmse'])\n",
    "# print(gs_nmfb.best_params['rmse'])"
   ]
  },
  {
   "cell_type": "code",
   "execution_count": null,
   "metadata": {
    "_kg_hide-input": true,
    "_uuid": "4d6ddb20748f0c92168fbf206f1d651cf077e7e5"
   },
   "outputs": [],
   "source": [
    "# cv_results_nmfb = pd.DataFrame(gs_nmfb.cv_results)\n",
    "# fig = plt.figure(figsize=(15, 6))\n",
    "# plt.subplot(121)\n",
    "# plt.plot(cv_results_nmfb['mean_test_rmse'])\n",
    "# plt.xticks(np.arange(10), np.arange(1, 11), fontsize=13)\n",
    "# plt.yticks(fontsize=13)\n",
    "# plt.xlabel('number of latent factors', fontsize=16)\n",
    "# plt.ylabel('Root Mean Square Error (RMSE)', fontsize=16)\n",
    "# plt.grid()\n",
    "# plt.legend()\n",
    "# plt.subplot(122)\n",
    "# plt.plot(cv_results_nmfb['mean_test_mae'])\n",
    "# plt.xticks(np.arange(10), np.arange(1, 11), fontsize=13)\n",
    "# plt.yticks(fontsize=13)\n",
    "# plt.xlabel('number of latent factors', fontsize=16)\n",
    "# plt.ylabel('Mean Absolute Error (MAE)', fontsize=16)\n",
    "# plt.grid()\n",
    "# plt.legend()\n",
    "# plt.show()"
   ]
  },
  {
   "cell_type": "code",
   "execution_count": null,
   "metadata": {
    "_uuid": "bd90be14c65982d8ceee8e04b7939ed5e05f5c88"
   },
   "outputs": [],
   "source": [
    "eval_nmfb = evaluate(nmfb, data, measures=['RMSE', 'MAE'])"
   ]
  },
  {
   "cell_type": "markdown",
   "metadata": {
    "_uuid": "f66537efc3bd0e39dbd8a1d74018d18a9bff7c9e"
   },
   "source": [
    "NMF model after grid search."
   ]
  },
  {
   "cell_type": "code",
   "execution_count": null,
   "metadata": {
    "_uuid": "3ee9d469e916c4693c882526e18ddef0a1a8d27f"
   },
   "outputs": [],
   "source": [
    "param_grid = {'n_factors': [200, 220, 240], 'n_epochs': [90, 100, 110]}\n",
    "gs_nmf = GridSearchCV(NMF, param_grid, measures=['rmse', 'mae'], cv=3)\n",
    "gs_nmf.fit(data)\n",
    "nmf = gs_nmf.best_estimator['rmse']\n",
    "print(gs_nmf.best_score['rmse'])\n",
    "print(gs_nmf.best_params['rmse'])"
   ]
  },
  {
   "cell_type": "code",
   "execution_count": null,
   "metadata": {
    "_uuid": "fb40b64c3491f4c3da18d2a99ea97183a2642a8f",
    "scrolled": false
   },
   "outputs": [],
   "source": [
    "eval_nmf = evaluate(nmf, data, measures=['RMSE', 'MAE'])"
   ]
  },
  {
   "cell_type": "markdown",
   "metadata": {
    "_uuid": "8585293e235070af6e825f5e37d2c268af4aa33d"
   },
   "source": [
    "- **kNN Model**\n",
    "\n",
    "K-Nearest Neighbour model with ALS baseline prediction.\n",
    "\n",
    "Alternating Least Square (ALS)"
   ]
  },
  {
   "cell_type": "code",
   "execution_count": null,
   "metadata": {
    "_uuid": "86a7858ac6075515751e425aa329c94b32299213"
   },
   "outputs": [],
   "source": [
    "knnb = KNNBaseline(k=50)\n",
    "evaluate(knnb, data, measures=['RMSE', 'MAE'])"
   ]
  },
  {
   "cell_type": "markdown",
   "metadata": {
    "_uuid": "7e1db0507f6cdba269a5955432c075188e86d43b"
   },
   "source": [
    "Item_based kNN model"
   ]
  },
  {
   "cell_type": "code",
   "execution_count": null,
   "metadata": {
    "_uuid": "bbc954a76122dc4ab8d92a935975a93574493322"
   },
   "outputs": [],
   "source": [
    "knnb_1 = KNNBaseline(k=60, sim_options = {'user_based': False})\n",
    "eval_knnb_1 = evaluate(knnb_1, data, measures=['RMSE', 'MAE'])"
   ]
  },
  {
   "cell_type": "markdown",
   "metadata": {
    "_uuid": "dd5714281c26745c22adf4b879c406888e1038fd"
   },
   "source": [
    "kNN with SGD baseline.\n",
    "\n",
    "Stochastic Gradient Descent (SGD)\n",
    "\n",
    "---\n",
    "\n",
    "Grid Search on kNN"
   ]
  },
  {
   "cell_type": "code",
   "execution_count": null,
   "metadata": {
    "_kg_hide-output": true,
    "_uuid": "2c2ff51912193f26d2b262ed302c2f605dbdd48e",
    "scrolled": true
   },
   "outputs": [],
   "source": [
    "param_grid = {'k': [10, 20, 30, 40, 50, 60, 70, 80, 90, 100], 'sim_options': {'user_based': [True, False]},\\\n",
    "              'bsl_options': {'method': ['als', 'sgd']}}\n",
    "gs_knn = GridSearchCV(KNNBaseline, param_grid, measures=['rmse', 'mae'], cv=3)\n",
    "gs_knn.fit(data)\n",
    "print(gs_knn.best_score['rmse'])\n",
    "print(gs_knn.best_params['rmse'])"
   ]
  },
  {
   "cell_type": "code",
   "execution_count": null,
   "metadata": {
    "_kg_hide-input": true,
    "_uuid": "8f68f7c362aebdbe397b665239058d186858ea10"
   },
   "outputs": [],
   "source": [
    "cv_results_knn = pd.DataFrame(gs_knn.cv_results)\n",
    "index = np.arange(0, 40, 4)\n",
    "fig = plt.figure(figsize=(15, 6))\n",
    "plt.subplot(121)\n",
    "plt.plot(cv_results_knn.loc[index, 'mean_test_rmse'].tolist(), label='user_based_als')\n",
    "plt.plot(cv_results_knn.loc[index+1, 'mean_test_rmse'].tolist(), label='user_based_sgd')\n",
    "plt.plot(cv_results_knn.loc[index+2, 'mean_test_rmse'].tolist(), label='item_based_als')\n",
    "plt.plot(cv_results_knn.loc[index+3, 'mean_test_rmse'].tolist(), label='item_based_sgd')\n",
    "#plt.errorbar(np.arange(10), cv_results_knn.loc[index, 'mean_test_rmse'].tolist(), cv_results_knn.loc[index, 'std_test_rmse'].tolist(), capsize=8, label='user_based_als')\n",
    "#plt.errorbar(np.arange(10), cv_results_knn.loc[index+1, 'mean_test_rmse'].tolist(), cv_results_knn.loc[index+1, 'std_test_rmse'].tolist(), capsize=8, label='user_based_sgd')\n",
    "#plt.errorbar(np.arange(10), cv_results_knn.loc[index+2, 'mean_test_rmse'].tolist(), cv_results_knn.loc[index+2, 'std_test_rmse'].tolist(), capsize=8, label='item_based_als')\n",
    "#plt.errorbar(np.arange(10), cv_results_knn.loc[index+3, 'mean_test_rmse'].tolist(), cv_results_knn.loc[index+3, 'std_test_rmse'].tolist(), capsize=8, label='item_based_sgd')\n",
    "plt.xticks(np.arange(10), np.arange(10, 110, 10), fontsize=13)\n",
    "plt.yticks(fontsize=13)\n",
    "plt.xlabel('number of neighbors (k)', fontsize=16)\n",
    "plt.ylabel('Root Mean Square Error (RMSE)', fontsize=16)\n",
    "plt.grid()\n",
    "plt.legend()\n",
    "plt.subplot(122)\n",
    "plt.plot(cv_results_knn.loc[index, 'mean_test_mae'].tolist(), label='user_based_als')\n",
    "plt.plot(cv_results_knn.loc[index+1, 'mean_test_mae'].tolist(), label='user_based_sgd')\n",
    "plt.plot(cv_results_knn.loc[index+2, 'mean_test_mae'].tolist(), label='item_based_als')\n",
    "plt.plot(cv_results_knn.loc[index+3, 'mean_test_mae'].tolist(), label='item_based_sgd')\n",
    "#plt.errorbar(np.arange(10), cv_results_knn.loc[index, 'mean_test_mae'].tolist(), cv_results_knn.loc[index, 'std_test_mae'].tolist(), capsize=8, label='user_based_als')\n",
    "#plt.errorbar(np.arange(10), cv_results_knn.loc[index+1, 'mean_test_mae'].tolist(), cv_results_knn.loc[index+1, 'std_test_mae'].tolist(), capsize=8, label='user_based_sgd')\n",
    "#plt.errorbar(np.arange(10), cv_results_knn.loc[index+2, 'mean_test_mae'].tolist(), cv_results_knn.loc[index+2, 'std_test_mae'].tolist(), capsize=8, label='item_based_als')\n",
    "#plt.errorbar(np.arange(10), cv_results_knn.loc[index+3, 'mean_test_mae'].tolist(), cv_results_knn.loc[index+3, 'std_test_mae'].tolist(), capsize=8, label='item_based_sgd')\n",
    "plt.xticks(np.arange(10), np.arange(10, 110, 10), fontsize=13)\n",
    "plt.yticks(fontsize=13)\n",
    "plt.xlabel('number of neighbors (k)', fontsize=16)\n",
    "plt.ylabel('Mean Absolute Error (MAE)', fontsize=16)\n",
    "plt.grid()\n",
    "plt.legend()\n",
    "plt.show()"
   ]
  },
  {
   "cell_type": "code",
   "execution_count": null,
   "metadata": {
    "_uuid": "c1f763633f7ba0c869fca9886e96e8981eef02d0",
    "scrolled": false
   },
   "outputs": [],
   "source": [
    "knnb = KNNBaseline(k=70, sim_options = {'user_based': False}, bsl_options = {'method': 'sgd', 'n_epochs': 100})\n",
    "eval_knnb = evaluate(knnb, data, measures=['RMSE', 'MAE'])"
   ]
  },
  {
   "cell_type": "code",
   "execution_count": null,
   "metadata": {
    "_kg_hide-input": true,
    "_uuid": "bdeb811a953babe8a5b09f557425bfb69c7a19d2",
    "scrolled": true
   },
   "outputs": [],
   "source": [
    "### All models after grid search.\n",
    "svd = SVD(n_factors=140, n_epochs=100, reg_all=0.1)\n",
    "eval_svd = evaluate(svd, data, measures=['RMSE', 'MAE'])\n",
    "svdpp = SVDpp(lr_all=0.005, reg_all=0.015)\n",
    "eval_svdpp = evaluate(svdpp, data, measures=['RMSE', 'MAE'])\n",
    "nmfb = NMF(n_factors=3, n_epochs=100, biased=True, reg_bu=0.1, reg_bi=0.1)\n",
    "eval_nmfb = evaluate(nmfb, data, measures=['RMSE', 'MAE'])\n",
    "nmf = NMF(n_factors=240, n_epochs=90)\n",
    "eval_nmf = evaluate(nmf, data, measures=['RMSE', 'MAE'])\n",
    "knnb_1 = KNNBaseline(k=60, sim_options = {'user_based': False})\n",
    "eval_knnb_1 = evaluate(knnb_1, data, measures=['RMSE', 'MAE'])\n",
    "knnb = KNNBaseline(k=70, sim_options = {'user_based': False}, bsl_options = {'method': 'sgd', 'n_epochs': 100})\n",
    "eval_knnb = evaluate(knnb, data, measures=['RMSE', 'MAE'])"
   ]
  },
  {
   "cell_type": "markdown",
   "metadata": {
    "_uuid": "92ecae05777feda9ead5d7f3f1f0de7db1d4e5c7"
   },
   "source": [
    "Import our Baseline_SVM model from the Baseline notebook"
   ]
  },
  {
   "cell_type": "code",
   "execution_count": null,
   "metadata": {
    "_kg_hide-input": true,
    "_uuid": "67a963c11aaace4db52460b5797cdd8d23924f74"
   },
   "outputs": [],
   "source": [
    "from sklearn.svm import SVR\n",
    "\n",
    "movie_mean = np.ones(ratings_p.shape)\n",
    "movie_mean = pd.DataFrame(movie_mean * np.array(ratings_movie_summary['mean']).reshape(1,1682))\n",
    "X = np.array(ratings_p*0) + movie_mean\n",
    "svm = SVR(gamma=1, C=1)\n",
    "pred_svm = ratings_p.copy()\n",
    "for i in range(ratings_p.shape[0]):\n",
    "    svm.fit(np.array(X.iloc[i].dropna()).reshape(-1,1), ratings_p.iloc[i].dropna())\n",
    "    pred_svm.iloc[i] = svm.predict(np.array(movie_mean.iloc[0]).reshape(-1,1))\n",
    "score_svm = abs(np.array(ratings_p) - pred_svm)\n",
    "score_2_svm = score_svm ** 2\n",
    "print('RMSE: {:.4f}'.format(np.sqrt(score_2_svm.stack().mean())))\n",
    "print('MAE: {:.4f}'.format(score_svm.stack().mean()))"
   ]
  },
  {
   "cell_type": "markdown",
   "metadata": {
    "_uuid": "992bf68bd0452bec6f215e32839d524ceefb1873"
   },
   "source": [
    "- **Ultimate Model**\n",
    "\n",
    "**We can improve all these by combine all models together.**\n",
    "\n",
    "First let's collect the prediction results in a data frame."
   ]
  },
  {
   "cell_type": "code",
   "execution_count": null,
   "metadata": {
    "_uuid": "a93304e74480918062b6cd8d4807e297cc645ce8",
    "scrolled": false
   },
   "outputs": [],
   "source": [
    "trainset = data.build_full_trainset()\n",
    "testset = trainset.build_testset()\n",
    "pred = ratings[['user_id', 'movie_id', 'rating']]\n",
    "l = [svd, svdpp, nmf, nmfb, knnb, knnb_1]\n",
    "for i in range(len(l)):\n",
    "    predictions = l[i].test(testset)\n",
    "    model_pred = pd.DataFrame([[i.uid, i.iid, i.est] for i in predictions], columns=['user_id', 'movie_id', str(i)])\n",
    "    pred = pd.merge(pred, model_pred, how='left', left_on=['user_id', 'movie_id'], right_on=['user_id', 'movie_id'])\n",
    "pred.columns = pred.columns[:3].tolist() + ['svd', 'svdpp', 'nmf', 'nmfb', 'knnb', 'knnb_1']\n",
    "#pred = pd.merge(pred, users, on='user_id')\n",
    "#pred = pd.merge(pred, movies, on='movie_id')\n",
    "#pred['sex'] = pred['sex'].replace(['F', 'M'], [1, 0])\n",
    "#pred.drop(['release_date', 'video_release_date', 'imdb_url', 'title', 'zip_code'], axis=1, inplace=True)"
   ]
  },
  {
   "cell_type": "code",
   "execution_count": null,
   "metadata": {
    "_uuid": "a3fa6c6e86f0bd037d27a22f1b4c761ecaf62613"
   },
   "outputs": [],
   "source": [
    "pred['svm'] = np.zeros(pred.shape[0])\n",
    "for i in pred.index:\n",
    "    pred.loc[i, 'svm'] = pred_svm.loc[pred.loc[i, 'user_id'], pred.loc[i, 'movie_id']]\n",
    "pred.head()"
   ]
  },
  {
   "cell_type": "markdown",
   "metadata": {
    "_uuid": "9d13d34fd8e5ff6ec9b047147b63ff5a0f08e2a5"
   },
   "source": [
    "Then we apply all this into a linear regression to see the weight we should put on each model.\n",
    "\n",
    "Here we can also see the RMSE and MAE score before train test split."
   ]
  },
  {
   "cell_type": "code",
   "execution_count": null,
   "metadata": {
    "_uuid": "44394c22dc37742ca56c88d5fba42959a741a32f"
   },
   "outputs": [],
   "source": [
    "linreg = LinearRegression().fit(pred.iloc[:, 3:], pred['rating'])\n",
    "\n",
    "print('linear model coeff (w): {}'\n",
    "     .format(linreg.coef_))\n",
    "print('linear model intercept (b): {:.3f}'\n",
    "     .format(linreg.intercept_))\n",
    "pred['pred'] = linreg.predict(pred.iloc[:, 3:])\n",
    "print('RMSE: {:.4f}'.format(np.sqrt(((pred['pred'] - pred['rating']) ** 2).mean())))\n",
    "print('MAE: {:.4f}'.format(abs(pred['pred'] - pred['rating']).mean()))"
   ]
  },
  {
   "cell_type": "markdown",
   "metadata": {
    "_uuid": "8916c5cba65224667c3226f49ed080a6e0024811"
   },
   "source": [
    "Cross Validation\n",
    "\n",
    "We start by collect prediction values for 5 folds."
   ]
  },
  {
   "cell_type": "code",
   "execution_count": null,
   "metadata": {
    "_kg_hide-input": true,
    "_kg_hide-output": true,
    "_uuid": "a40038747adae868642f386e6dbaf0303c9ff548",
    "scrolled": false
   },
   "outputs": [],
   "source": [
    "kf = KFold(n_splits=5, random_state=13)\n",
    "l = [svd, svdpp, nmf, nmfb, knnb, knnb_1]\n",
    "predCV = ratings[['user_id', 'movie_id', 'rating']]\n",
    "predCV_train = ratings[['user_id', 'movie_id', 'rating']]\n",
    "for trainset, testset in kf.split(data):\n",
    "    for i in range(len(l)):\n",
    "        l[i].fit(trainset)\n",
    "        predictions = l[i].test(testset)\n",
    "        model_pred = pd.DataFrame([[i.uid, i.iid, i.est] for i in predictions], columns=['user_id', 'movie_id', str(i)])\n",
    "        predCV = pd.merge(predCV, model_pred, how='outer', left_on=['user_id', 'movie_id'], right_on=['user_id', 'movie_id'])\n",
    "        testset_train = trainset.build_testset()\n",
    "        predictions = l[i].test(testset_train)\n",
    "        model_pred_train = pd.DataFrame([[i.uid, i.iid, i.est] for i in predictions], columns=['user_id', 'movie_id', str(i)])\n",
    "        predCV_train = pd.merge(predCV_train, model_pred_train, how='outer', left_on=['user_id', 'movie_id'], right_on=['user_id', 'movie_id'])\n",
    "predCV.columns = ['user_id', 'movie_id', 'rating', 'svd_1', 'svdpp_1', 'nmf_1', 'nmfb_1', 'knnb_1', 'knnb_1_1',\\\n",
    "                  'svd_2', 'svdpp_2', 'nmf_2', 'nmfb_2', 'knnb_2', 'knnb_1_2',\\\n",
    "                  'svd_3', 'svdpp_3', 'nmf_3', 'nmfb_3', 'knnb_3', 'knnb_1_3',\\\n",
    "                  'svd_4', 'svdpp_4', 'nmf_4', 'nmfb_4', 'knnb_4', 'knnb_1_4',\\\n",
    "                  'svd_5', 'svdpp_5', 'nmf_5', 'nmfb_5', 'knnb_5', 'knnb_1_5']\n",
    "predCV_train.columns = ['user_id', 'movie_id', 'rating', 'svd_1', 'svdpp_1', 'nmf_1', 'nmfb_1', 'knnb_1', 'knnb_1_1',\\\n",
    "                        'svd_2', 'svdpp_2', 'nmf_2', 'nmfb_2', 'knnb_2', 'knnb_1_2',\\\n",
    "                        'svd_3', 'svdpp_3', 'nmf_3', 'nmfb_3', 'knnb_3', 'knnb_1_3',\\\n",
    "                        'svd_4', 'svdpp_4', 'nmf_4', 'nmfb_4', 'knnb_4', 'knnb_1_4',\\\n",
    "                        'svd_5', 'svdpp_5', 'nmf_5', 'nmfb_5', 'knnb_5', 'knnb_1_5']\n",
    "predCV_train.head()"
   ]
  },
  {
   "cell_type": "markdown",
   "metadata": {
    "_uuid": "43ed666e8235af64326fd1d09649176feed8d94b"
   },
   "source": [
    "Add the results from Baseline_SVM into the DataFrame"
   ]
  },
  {
   "cell_type": "code",
   "execution_count": null,
   "metadata": {
    "_kg_hide-input": true,
    "_uuid": "2c095c39c435a16d9f1f64fcf731a5c990a16b19",
    "scrolled": false
   },
   "outputs": [],
   "source": [
    "index = pd.DataFrame(predCV['svd_1'])\n",
    "index['svd_2'] = predCV['svd_2']\n",
    "index['svd_3'] = predCV['svd_3']\n",
    "index['svd_4'] = predCV['svd_4']\n",
    "index['svd_5'] = predCV['svd_5']\n",
    "index = index*0+1\n",
    "index.columns = [1,2,3,4,5]\n",
    "\n",
    "rmse_svm = []\n",
    "mae_svm = []\n",
    "fold = 0\n",
    "movie_mean = pd.DataFrame(np.ones(ratings_p.shape) * np.array(ratings_movie_summary['mean']).reshape(1,1682))\n",
    "print('Evaluating RMSE, MAE of the Baseline_SVM Model. \\n')\n",
    "print('-'*12)\n",
    "for i in index.columns:\n",
    "    train = ratings.copy()\n",
    "    test = ratings.copy()\n",
    "    train['rating'] = train['rating']*(index[i].isna())\n",
    "    train['rating'].replace(0, np.NaN, inplace=True)\n",
    "    test['rating'] = test['rating']*index[i]\n",
    "    train_movie_summary = train.groupby('movie_id')['rating'].agg(['count', 'mean', 'std'])\n",
    "    train_user_summary = train.groupby('user_id')['rating'].agg(['count', 'mean', 'std'])\n",
    "    train_p = pd.pivot_table(train, values='rating', index='user_id', columns='movie_id', dropna=False)\n",
    "    test_p = pd.pivot_table(test, values='rating', index='user_id', columns='movie_id', dropna=False)\n",
    "    train_mean = pd.DataFrame(np.ones(ratings_p.shape) * np.array(train_movie_summary['mean']).reshape(1,1682))\n",
    "    X = np.array(train_p*0) + train_mean\n",
    "    pred = ratings_p.copy()\n",
    "    for j in range(ratings_p.shape[0]):\n",
    "        svm.fit(np.array(X.iloc[j].dropna()).reshape(-1,1), train_p.iloc[j].dropna())\n",
    "        pred.iloc[j] = svm.predict(np.array(movie_mean.iloc[0]).reshape(-1,1))\n",
    "    predCV['svm_'+str(i)] = np.zeros(predCV.shape[0])\n",
    "    for x in predCV.index:\n",
    "        predCV.loc[x, 'svm_'+str(i)] = pred.loc[predCV.loc[x, 'user_id'], predCV.loc[x, 'movie_id']]\n",
    "    predCV['svm_'+str(i)] = index[i] * predCV['svm_'+str(i)]\n",
    "    predCV_train['svm_'+str(i)] = np.zeros(predCV.shape[0])\n",
    "    for x in predCV_train.index:\n",
    "        predCV_train.loc[x, 'svm_'+str(i)] = pred.loc[predCV_train.loc[x, 'user_id'], predCV_train.loc[x, 'movie_id']]\n",
    "    predCV_train['svm_'+str(i)] = (index[i].isna()) * predCV_train['svm_'+str(i)]\n",
    "    predCV_train.replace(0, np.NaN, inplace=True)\n",
    "    score = abs(np.array(test_p) - pred)\n",
    "    score_2 = score ** 2\n",
    "    rmse_svm += [np.sqrt(score_2.stack().mean())]\n",
    "    mae_svm += [score.stack().mean()]\n",
    "    fold += 1\n",
    "    print('Fold', fold)\n",
    "    print('RMSE: {:.4f}'.format(np.sqrt(score_2.stack().mean())))\n",
    "    print('MAE: {:.4f}'.format(score.stack().mean()))\n",
    "    print('-'*12)\n",
    "print('-'*12)\n",
    "print('Mean RMSE: {:.4f}'.format(np.mean(rmse_svm)))\n",
    "print('Mean MAE: {:.4f}'.format(np.mean(mae_svm)))\n",
    "print('-'*12)\n",
    "print('-'*12)"
   ]
  },
  {
   "cell_type": "code",
   "execution_count": null,
   "metadata": {
    "_kg_hide-input": true,
    "_uuid": "1bac6f31eda912a188b07758fffea2a6818ecfa8",
    "scrolled": false
   },
   "outputs": [],
   "source": [
    "columns=['user_id', 'movie_id', 'rating', 'svd_1', 'svdpp_1', 'nmf_1', 'nmfb_1', 'knnb_1', 'knnb_1_1', 'svm_1',\\\n",
    "         'svd_2', 'svdpp_2', 'nmf_2', 'nmfb_2', 'knnb_2', 'knnb_1_2', 'svm_2',\\\n",
    "         'svd_3', 'svdpp_3', 'nmf_3', 'nmfb_3', 'knnb_3', 'knnb_1_3', 'svm_3',\\\n",
    "         'svd_4', 'svdpp_4', 'nmf_4', 'nmfb_4', 'knnb_4', 'knnb_1_4', 'svm_4',\\\n",
    "         'svd_5', 'svdpp_5', 'nmf_5', 'nmfb_5', 'knnb_5', 'knnb_1_5', 'svm_5']\n",
    "predCV=predCV.reindex(columns=columns)\n",
    "predCV_train=predCV_train.reindex(columns=columns)\n",
    "coef = linreg.coef_\n",
    "for i in range(1, 6):\n",
    "    predCV['fold_'+str(i)] = coef[0] * predCV['svd_'+str(i)] + coef[1] * predCV['svdpp_'+str(i)] +\\\n",
    "                             coef[2] * predCV['nmf_'+str(i)] + coef[3] * predCV['nmfb_'+str(i)] +\\\n",
    "                             coef[4] * predCV['knnb_'+str(i)] + coef[5] * predCV['knnb_1_'+str(i)] +\\\n",
    "                             coef[6] * predCV['svm_'+str(i)] + linreg.intercept_\n",
    "predCV.head()"
   ]
  },
  {
   "cell_type": "markdown",
   "metadata": {
    "_uuid": "8b0da3ae9db018708d5e3e2ebc87c14473f1f9ea"
   },
   "source": [
    "Cross-Validation result"
   ]
  },
  {
   "cell_type": "code",
   "execution_count": null,
   "metadata": {
    "_kg_hide-input": true,
    "_uuid": "fb612f2b3970b7192b71bbe9e2a71d231d640565",
    "scrolled": false
   },
   "outputs": [],
   "source": [
    "rmse_ult = []\n",
    "mae_ult = []\n",
    "print('Evaluating RMSE, MAE of the Ultimate Model. \\n')\n",
    "print('-'*12)\n",
    "for fold in range(1, 6):\n",
    "    print('Fold', fold)\n",
    "    rmse_ult += [np.sqrt(((predCV['fold_'+str(fold)] - predCV['rating']) ** 2).mean())]\n",
    "    mae_ult += [abs(predCV['fold_'+str(fold)] - predCV['rating']).mean()]\n",
    "    print('RMSE: {:.4f}'.format(np.sqrt(((predCV['fold_'+str(fold)] - predCV['rating']) ** 2).mean())))\n",
    "    print('MAE: {:.4f}'.format(abs(predCV['fold_'+str(fold)] - predCV['rating']).mean()))\n",
    "    print('-'*12)\n",
    "print('-'*12)\n",
    "print('Mean RMSE: {:.4f}'.format(np.mean(rmse_ult)))\n",
    "print('Mean MAE: {:.4f}'.format(np.mean(mae_ult)))\n",
    "print('-'*12)\n",
    "print('-'*12)"
   ]
  },
  {
   "cell_type": "markdown",
   "metadata": {
    "_uuid": "36587219f155559b15d56598a9ea9288ccfe21a1"
   },
   "source": [
    "Here is the case when we update the coefficient for each fold."
   ]
  },
  {
   "cell_type": "code",
   "execution_count": null,
   "metadata": {
    "_kg_hide-input": true,
    "_uuid": "09bbcee0b6133cfc0e6d90e10ca4f561ae4d3f1e",
    "scrolled": false
   },
   "outputs": [],
   "source": [
    "predCV_1 = predCV.copy()\n",
    "for i in range(5):\n",
    "    s = predCV_train.iloc[:, 7*i+3:7*(i+1)+3]\n",
    "    s['rating'] = predCV_train['rating']\n",
    "    s.dropna(inplace=True)\n",
    "    linreg = LinearRegression().fit(s.drop('rating', axis=1), s['rating'])\n",
    "    coef = linreg.coef_\n",
    "    predCV_1['fold_'+str(i+1)] = coef[0] * predCV['svd_'+str(i+1)] + coef[1] * predCV['svdpp_'+str(i+1)] +\\\n",
    "                                 coef[2] * predCV['nmf_'+str(i+1)] + coef[3] * predCV['nmfb_'+str(i+1)] +\\\n",
    "                                 coef[4] * predCV['knnb_'+str(i+1)] + coef[5] * predCV['knnb_1_'+str(i+1)] +\\\n",
    "                                 coef[6] * predCV['svm_'+str(i+1)] + linreg.intercept_"
   ]
  },
  {
   "cell_type": "code",
   "execution_count": null,
   "metadata": {
    "_kg_hide-input": true,
    "_uuid": "b558ee133f4b4d24fcac3e715f132dba474988a5"
   },
   "outputs": [],
   "source": [
    "rmse_ult = []\n",
    "mae_ult = []\n",
    "print('Evaluating RMSE, MAE of the Ultimate Model. \\n')\n",
    "print('-'*12)\n",
    "for fold in range(1, 6):\n",
    "    print('Fold', fold)\n",
    "    rmse_ult += [np.sqrt(((predCV_1['fold_'+str(fold)] - predCV_1['rating']) ** 2).mean())]\n",
    "    mae_ult += [abs(predCV_1['fold_'+str(fold)] - predCV_1['rating']).mean()]\n",
    "    print('RMSE: {:.4f}'.format(np.sqrt(((predCV_1['fold_'+str(fold)] - predCV_1['rating']) ** 2).mean())))\n",
    "    print('MAE: {:.4f}'.format(abs(predCV_1['fold_'+str(fold)] - predCV_1['rating']).mean()))\n",
    "    print('-'*12)\n",
    "print('-'*12)\n",
    "print('Mean RMSE: {:.4f}'.format(np.mean(rmse_ult)))\n",
    "print('Mean MAE: {:.4f}'.format(np.mean(mae_ult)))\n",
    "print('-'*12)\n",
    "print('-'*12)"
   ]
  },
  {
   "cell_type": "code",
   "execution_count": null,
   "metadata": {
    "_uuid": "76b0a70e31b67b7ff258fdc4c71076b27a7472fe"
   },
   "outputs": [],
   "source": [
    "surprise_results = {'SVD': [np.mean(eval_svd['rmse']), np.mean(eval_svd['mae'])], 'SVDpp': [np.mean(eval_svdpp['rmse']), np.mean(eval_svdpp['mae'])],\\\n",
    "                    'NMF': [np.mean(eval_nmf['rmse']), np.mean(eval_nmf['mae'])], 'Biased_NMF': [np.mean(eval_nmfb['rmse']), np.mean(eval_nmfb['mae'])],\\\n",
    "                    'kNN_SGD': [np.mean(eval_knnb['rmse']), np.mean(eval_knnb['mae'])], 'kNN_ALS': [np.mean(eval_knnb_1['rmse']), np.mean(eval_knnb_1['mae'])],\\\n",
    "                    'Baseline_SVM': [np.mean(rmse_svm), np.mean(mae_svm)], 'Ultimate': [np.mean(rmse_ult), np.mean(mae_ult)]}\n",
    "surprise_results = pd.DataFrame(surprise_results, index=['RMSE', 'MAE']).T\n",
    "surprise_results"
   ]
  },
  {
   "cell_type": "code",
   "execution_count": null,
   "metadata": {
    "_kg_hide-input": true,
    "_uuid": "aa5d7207ff16f5a2c63040c227ef25548a2b0692"
   },
   "outputs": [],
   "source": [
    "fig = plt.figure(figsize=(10, 6))\n",
    "ax = plt.subplot(111)\n",
    "ax.set_axisbelow(True)\n",
    "plt.bar(np.arange(1, 3*surprise_results.shape[0], 3), surprise_results['RMSE']-0.7, width=1, label='RMSE')\n",
    "plt.bar(np.arange(2, 3*surprise_results.shape[0], 3), surprise_results['MAE']-0.7, width=1, label='MAE')\n",
    "plt.xticks(np.arange(1.5, 3*surprise_results.shape[0], 3), surprise_results.index)\n",
    "plt.yticks(np.arange(0, 0.4, 0.1), [0.7, 0.8, 0.9, 1.0])\n",
    "plt.grid()\n",
    "plt.legend()\n",
    "plt.show()"
   ]
  },
  {
   "cell_type": "code",
   "execution_count": null,
   "metadata": {
    "_kg_hide-input": true,
    "_uuid": "800df7f7e172988305ff432e28b1ff36251e2d44"
   },
   "outputs": [],
   "source": [
    "a = ratings.copy()\n",
    "a['pred'] = np.zeros(ratings.shape[0])\n",
    "for i in range(1, 6):\n",
    "    a['pred'] = a['pred'] + predCV_1['fold_'+str(i)].replace(np.NaN, 0)\n",
    "pred_1 = a[a['rating']==1]\n",
    "pred_2 = a[a['rating']==2]\n",
    "pred_3 = a[a['rating']==3]\n",
    "pred_4 = a[a['rating']==4]\n",
    "pred_5 = a[a['rating']==5]"
   ]
  },
  {
   "cell_type": "code",
   "execution_count": null,
   "metadata": {
    "_kg_hide-input": true,
    "_uuid": "cb08a60c90daac0cf6f55ef5b95e1c377020910f"
   },
   "outputs": [],
   "source": [
    "fig = plt.figure(figsize=(10, 6))\n",
    "ax = plt.subplot(111)\n",
    "hist_4 = plt.hist(pred_4['pred'], bins=100, alpha=0.5, label='4')\n",
    "hist_3 = plt.hist(pred_3['pred'], bins=100, alpha=0.5, label='3')\n",
    "hist_5 = plt.hist(pred_5['pred'], bins=100, alpha=0.5, label='5')\n",
    "hist_2 = plt.hist(pred_2['pred'], bins=100, alpha=0.5, label='2')\n",
    "hist_1 = plt.hist(pred_1['pred'], bins=100, alpha=0.5, label='1')\n",
    "handles, labels = ax.get_legend_handles_labels()\n",
    "handles = [handles.pop(2)]+handles\n",
    "plt.legend(handles=handles[::-1], title='True Values')\n",
    "plt.ylabel('Number of Ratings', fontsize=16)\n",
    "plt.xlabel('Prediction Values', fontsize=16)\n",
    "plt.title('Prediction Distribution by True Values', fontsize=16)\n",
    "plt.xlim(0, 6)\n",
    "plt.xticks(fontsize=13)\n",
    "plt.yticks(fontsize=13)\n",
    "plt.show()"
   ]
  },
  {
   "cell_type": "code",
   "execution_count": null,
   "metadata": {
    "_kg_hide-input": true,
    "_uuid": "91ac4b929f4d2c845b9f8421d139c92e859f0ecc"
   },
   "outputs": [],
   "source": [
    "fake_1 = pred[pred['rating']==1]\n",
    "fake_2 = pred[pred['rating']==2]\n",
    "fake_3 = pred[pred['rating']==3]\n",
    "fake_4 = pred[pred['rating']==4]\n",
    "fake_5 = pred[pred['rating']==5]"
   ]
  },
  {
   "cell_type": "code",
   "execution_count": null,
   "metadata": {
    "_kg_hide-input": true,
    "_kg_hide-output": true,
    "_uuid": "7486a6daa3ffa0f111676c1d1d046bb66509d696"
   },
   "outputs": [],
   "source": [
    "fig = plt.figure(figsize=(10, 6))\n",
    "ax = plt.subplot(111)\n",
    "hist_4 = plt.hist(fake_4['pred'], bins=100, alpha=0.5, label='4')\n",
    "hist_3 = plt.hist(fake_3['pred'], bins=100, alpha=0.5, label='3')\n",
    "hist_5 = plt.hist(fake_5['pred'], bins=100, alpha=0.5, label='5')\n",
    "hist_2 = plt.hist(fake_2['pred'], bins=100, alpha=0.5, label='2')\n",
    "hist_1 = plt.hist(fake_1['pred'], bins=100, alpha=0.5, label='1')\n",
    "handles, labels = ax.get_legend_handles_labels()\n",
    "handles = [handles.pop(2)]+handles\n",
    "plt.legend(handles=handles[::-1], title='True Values')\n",
    "plt.ylabel('Number of Ratings', fontsize=16)\n",
    "plt.xlabel('Prediction Values', fontsize=16)\n",
    "plt.title('Prediction Distribution by True Values (Without Train Test Split)', fontsize=16)\n",
    "plt.xlim(0, 6)\n",
    "plt.xticks(fontsize=13)\n",
    "plt.yticks(fontsize=13)\n",
    "plt.show()"
   ]
  },
  {
   "cell_type": "code",
   "execution_count": null,
   "metadata": {},
   "outputs": [],
   "source": []
  },
  {
   "cell_type": "code",
   "execution_count": null,
   "metadata": {},
   "outputs": [],
   "source": []
  }
 ],
 "metadata": {
  "kernelspec": {
   "display_name": "Python 3",
   "language": "python",
   "name": "python3"
  },
  "language_info": {
   "codemirror_mode": {
    "name": "ipython",
    "version": 3
   },
   "file_extension": ".py",
   "mimetype": "text/x-python",
   "name": "python",
   "nbconvert_exporter": "python",
   "pygments_lexer": "ipython3",
   "version": "3.6.8"
  }
 },
 "nbformat": 4,
 "nbformat_minor": 1
}
