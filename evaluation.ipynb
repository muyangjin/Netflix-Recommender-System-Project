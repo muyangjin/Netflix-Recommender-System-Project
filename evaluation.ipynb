{
 "cells": [
  {
   "cell_type": "markdown",
   "metadata": {
    "_uuid": "a7ccf25ef5c4f4bfe93071edda3a6e8fe7f5cc1f"
   },
   "source": [
    " __Packege Import__"
   ]
  },
  {
   "cell_type": "code",
   "execution_count": 1,
   "metadata": {
    "_uuid": "9b5a55d6a7dd22c1571242da3923143ed90d7a87"
   },
   "outputs": [],
   "source": [
    "from surprise import SVD\n",
    "from surprise import SVDpp\n",
    "from surprise import NMF\n",
    "from surprise import KNNBaseline\n",
    "from sklearn.linear_model import LinearRegression\n",
    "import numpy as np\n",
    "import time\n",
    "from sklearn.metrics.pairwise import cosine_similarity\n",
    "import pandas as pd\n",
    "from surprise import Reader, Dataset\n",
    "from datetime import datetime\n",
    "from sklearn.svm import SVR"
   ]
  },
  {
   "cell_type": "markdown",
   "metadata": {
    "_uuid": "579e5f0497936439247dc10d4b184bc22d614c8c"
   },
   "source": [
    "__Data Import__"
   ]
  },
  {
   "cell_type": "code",
   "execution_count": 2,
   "metadata": {
    "_uuid": "6f22857b695f12d6f6b1a3391d25bd433c12bb70"
   },
   "outputs": [],
   "source": [
    "r_cols = ['user_id', 'movie_id', 'rating', 'unix_timestamp']\n",
    "ratings = pd.read_csv('ml-100k/u.data', sep='\\t', names=r_cols, encoding='latin-1')\n",
    "\n",
    "m_cols = ['movie_id', 'title', 'release_date', 'video_release_date', 'imdb_url','unknown', 'Action', 'Adventure',\\\n",
    "          'Animation', 'Children\\'s', 'Comedy', 'Crime', 'Documentary', 'Drama', 'Fantasy','Film-Noir', 'Horror',\\\n",
    "          'Musical', 'Mystery', 'Romance', 'Sci-Fi', 'Thriller', 'War', 'Western']\n",
    "movies = pd.read_csv('ml-100k/u.item', sep='|', names=m_cols, encoding='latin-1')\n",
    "\n",
    "u_cols = ['user_id', 'age', 'sex', 'occupation', 'zip_code']\n",
    "users = pd.read_csv('ml-100k/u.user', sep='|', names=u_cols, encoding='latin-1', parse_dates=True)"
   ]
  },
  {
   "cell_type": "markdown",
   "metadata": {
    "_uuid": "0f6828d0d8a0ee7e9184a1b03d12397128be7852"
   },
   "source": [
    "__Data Cleaning__"
   ]
  },
  {
   "cell_type": "code",
   "execution_count": 3,
   "metadata": {
    "_uuid": "a7b0ca7f5fb6339cdfff8fa78835a235c531212a"
   },
   "outputs": [],
   "source": [
    "ratings['unix_timestamp'] = ratings['unix_timestamp'].apply(datetime.fromtimestamp)\n",
    "ratings.columns = ['user_id', 'movie_id', 'rating', 'time']\n",
    "\n",
    "movies['release_date'] = pd.to_datetime(movies['release_date'])\n",
    "\n",
    "for i in users['occupation'].unique():\n",
    "    users[i] = users['occupation'] == i\n",
    "users.drop('occupation', axis=1, inplace=True)"
   ]
  },
  {
   "cell_type": "markdown",
   "metadata": {
    "_uuid": "814e625f6df93d40223592fea80ed32646cd1547"
   },
   "source": [
    "__Define Useful Variables__"
   ]
  },
  {
   "cell_type": "code",
   "execution_count": 4,
   "metadata": {
    "_uuid": "1d3424ebd91b1540b508055e518d5d9de7880263"
   },
   "outputs": [],
   "source": [
    "ratings_p = pd.pivot_table(ratings, values='rating', index='user_id', columns='movie_id')\n",
    "\n",
    "user_length = len(ratings_p)\n",
    "item_length = len(ratings_p.iloc[0,:])\n",
    "\n",
    "ratings_ma = np.ma.masked_invalid(ratings_p)\n",
    "mask = pd.DataFrame(ratings_ma.mask,index = [i for i in range(1,944)], columns = [i for i in range(1,1683)])\n",
    "\n",
    "reader = Reader()\n",
    "data = Dataset.load_from_df(ratings[['user_id', 'movie_id', 'rating']], reader)\n",
    "trainset = data.build_full_trainset()\n",
    "\n",
    "mean = ratings_p.stack().mean()\n",
    "std = ratings_p.stack().std()\n",
    "\n",
    "ratings_movie_summary = ratings.groupby('movie_id')['rating'].agg(['count', 'mean', 'std'])\n",
    "ratings_user_summary = ratings.groupby('user_id')['rating'].agg(['count', 'mean', 'std'])"
   ]
  },
  {
   "cell_type": "markdown",
   "metadata": {
    "_uuid": "978810b78ae374e52bb555a9b0b8371fff3a0730"
   },
   "source": [
    "__Baseline1__"
   ]
  },
  {
   "cell_type": "code",
   "execution_count": null,
   "metadata": {
    "_uuid": "e07c2f7224ab5aceb2cdc6482aa071531ba61a31"
   },
   "outputs": [],
   "source": [
    "movie_mean = np.ones(ratings_p.shape)\n",
    "movie_mean = pd.DataFrame(movie_mean * np.array(ratings_movie_summary['mean']).reshape(1,1682))\n",
    "user_mean = np.ones(ratings_p.T.shape)\n",
    "user_mean = pd.DataFrame(user_mean * np.array(ratings_user_summary['mean'])).T\n",
    "pred_baseline1 = movie_mean + user_mean - mean"
   ]
  },
  {
   "cell_type": "markdown",
   "metadata": {
    "_uuid": "c8563c29362a431be1a1c11b19ce0f91e7796a16"
   },
   "source": [
    "__Baseline2 - ZScore__"
   ]
  },
  {
   "cell_type": "code",
   "execution_count": null,
   "metadata": {
    "_uuid": "453b6cf81d72ec013636d8ccce1609ba66a2abd5"
   },
   "outputs": [],
   "source": [
    "user_std = np.ones(ratings_p.T.shape)\n",
    "user_std = pd.DataFrame(user_std * np.array(ratings_user_summary['std'])).T\n",
    "pred_baseline2 = user_mean + (movie_mean - mean)/std * user_std"
   ]
  },
  {
   "cell_type": "markdown",
   "metadata": {
    "_uuid": "5f1113d966286cee2f9925cb4dedaa7325ecaaa7"
   },
   "source": [
    "__Baseline3 - SVR__"
   ]
  },
  {
   "cell_type": "code",
   "execution_count": null,
   "metadata": {
    "_uuid": "f6225ddd5543e814fdf511ba6fdcfa630cae2ca8"
   },
   "outputs": [],
   "source": [
    "X = np.array(ratings_p*0) + movie_mean\n",
    "svm = SVR(gamma=1, C=1)\n",
    "pred_svm = ratings_p.copy()\n",
    "for i in range(ratings_p.shape[0]):\n",
    "    svm.fit(np.array(X.iloc[i].dropna()).reshape(-1,1), ratings_p.iloc[i].dropna())\n",
    "    pred_svm.iloc[i] = svm.predict(np.array(movie_mean.iloc[0]).reshape(-1,1))"
   ]
  },
  {
   "cell_type": "markdown",
   "metadata": {
    "_uuid": "e48444b647af30499440bdcb17c7e067350184dc"
   },
   "source": [
    "__Models From Surprise__"
   ]
  },
  {
   "cell_type": "code",
   "execution_count": null,
   "metadata": {
    "_uuid": "2e49c6793f5fbce95850fda7fdb2f4447eceb3c9"
   },
   "outputs": [],
   "source": [
    "svd_grid = SVD(n_factors= 140, n_epochs= 100, reg_all= 0.1)\n",
    "svdpp_grid = SVDpp(lr_all = 0.005, reg_all = 0.015)\n",
    "nmf_bias = NMF(n_factors=3, n_epochs=100, biased=True, reg_bu=0.1, reg_bi=0.1)\n",
    "nmf_grid = NMF(n_factors=240, n_epochs=90)\n",
    "knnb_item_sgd = KNNBaseline(k=70, sim_options = {'user_based': False}, bsl_options = {'method': 'sgd', 'n_epochs': 100})\n",
    "knnb_item_als = KNNBaseline(k=60, sim_options = {'user_based': False}, bsl_options = {'n_epochs': 100})\n",
    "l = [svd_grid, svdpp_grid, nmf_bias, nmf_grid, knnb_item_sgd, knnb_item_als]\n",
    "for i in l:\n",
    "    print(i)\n",
    "    i.fit(trainset)"
   ]
  },
  {
   "cell_type": "markdown",
   "metadata": {
    "_uuid": "b714e8b8a8012d9090ebe2a46219a4d8e9308d5d"
   },
   "source": [
    "- __Coverage__<br/>\n",
    " - Item Space Coverage\n",
    " - Shannon Entropy\n",
    " \n",
    "- __Diversity__\n",
    " - Intra List Distance"
   ]
  },
  {
   "cell_type": "code",
   "execution_count": null,
   "metadata": {
    "_uuid": "29aaa047982412626c4556e19884fcee9ad9f765"
   },
   "outputs": [],
   "source": [
    "def get_evaluation_model(model, model_name):\n",
    "    '''Generate Item Space Coverage, Shannon Entropy and Intra List Distance\n",
    "    with a fited model.'''\n",
    "    a = time.time()\n",
    "    \n",
    "    '''Get a dataframe of genres for ILD'''\n",
    "    genres = movies.drop(['title','release_date','video_release_date','imdb_url'],axis = 1)\n",
    "    genres = genres.set_index('movie_id')\n",
    "    \n",
    "    '''Get pivot table using model and apply mask'''\n",
    "    pred_matrix = np.ones(ratings_p.shape)\n",
    "    for i in range(user_length):\n",
    "        for j in range(item_length):\n",
    "            score = model.predict(i, j)\n",
    "            pred_matrix[i][j] = score.est\n",
    "    pred = pd.DataFrame(pred_matrix)\n",
    "    pred.columns = [i for i in range(1,1683)]\n",
    "    pred.index = [i for i in range(1,944)]\n",
    "    pred = pred*mask\n",
    "    \n",
    "    \n",
    "    '''Build lists for three matrics'''\n",
    "    coverage_index = []\n",
    "    shannon_index = []\n",
    "    ild_index = []\n",
    "    \n",
    "    '''Get Three Lists'''\n",
    "    for i in range(user_length):\n",
    "        rec_list = list(pred.iloc[i,:].sort_values(ascending = False).index[:10])\n",
    "        ild_index.append(rec_list)\n",
    "        for v in rec_list:\n",
    "            shannon_index.append(v)\n",
    "            if v not in coverage_index:\n",
    "                coverage_index.append(v)\n",
    "    \n",
    "    '''Get item coverage and shannon entropy'''\n",
    "    coverage = format(len(coverage_index)/item_length*100, '.2f')\n",
    "    H_list = [(shannon_index.count(i)/len(shannon_index))*np.log(shannon_index.count(i)/len(shannon_index)) for i in list(movies['movie_id']) if shannon_index.count(i) != 0]\n",
    "    H = format(sum(H_list)*(-1),'.4f')\n",
    "    \n",
    "    '''Get Intra List Distance'''\n",
    "    iupper = np.triu_indices(10,1)\n",
    "    ilds = []\n",
    "    for ui in ild_index:\n",
    "        one = cosine_similarity(genres.loc[ui,:])[iupper].sum()/90\n",
    "        ilds.append(one)\n",
    "    ILD = format(np.mean(ilds),'.4f')\n",
    "    \n",
    "    b = time.time()\n",
    "    times = format(b-a,'.4f')\n",
    "    print('The Item Coverage for model ' + model_name +  ' is: ' + str(coverage) + '%.')\n",
    "    print('The Shannon Entropy for model ' + model_name +  ' is: ' + str(H) + '.')\n",
    "    print('The Intra List Distance for model ' + model_name +  ' is: ' + str(ILD) + '.')\n",
    "    print('Time used for ' + model_name +  \": \" + str(times) + ' seconds.')\n",
    "    print('\\n')"
   ]
  },
  {
   "cell_type": "code",
   "execution_count": null,
   "metadata": {
    "_uuid": "1f048c05cc1da0b979a0c5727d11e34927fe6616"
   },
   "outputs": [],
   "source": [
    "get_evaluation_model(svd_grid, 'SVD after Grid')\n",
    "get_evaluation_model(svdpp_grid, 'SVD++')\n",
    "get_evaluation_model(nmf_bias, 'NMF with Bias')\n",
    "get_evaluation_model(nmf_grid, 'NMF after Grid')\n",
    "get_evaluation_model(knnb_item_sgd, 'KNN with SGD')\n",
    "get_evaluation_model(knnb_item_als, 'KNN with ALS')"
   ]
  },
  {
   "cell_type": "code",
   "execution_count": null,
   "metadata": {
    "_uuid": "d2a30bc8245373468b125817ddfb7df9f81fe5d8"
   },
   "outputs": [],
   "source": [
    "def get_evaluation_matrix(matrix, model_name):\n",
    "    '''Generate Item Space Coverage, Shannon Entropy and Intra List Distance with a prediction matrix.'''\n",
    "    a = time.time()\n",
    "    \n",
    "    '''Get a dataframe of genres for ILD'''\n",
    "    genres = movies.drop(['title','release_date','video_release_date','imdb_url'],axis = 1)\n",
    "    genres = genres.set_index('movie_id')\n",
    "    \n",
    "    '''Get pivot table using model and apply mask'''\n",
    "    pred = pd.DataFrame(matrix)\n",
    "    pred.columns = [i for i in range(1,1683)]\n",
    "    pred.index = [i for i in range(1,944)]\n",
    "    pred = pred*mask\n",
    "    \n",
    "    '''Build lists for three matrics'''\n",
    "    coverage_index = []\n",
    "    shannon_index = []\n",
    "    ild_index = []\n",
    "    \n",
    "    '''Get Three Lists'''\n",
    "    for i in range(user_length):\n",
    "        rec_list = list(pred.iloc[i,:].sort_values(ascending = False).index[:10])\n",
    "        ild_index.append(rec_list)\n",
    "        for v in rec_list:\n",
    "            shannon_index.append(v)\n",
    "            if v not in coverage_index:\n",
    "                coverage_index.append(v)\n",
    "    \n",
    "    '''Get item coverage and shannon entropy'''\n",
    "    coverage = format(len(coverage_index)/item_length*100, '.2f')\n",
    "    H_list = [(shannon_index.count(i)/len(shannon_index))*np.log(shannon_index.count(i)/len(shannon_index)) for i in list(movies['movie_id']) if shannon_index.count(i) != 0]\n",
    "    H = format(sum(H_list)*(-1),'.4f')\n",
    "    \n",
    "    '''Get Intra List Distance'''\n",
    "    iupper = np.triu_indices(10,1)\n",
    "    ilds = []\n",
    "    for ui in ild_index:\n",
    "        one = cosine_similarity(genres.loc[ui,:])[iupper].sum()/90\n",
    "        ilds.append(one)\n",
    "    ILD = format(np.mean(ilds),'.4f')\n",
    "    \n",
    "    b = time.time()\n",
    "    times = format(b-a,'.4f')\n",
    "    print('The Item Coverage for model ' + model_name +  ' is: ' + str(coverage) + '%.')\n",
    "    print('The Shannon Entropy for model ' + model_name +  ' is: ' + str(H) + '.')\n",
    "    print('The Intra List Distance for model ' + model_name +  ' is: ' + str(ILD) + '.')\n",
    "    print('Time used for ' + model_name +  \": \" + str(times) + ' seconds.')\n",
    "    print('\\n')"
   ]
  },
  {
   "cell_type": "code",
   "execution_count": null,
   "metadata": {
    "_uuid": "f1031ceb0fc9bb3fb332a34bc4763a66159c30fc"
   },
   "outputs": [],
   "source": [
    "get_evaluation_matrix(pred_baseline1, 'Baseline Model 1')\n",
    "get_evaluation_matrix(pred_baseline2, 'Baseline Model Using Z-Score')\n",
    "get_evaluation_matrix(pred_svm, 'Baseline Model Using SVR')"
   ]
  },
  {
   "cell_type": "markdown",
   "metadata": {
    "_uuid": "1df65a491b47a2c15b8f84bc3a959a9d29795201"
   },
   "source": [
    "__Earlier & Separated Versions__"
   ]
  },
  {
   "cell_type": "code",
   "execution_count": null,
   "metadata": {
    "_uuid": "47429934570af86b51b4bb45302820afba57eac5"
   },
   "outputs": [],
   "source": [
    "# def gen_matrix_coverage(model, r_num, model_name):\n",
    "#     a = time.time()\n",
    "#     pred_matrix = np.ones(ratings_p.shape)\n",
    "#     for i in range(user_length):\n",
    "#         for j in range(item_length):\n",
    "#             score = model.predict(i, j)\n",
    "#             pred_matrix[i][j] = score.est\n",
    "#     pred = pred_matrix\n",
    "#     rec_index = []\n",
    "#     pred = pred*mask\n",
    "#     for i in range(len(pred)):\n",
    "#         rec_list = list(pred.iloc[i,:].sort_values(ascending = False).index[:r_num])\n",
    "#         for v in rec_list:\n",
    "#             if v not in rec_index:\n",
    "#                 rec_index.append(v)\n",
    "#     ratio = format(len(rec_index)/1682*100, '.2f')\n",
    "#     b = time.time()\n",
    "#     print(b-a)\n",
    "#     print('The Item Coverage for model ' + model_name + ' when recommend number is ' + str(r_num) + ' is: ' + str(ratio) + '%.')"
   ]
  },
  {
   "cell_type": "code",
   "execution_count": null,
   "metadata": {
    "_uuid": "4f7029ac7d4a53e3a78d06eab6c2171e88ebb07a"
   },
   "outputs": [],
   "source": [
    "# def gen_matrix_shannon(model, r_num, model_name):\n",
    "#     a = time.time()\n",
    "#     pred_matrix = np.ones(ratings_p.shape)\n",
    "#     for i in range(user_length):\n",
    "#         for j in range(item_length):\n",
    "#             score = model.predict(i, j)\n",
    "#             pred_matrix[i][j] = score.est\n",
    "#     pred = pred_matrix\n",
    "#     rec_index = []\n",
    "#     pred = pred*mask\n",
    "#     for i in range(len(pred)):\n",
    "#         rec_list = list(pred.iloc[i,:].sort_values(ascending = False).index[:r_num])\n",
    "#         for v in rec_list:\n",
    "#             rec_index.append(v)\n",
    "#     H_list = [(rec_index.count(i)/len(rec_index))*np.log(rec_index.count(i)/len(rec_index)) for i in list(movies['movie_id']) if rec_index.count(i) != 0]\n",
    "#     H = sum(H_list)*(-1)\n",
    "#     b = time.time()\n",
    "#     print(b-a)\n",
    "#     print('The Shannon Entrophy for model ' + model_name + ' when recommend ' + str(r_num) + ' items is: ' + str(H) + '.')"
   ]
  },
  {
   "cell_type": "code",
   "execution_count": null,
   "metadata": {
    "_uuid": "9ef4794a2c21dc8c2b676423bc67460e7fc2a88e"
   },
   "outputs": [],
   "source": [
    "# gen_matrix_shannon(svd_grid, 1, 'SVD after Grid')\n",
    "# gen_matrix_shannon(svd_grid, 10, 'SVD after Grid')\n",
    "# gen_matrix_shannon(svdpp_grid, 1, 'SVD++')\n",
    "# gen_matrix_shannon(svdpp_grid, 10, 'SVD++')\n",
    "# gen_matrix_shannon(nmf_bias, 1, 'NMF with Bias')\n",
    "# gen_matrix_shannon(nmf_bias, 10, 'NMF with Bias')\n",
    "# gen_matrix_shannon(nmf_grid, 1, 'NMF after Grid')\n",
    "# gen_matrix_shannon(nmf_grid, 10, 'NMF after Grid')\n",
    "# gen_matrix_shannon(knnb_item_sgd, 1, 'KNN with SGD')\n",
    "# gen_matrix_shannon(knnb_item_sgd, 10, 'KNN with SGD')\n",
    "# gen_matrix_shannon(knnb_item_als, 1, 'KNN with ALS')\n",
    "# gen_matrix_shannon(knnb_item_als, 10, 'KNN with ALS')"
   ]
  },
  {
   "cell_type": "code",
   "execution_count": null,
   "metadata": {
    "_uuid": "3133d71bcef5693edc39d11004cb0046a91ea541"
   },
   "outputs": [],
   "source": [
    "# def get_coverage(model, r_num, model_name):\n",
    "#     a = time.time()\n",
    "#     '''Get the ratio of unique first r_num recommended items over all items.'''\n",
    "#     rec_index = []\n",
    "#     user_i_est = movies[['movie_id']]\n",
    "#     for i in range(1,943):\n",
    "#         user_i_est['Estimate_Score'] = user_i_est['movie_id'].apply(lambda x: model.predict(i, x).est)\n",
    "#         user_i_est = user_i_est.sort_values('Estimate_Score', ascending=False)\n",
    "#         for v in list(user_i_est['movie_id'])[:n_num]:\n",
    "#             rec_index.append(v)\n",
    "#     H_list = [(rec_index.count(i)/len(rec_index))*np.log(rec_index.count(i)/len(rec_index)) for i in list(movies['movie_id']) if rec_index.count(i) != 0]\n",
    "#     H = sum(H_list)*(-1)\n",
    "#     b = time.time()\n",
    "#     print(b-a)\n",
    "#     print('The Shannon Entrophy for model ' + model_name + ' when recommend ' + str(r_num) + ' items is: ' + str(H) + '.')"
   ]
  },
  {
   "cell_type": "code",
   "execution_count": null,
   "metadata": {
    "_uuid": "4c7539cf8dfd45f62bee13ddd365ddb62a641a1d"
   },
   "outputs": [],
   "source": [
    "# def get_ILD(model, r_num, model_name):\n",
    "#     a = time.time()\n",
    "#     pred_matrix = np.ones(ratings_p.shape)\n",
    "#     for i in range(user_length):\n",
    "#         for j in range(item_length):\n",
    "#             score = model.predict(i, j)\n",
    "#             pred_matrix[i][j] = score.est\n",
    "#     pred = pred_matrix\n",
    "#     rec_index = []\n",
    "#     pred = pred*mask\n",
    "    \n",
    "#     for i in range(len(pred)):\n",
    "#         rec_list = list(pred.iloc[i,:].sort_values(ascending = False).index[:r_num])\n",
    "#         rec_index.append(rec_list)\n",
    "        \n",
    "#     iupper = np.triu_indices(r_num,1)\n",
    "#     ilds = []\n",
    "#     for ui in ild_index:\n",
    "#         one = cosine_similarity(genres.loc[ui,:])[iupper].sum()/(r_num*(r_num-1))\n",
    "#         ilds.append(one)\n",
    "#     ILD = format(np.mean(ilds),'.4f')\n",
    "    \n",
    "#     b = time.time()\n",
    "#     print(b-a)\n",
    "    \n",
    "#     print('The ILD for model ' + model_name + ' when recommend number is ' + str(r_num) + ' is: ' + str(ILD) + '.')"
   ]
  }
 ],
 "metadata": {
  "kernelspec": {
   "display_name": "Python 3",
   "language": "python",
   "name": "python3"
  },
  "language_info": {
   "codemirror_mode": {
    "name": "ipython",
    "version": 3
   },
   "file_extension": ".py",
   "mimetype": "text/x-python",
   "name": "python",
   "nbconvert_exporter": "python",
   "pygments_lexer": "ipython3",
   "version": "3.6.8"
  }
 },
 "nbformat": 4,
 "nbformat_minor": 1
}
