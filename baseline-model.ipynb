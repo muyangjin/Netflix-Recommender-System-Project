{
 "cells": [
  {
   "cell_type": "markdown",
   "metadata": {
    "_cell_guid": "b1076dfc-b9ad-4769-8c92-a6c4dae69d19",
    "_uuid": "8f2839f25d086af736a60e9eeb907d3b93b6e0e5"
   },
   "source": [
    " Import packages and Data"
   ]
  },
  {
   "cell_type": "code",
   "execution_count": 3,
   "metadata": {
    "_cell_guid": "79c7e3d0-c299-4dcb-8224-4455121ee9b0",
    "_uuid": "d629ff2d2480ee46fbb7e2d37f6b5fab8052498a"
   },
   "outputs": [],
   "source": [
    "from surprise import Reader, Dataset, SVD, evaluate\n",
    "import pandas as pd\n",
    "import numpy as np\n",
    "from sklearn.model_selection import train_test_split\n",
    "\n",
    "r_cols = ['user_id', 'movie_id', 'rating', 'unix_timestamp']\n",
    "ratings = pd.read_csv('ml-100k/u.data', sep='\\t', names=r_cols, index_col='movie_id', encoding='latin-1')\n",
    "\n",
    "m_cols = ['movie_id', 'title', 'release_date', 'video_release_date', 'imdb_url','unknown', 'Action', 'Adventure',\\\n",
    "          'Animation', 'Children\\'s', 'Comedy', 'Crime', 'Documentary', 'Drama', 'Fantasy','Film-Noir', 'Horror',\\\n",
    "          'Musical', 'Mystery', 'Romance', 'Sci-Fi', 'Thriller', 'War', 'Western']\n",
    "movies = pd.read_csv('ml-100k/u.item', sep='|', names=m_cols, index_col=0, encoding='latin-1')\n",
    "\n",
    "u_cols = ['user_id', 'age', 'sex', 'occupation', 'zip_code']\n",
    "users = pd.read_csv('ml-100k/u.user', sep='|', names=u_cols, encoding='latin-1', parse_dates=True)"
   ]
  },
  {
   "cell_type": "code",
   "execution_count": 4,
   "metadata": {
    "_uuid": "58fa71cb6410ffc6b2836568352abc7f958b595a"
   },
   "outputs": [
    {
     "data": {
      "text/html": [
       "<div>\n",
       "<style scoped>\n",
       "    .dataframe tbody tr th:only-of-type {\n",
       "        vertical-align: middle;\n",
       "    }\n",
       "\n",
       "    .dataframe tbody tr th {\n",
       "        vertical-align: top;\n",
       "    }\n",
       "\n",
       "    .dataframe thead th {\n",
       "        text-align: right;\n",
       "    }\n",
       "</style>\n",
       "<table border=\"1\" class=\"dataframe\">\n",
       "  <thead>\n",
       "    <tr style=\"text-align: right;\">\n",
       "      <th></th>\n",
       "      <th>user_id</th>\n",
       "      <th>rating</th>\n",
       "      <th>time</th>\n",
       "    </tr>\n",
       "    <tr>\n",
       "      <th>movie_id</th>\n",
       "      <th></th>\n",
       "      <th></th>\n",
       "      <th></th>\n",
       "    </tr>\n",
       "  </thead>\n",
       "  <tbody>\n",
       "    <tr>\n",
       "      <th>242</th>\n",
       "      <td>196</td>\n",
       "      <td>3</td>\n",
       "      <td>1997-12-04 10:55:49</td>\n",
       "    </tr>\n",
       "    <tr>\n",
       "      <th>302</th>\n",
       "      <td>186</td>\n",
       "      <td>3</td>\n",
       "      <td>1998-04-04 14:22:22</td>\n",
       "    </tr>\n",
       "    <tr>\n",
       "      <th>377</th>\n",
       "      <td>22</td>\n",
       "      <td>1</td>\n",
       "      <td>1997-11-07 02:18:36</td>\n",
       "    </tr>\n",
       "    <tr>\n",
       "      <th>51</th>\n",
       "      <td>244</td>\n",
       "      <td>2</td>\n",
       "      <td>1997-11-27 00:02:03</td>\n",
       "    </tr>\n",
       "    <tr>\n",
       "      <th>346</th>\n",
       "      <td>166</td>\n",
       "      <td>1</td>\n",
       "      <td>1998-02-02 00:33:16</td>\n",
       "    </tr>\n",
       "    <tr>\n",
       "      <th>474</th>\n",
       "      <td>298</td>\n",
       "      <td>4</td>\n",
       "      <td>1998-01-07 09:20:06</td>\n",
       "    </tr>\n",
       "    <tr>\n",
       "      <th>265</th>\n",
       "      <td>115</td>\n",
       "      <td>2</td>\n",
       "      <td>1997-12-03 12:51:28</td>\n",
       "    </tr>\n",
       "    <tr>\n",
       "      <th>465</th>\n",
       "      <td>253</td>\n",
       "      <td>5</td>\n",
       "      <td>1998-04-03 13:34:27</td>\n",
       "    </tr>\n",
       "    <tr>\n",
       "      <th>451</th>\n",
       "      <td>305</td>\n",
       "      <td>3</td>\n",
       "      <td>1998-02-01 04:20:17</td>\n",
       "    </tr>\n",
       "    <tr>\n",
       "      <th>86</th>\n",
       "      <td>6</td>\n",
       "      <td>3</td>\n",
       "      <td>1997-12-31 16:16:53</td>\n",
       "    </tr>\n",
       "  </tbody>\n",
       "</table>\n",
       "</div>"
      ],
      "text/plain": [
       "          user_id  rating                time\n",
       "movie_id                                     \n",
       "242           196       3 1997-12-04 10:55:49\n",
       "302           186       3 1998-04-04 14:22:22\n",
       "377            22       1 1997-11-07 02:18:36\n",
       "51            244       2 1997-11-27 00:02:03\n",
       "346           166       1 1998-02-02 00:33:16\n",
       "474           298       4 1998-01-07 09:20:06\n",
       "265           115       2 1997-12-03 12:51:28\n",
       "465           253       5 1998-04-03 13:34:27\n",
       "451           305       3 1998-02-01 04:20:17\n",
       "86              6       3 1997-12-31 16:16:53"
      ]
     },
     "execution_count": 4,
     "metadata": {},
     "output_type": "execute_result"
    }
   ],
   "source": [
    "from datetime import datetime\n",
    "\n",
    "ratings['unix_timestamp'] = ratings['unix_timestamp'].apply(datetime.fromtimestamp)\n",
    "ratings.columns = ['user_id', 'rating', 'time']\n",
    "ratings.head(10)"
   ]
  },
  {
   "cell_type": "markdown",
   "metadata": {
    "_uuid": "0a44105777459e2f32217f5cececf32e0b4147e1"
   },
   "source": [
    "Here we can see how ratings distributed."
   ]
  },
  {
   "cell_type": "code",
   "execution_count": 5,
   "metadata": {
    "_uuid": "2608e86389e9d294b25b28257372c8d936166053"
   },
   "outputs": [
    {
     "data": {
      "text/plain": [
       "<matplotlib.axes._subplots.AxesSubplot at 0x108f45d30>"
      ]
     },
     "execution_count": 5,
     "metadata": {},
     "output_type": "execute_result"
    }
   ],
   "source": [
    "ratings['rating'].hist(bins=9)"
   ]
  },
  {
   "cell_type": "markdown",
   "metadata": {
    "_uuid": "35f0873b97f5b5be9ef1ddec9c19e7bc1d3f0736"
   },
   "source": [
    "So far we will only use the movie title from this DataFrame. We may need the types of the movie later in our model."
   ]
  },
  {
   "cell_type": "code",
   "execution_count": 6,
   "metadata": {
    "_uuid": "25056ef96601e345d93521de6c4df7c256ddf9bb",
    "scrolled": false
   },
   "outputs": [
    {
     "data": {
      "text/html": [
       "<div>\n",
       "<style scoped>\n",
       "    .dataframe tbody tr th:only-of-type {\n",
       "        vertical-align: middle;\n",
       "    }\n",
       "\n",
       "    .dataframe tbody tr th {\n",
       "        vertical-align: top;\n",
       "    }\n",
       "\n",
       "    .dataframe thead th {\n",
       "        text-align: right;\n",
       "    }\n",
       "</style>\n",
       "<table border=\"1\" class=\"dataframe\">\n",
       "  <thead>\n",
       "    <tr style=\"text-align: right;\">\n",
       "      <th></th>\n",
       "      <th>title</th>\n",
       "      <th>release_date</th>\n",
       "      <th>video_release_date</th>\n",
       "      <th>imdb_url</th>\n",
       "      <th>unknown</th>\n",
       "      <th>Action</th>\n",
       "      <th>Adventure</th>\n",
       "      <th>Animation</th>\n",
       "      <th>Children's</th>\n",
       "      <th>Comedy</th>\n",
       "      <th>...</th>\n",
       "      <th>Fantasy</th>\n",
       "      <th>Film-Noir</th>\n",
       "      <th>Horror</th>\n",
       "      <th>Musical</th>\n",
       "      <th>Mystery</th>\n",
       "      <th>Romance</th>\n",
       "      <th>Sci-Fi</th>\n",
       "      <th>Thriller</th>\n",
       "      <th>War</th>\n",
       "      <th>Western</th>\n",
       "    </tr>\n",
       "    <tr>\n",
       "      <th>movie_id</th>\n",
       "      <th></th>\n",
       "      <th></th>\n",
       "      <th></th>\n",
       "      <th></th>\n",
       "      <th></th>\n",
       "      <th></th>\n",
       "      <th></th>\n",
       "      <th></th>\n",
       "      <th></th>\n",
       "      <th></th>\n",
       "      <th></th>\n",
       "      <th></th>\n",
       "      <th></th>\n",
       "      <th></th>\n",
       "      <th></th>\n",
       "      <th></th>\n",
       "      <th></th>\n",
       "      <th></th>\n",
       "      <th></th>\n",
       "      <th></th>\n",
       "      <th></th>\n",
       "    </tr>\n",
       "  </thead>\n",
       "  <tbody>\n",
       "    <tr>\n",
       "      <th>1</th>\n",
       "      <td>Toy Story (1995)</td>\n",
       "      <td>1995-01-01</td>\n",
       "      <td>NaN</td>\n",
       "      <td>http://us.imdb.com/M/title-exact?Toy%20Story%2...</td>\n",
       "      <td>0</td>\n",
       "      <td>0</td>\n",
       "      <td>0</td>\n",
       "      <td>1</td>\n",
       "      <td>1</td>\n",
       "      <td>1</td>\n",
       "      <td>...</td>\n",
       "      <td>0</td>\n",
       "      <td>0</td>\n",
       "      <td>0</td>\n",
       "      <td>0</td>\n",
       "      <td>0</td>\n",
       "      <td>0</td>\n",
       "      <td>0</td>\n",
       "      <td>0</td>\n",
       "      <td>0</td>\n",
       "      <td>0</td>\n",
       "    </tr>\n",
       "    <tr>\n",
       "      <th>2</th>\n",
       "      <td>GoldenEye (1995)</td>\n",
       "      <td>1995-01-01</td>\n",
       "      <td>NaN</td>\n",
       "      <td>http://us.imdb.com/M/title-exact?GoldenEye%20(...</td>\n",
       "      <td>0</td>\n",
       "      <td>1</td>\n",
       "      <td>1</td>\n",
       "      <td>0</td>\n",
       "      <td>0</td>\n",
       "      <td>0</td>\n",
       "      <td>...</td>\n",
       "      <td>0</td>\n",
       "      <td>0</td>\n",
       "      <td>0</td>\n",
       "      <td>0</td>\n",
       "      <td>0</td>\n",
       "      <td>0</td>\n",
       "      <td>0</td>\n",
       "      <td>1</td>\n",
       "      <td>0</td>\n",
       "      <td>0</td>\n",
       "    </tr>\n",
       "    <tr>\n",
       "      <th>3</th>\n",
       "      <td>Four Rooms (1995)</td>\n",
       "      <td>1995-01-01</td>\n",
       "      <td>NaN</td>\n",
       "      <td>http://us.imdb.com/M/title-exact?Four%20Rooms%...</td>\n",
       "      <td>0</td>\n",
       "      <td>0</td>\n",
       "      <td>0</td>\n",
       "      <td>0</td>\n",
       "      <td>0</td>\n",
       "      <td>0</td>\n",
       "      <td>...</td>\n",
       "      <td>0</td>\n",
       "      <td>0</td>\n",
       "      <td>0</td>\n",
       "      <td>0</td>\n",
       "      <td>0</td>\n",
       "      <td>0</td>\n",
       "      <td>0</td>\n",
       "      <td>1</td>\n",
       "      <td>0</td>\n",
       "      <td>0</td>\n",
       "    </tr>\n",
       "    <tr>\n",
       "      <th>4</th>\n",
       "      <td>Get Shorty (1995)</td>\n",
       "      <td>1995-01-01</td>\n",
       "      <td>NaN</td>\n",
       "      <td>http://us.imdb.com/M/title-exact?Get%20Shorty%...</td>\n",
       "      <td>0</td>\n",
       "      <td>1</td>\n",
       "      <td>0</td>\n",
       "      <td>0</td>\n",
       "      <td>0</td>\n",
       "      <td>1</td>\n",
       "      <td>...</td>\n",
       "      <td>0</td>\n",
       "      <td>0</td>\n",
       "      <td>0</td>\n",
       "      <td>0</td>\n",
       "      <td>0</td>\n",
       "      <td>0</td>\n",
       "      <td>0</td>\n",
       "      <td>0</td>\n",
       "      <td>0</td>\n",
       "      <td>0</td>\n",
       "    </tr>\n",
       "    <tr>\n",
       "      <th>5</th>\n",
       "      <td>Copycat (1995)</td>\n",
       "      <td>1995-01-01</td>\n",
       "      <td>NaN</td>\n",
       "      <td>http://us.imdb.com/M/title-exact?Copycat%20(1995)</td>\n",
       "      <td>0</td>\n",
       "      <td>0</td>\n",
       "      <td>0</td>\n",
       "      <td>0</td>\n",
       "      <td>0</td>\n",
       "      <td>0</td>\n",
       "      <td>...</td>\n",
       "      <td>0</td>\n",
       "      <td>0</td>\n",
       "      <td>0</td>\n",
       "      <td>0</td>\n",
       "      <td>0</td>\n",
       "      <td>0</td>\n",
       "      <td>0</td>\n",
       "      <td>1</td>\n",
       "      <td>0</td>\n",
       "      <td>0</td>\n",
       "    </tr>\n",
       "    <tr>\n",
       "      <th>6</th>\n",
       "      <td>Shanghai Triad (Yao a yao yao dao waipo qiao) ...</td>\n",
       "      <td>1995-01-01</td>\n",
       "      <td>NaN</td>\n",
       "      <td>http://us.imdb.com/Title?Yao+a+yao+yao+dao+wai...</td>\n",
       "      <td>0</td>\n",
       "      <td>0</td>\n",
       "      <td>0</td>\n",
       "      <td>0</td>\n",
       "      <td>0</td>\n",
       "      <td>0</td>\n",
       "      <td>...</td>\n",
       "      <td>0</td>\n",
       "      <td>0</td>\n",
       "      <td>0</td>\n",
       "      <td>0</td>\n",
       "      <td>0</td>\n",
       "      <td>0</td>\n",
       "      <td>0</td>\n",
       "      <td>0</td>\n",
       "      <td>0</td>\n",
       "      <td>0</td>\n",
       "    </tr>\n",
       "    <tr>\n",
       "      <th>7</th>\n",
       "      <td>Twelve Monkeys (1995)</td>\n",
       "      <td>1995-01-01</td>\n",
       "      <td>NaN</td>\n",
       "      <td>http://us.imdb.com/M/title-exact?Twelve%20Monk...</td>\n",
       "      <td>0</td>\n",
       "      <td>0</td>\n",
       "      <td>0</td>\n",
       "      <td>0</td>\n",
       "      <td>0</td>\n",
       "      <td>0</td>\n",
       "      <td>...</td>\n",
       "      <td>0</td>\n",
       "      <td>0</td>\n",
       "      <td>0</td>\n",
       "      <td>0</td>\n",
       "      <td>0</td>\n",
       "      <td>0</td>\n",
       "      <td>1</td>\n",
       "      <td>0</td>\n",
       "      <td>0</td>\n",
       "      <td>0</td>\n",
       "    </tr>\n",
       "    <tr>\n",
       "      <th>8</th>\n",
       "      <td>Babe (1995)</td>\n",
       "      <td>1995-01-01</td>\n",
       "      <td>NaN</td>\n",
       "      <td>http://us.imdb.com/M/title-exact?Babe%20(1995)</td>\n",
       "      <td>0</td>\n",
       "      <td>0</td>\n",
       "      <td>0</td>\n",
       "      <td>0</td>\n",
       "      <td>1</td>\n",
       "      <td>1</td>\n",
       "      <td>...</td>\n",
       "      <td>0</td>\n",
       "      <td>0</td>\n",
       "      <td>0</td>\n",
       "      <td>0</td>\n",
       "      <td>0</td>\n",
       "      <td>0</td>\n",
       "      <td>0</td>\n",
       "      <td>0</td>\n",
       "      <td>0</td>\n",
       "      <td>0</td>\n",
       "    </tr>\n",
       "    <tr>\n",
       "      <th>9</th>\n",
       "      <td>Dead Man Walking (1995)</td>\n",
       "      <td>1995-01-01</td>\n",
       "      <td>NaN</td>\n",
       "      <td>http://us.imdb.com/M/title-exact?Dead%20Man%20...</td>\n",
       "      <td>0</td>\n",
       "      <td>0</td>\n",
       "      <td>0</td>\n",
       "      <td>0</td>\n",
       "      <td>0</td>\n",
       "      <td>0</td>\n",
       "      <td>...</td>\n",
       "      <td>0</td>\n",
       "      <td>0</td>\n",
       "      <td>0</td>\n",
       "      <td>0</td>\n",
       "      <td>0</td>\n",
       "      <td>0</td>\n",
       "      <td>0</td>\n",
       "      <td>0</td>\n",
       "      <td>0</td>\n",
       "      <td>0</td>\n",
       "    </tr>\n",
       "    <tr>\n",
       "      <th>10</th>\n",
       "      <td>Richard III (1995)</td>\n",
       "      <td>1996-01-22</td>\n",
       "      <td>NaN</td>\n",
       "      <td>http://us.imdb.com/M/title-exact?Richard%20III...</td>\n",
       "      <td>0</td>\n",
       "      <td>0</td>\n",
       "      <td>0</td>\n",
       "      <td>0</td>\n",
       "      <td>0</td>\n",
       "      <td>0</td>\n",
       "      <td>...</td>\n",
       "      <td>0</td>\n",
       "      <td>0</td>\n",
       "      <td>0</td>\n",
       "      <td>0</td>\n",
       "      <td>0</td>\n",
       "      <td>0</td>\n",
       "      <td>0</td>\n",
       "      <td>0</td>\n",
       "      <td>1</td>\n",
       "      <td>0</td>\n",
       "    </tr>\n",
       "  </tbody>\n",
       "</table>\n",
       "<p>10 rows × 23 columns</p>\n",
       "</div>"
      ],
      "text/plain": [
       "                                                      title release_date  \\\n",
       "movie_id                                                                   \n",
       "1                                          Toy Story (1995)   1995-01-01   \n",
       "2                                          GoldenEye (1995)   1995-01-01   \n",
       "3                                         Four Rooms (1995)   1995-01-01   \n",
       "4                                         Get Shorty (1995)   1995-01-01   \n",
       "5                                            Copycat (1995)   1995-01-01   \n",
       "6         Shanghai Triad (Yao a yao yao dao waipo qiao) ...   1995-01-01   \n",
       "7                                     Twelve Monkeys (1995)   1995-01-01   \n",
       "8                                               Babe (1995)   1995-01-01   \n",
       "9                                   Dead Man Walking (1995)   1995-01-01   \n",
       "10                                       Richard III (1995)   1996-01-22   \n",
       "\n",
       "          video_release_date  \\\n",
       "movie_id                       \n",
       "1                        NaN   \n",
       "2                        NaN   \n",
       "3                        NaN   \n",
       "4                        NaN   \n",
       "5                        NaN   \n",
       "6                        NaN   \n",
       "7                        NaN   \n",
       "8                        NaN   \n",
       "9                        NaN   \n",
       "10                       NaN   \n",
       "\n",
       "                                                   imdb_url  unknown  Action  \\\n",
       "movie_id                                                                       \n",
       "1         http://us.imdb.com/M/title-exact?Toy%20Story%2...        0       0   \n",
       "2         http://us.imdb.com/M/title-exact?GoldenEye%20(...        0       1   \n",
       "3         http://us.imdb.com/M/title-exact?Four%20Rooms%...        0       0   \n",
       "4         http://us.imdb.com/M/title-exact?Get%20Shorty%...        0       1   \n",
       "5         http://us.imdb.com/M/title-exact?Copycat%20(1995)        0       0   \n",
       "6         http://us.imdb.com/Title?Yao+a+yao+yao+dao+wai...        0       0   \n",
       "7         http://us.imdb.com/M/title-exact?Twelve%20Monk...        0       0   \n",
       "8            http://us.imdb.com/M/title-exact?Babe%20(1995)        0       0   \n",
       "9         http://us.imdb.com/M/title-exact?Dead%20Man%20...        0       0   \n",
       "10        http://us.imdb.com/M/title-exact?Richard%20III...        0       0   \n",
       "\n",
       "          Adventure  Animation  Children's  Comedy  ...  Fantasy  Film-Noir  \\\n",
       "movie_id                                            ...                       \n",
       "1                 0          1           1       1  ...        0          0   \n",
       "2                 1          0           0       0  ...        0          0   \n",
       "3                 0          0           0       0  ...        0          0   \n",
       "4                 0          0           0       1  ...        0          0   \n",
       "5                 0          0           0       0  ...        0          0   \n",
       "6                 0          0           0       0  ...        0          0   \n",
       "7                 0          0           0       0  ...        0          0   \n",
       "8                 0          0           1       1  ...        0          0   \n",
       "9                 0          0           0       0  ...        0          0   \n",
       "10                0          0           0       0  ...        0          0   \n",
       "\n",
       "          Horror  Musical  Mystery  Romance  Sci-Fi  Thriller  War  Western  \n",
       "movie_id                                                                     \n",
       "1              0        0        0        0       0         0    0        0  \n",
       "2              0        0        0        0       0         1    0        0  \n",
       "3              0        0        0        0       0         1    0        0  \n",
       "4              0        0        0        0       0         0    0        0  \n",
       "5              0        0        0        0       0         1    0        0  \n",
       "6              0        0        0        0       0         0    0        0  \n",
       "7              0        0        0        0       1         0    0        0  \n",
       "8              0        0        0        0       0         0    0        0  \n",
       "9              0        0        0        0       0         0    0        0  \n",
       "10             0        0        0        0       0         0    1        0  \n",
       "\n",
       "[10 rows x 23 columns]"
      ]
     },
     "execution_count": 6,
     "metadata": {},
     "output_type": "execute_result"
    }
   ],
   "source": [
    "movies['release_date'] = pd.to_datetime(movies['release_date'])\n",
    "movies.head(10)"
   ]
  },
  {
   "cell_type": "code",
   "execution_count": 8,
   "metadata": {
    "_uuid": "d7d6d4fa4157ba520c8c12c34047972354effe93"
   },
   "outputs": [
    {
     "ename": "KeyError",
     "evalue": "'occupation'",
     "output_type": "error",
     "traceback": [
      "\u001b[0;31m---------------------------------------------------------------------------\u001b[0m",
      "\u001b[0;31mKeyError\u001b[0m                                  Traceback (most recent call last)",
      "\u001b[0;32m/anaconda3/lib/python3.6/site-packages/pandas/core/indexes/base.py\u001b[0m in \u001b[0;36mget_loc\u001b[0;34m(self, key, method, tolerance)\u001b[0m\n\u001b[1;32m   2655\u001b[0m             \u001b[0;32mtry\u001b[0m\u001b[0;34m:\u001b[0m\u001b[0;34m\u001b[0m\u001b[0;34m\u001b[0m\u001b[0m\n\u001b[0;32m-> 2656\u001b[0;31m                 \u001b[0;32mreturn\u001b[0m \u001b[0mself\u001b[0m\u001b[0;34m.\u001b[0m\u001b[0m_engine\u001b[0m\u001b[0;34m.\u001b[0m\u001b[0mget_loc\u001b[0m\u001b[0;34m(\u001b[0m\u001b[0mkey\u001b[0m\u001b[0;34m)\u001b[0m\u001b[0;34m\u001b[0m\u001b[0;34m\u001b[0m\u001b[0m\n\u001b[0m\u001b[1;32m   2657\u001b[0m             \u001b[0;32mexcept\u001b[0m \u001b[0mKeyError\u001b[0m\u001b[0;34m:\u001b[0m\u001b[0;34m\u001b[0m\u001b[0;34m\u001b[0m\u001b[0m\n",
      "\u001b[0;32mpandas/_libs/index.pyx\u001b[0m in \u001b[0;36mpandas._libs.index.IndexEngine.get_loc\u001b[0;34m()\u001b[0m\n",
      "\u001b[0;32mpandas/_libs/index.pyx\u001b[0m in \u001b[0;36mpandas._libs.index.IndexEngine.get_loc\u001b[0;34m()\u001b[0m\n",
      "\u001b[0;32mpandas/_libs/hashtable_class_helper.pxi\u001b[0m in \u001b[0;36mpandas._libs.hashtable.PyObjectHashTable.get_item\u001b[0;34m()\u001b[0m\n",
      "\u001b[0;32mpandas/_libs/hashtable_class_helper.pxi\u001b[0m in \u001b[0;36mpandas._libs.hashtable.PyObjectHashTable.get_item\u001b[0;34m()\u001b[0m\n",
      "\u001b[0;31mKeyError\u001b[0m: 'occupation'",
      "\nDuring handling of the above exception, another exception occurred:\n",
      "\u001b[0;31mKeyError\u001b[0m                                  Traceback (most recent call last)",
      "\u001b[0;32m<ipython-input-8-383bfc36d892>\u001b[0m in \u001b[0;36m<module>\u001b[0;34m()\u001b[0m\n\u001b[0;32m----> 1\u001b[0;31m \u001b[0;32mfor\u001b[0m \u001b[0mi\u001b[0m \u001b[0;32min\u001b[0m \u001b[0musers\u001b[0m\u001b[0;34m[\u001b[0m\u001b[0;34m'occupation'\u001b[0m\u001b[0;34m]\u001b[0m\u001b[0;34m.\u001b[0m\u001b[0munique\u001b[0m\u001b[0;34m(\u001b[0m\u001b[0;34m)\u001b[0m\u001b[0;34m:\u001b[0m\u001b[0;34m\u001b[0m\u001b[0;34m\u001b[0m\u001b[0m\n\u001b[0m\u001b[1;32m      2\u001b[0m     \u001b[0musers\u001b[0m\u001b[0;34m[\u001b[0m\u001b[0mi\u001b[0m\u001b[0;34m]\u001b[0m \u001b[0;34m=\u001b[0m \u001b[0musers\u001b[0m\u001b[0;34m[\u001b[0m\u001b[0;34m'occupation'\u001b[0m\u001b[0;34m]\u001b[0m \u001b[0;34m==\u001b[0m \u001b[0mi\u001b[0m\u001b[0;34m\u001b[0m\u001b[0;34m\u001b[0m\u001b[0m\n\u001b[1;32m      3\u001b[0m \u001b[0musers\u001b[0m\u001b[0;34m.\u001b[0m\u001b[0mdrop\u001b[0m\u001b[0;34m(\u001b[0m\u001b[0;34m'occupation'\u001b[0m\u001b[0;34m,\u001b[0m \u001b[0maxis\u001b[0m\u001b[0;34m=\u001b[0m\u001b[0;36m1\u001b[0m\u001b[0;34m,\u001b[0m \u001b[0minplace\u001b[0m\u001b[0;34m=\u001b[0m\u001b[0;32mTrue\u001b[0m\u001b[0;34m)\u001b[0m\u001b[0;34m\u001b[0m\u001b[0;34m\u001b[0m\u001b[0m\n\u001b[1;32m      4\u001b[0m \u001b[0musers\u001b[0m\u001b[0;34m.\u001b[0m\u001b[0mhead\u001b[0m\u001b[0;34m(\u001b[0m\u001b[0;36m10\u001b[0m\u001b[0;34m)\u001b[0m\u001b[0;34m\u001b[0m\u001b[0;34m\u001b[0m\u001b[0m\n",
      "\u001b[0;32m/anaconda3/lib/python3.6/site-packages/pandas/core/frame.py\u001b[0m in \u001b[0;36m__getitem__\u001b[0;34m(self, key)\u001b[0m\n\u001b[1;32m   2925\u001b[0m             \u001b[0;32mif\u001b[0m \u001b[0mself\u001b[0m\u001b[0;34m.\u001b[0m\u001b[0mcolumns\u001b[0m\u001b[0;34m.\u001b[0m\u001b[0mnlevels\u001b[0m \u001b[0;34m>\u001b[0m \u001b[0;36m1\u001b[0m\u001b[0;34m:\u001b[0m\u001b[0;34m\u001b[0m\u001b[0;34m\u001b[0m\u001b[0m\n\u001b[1;32m   2926\u001b[0m                 \u001b[0;32mreturn\u001b[0m \u001b[0mself\u001b[0m\u001b[0;34m.\u001b[0m\u001b[0m_getitem_multilevel\u001b[0m\u001b[0;34m(\u001b[0m\u001b[0mkey\u001b[0m\u001b[0;34m)\u001b[0m\u001b[0;34m\u001b[0m\u001b[0;34m\u001b[0m\u001b[0m\n\u001b[0;32m-> 2927\u001b[0;31m             \u001b[0mindexer\u001b[0m \u001b[0;34m=\u001b[0m \u001b[0mself\u001b[0m\u001b[0;34m.\u001b[0m\u001b[0mcolumns\u001b[0m\u001b[0;34m.\u001b[0m\u001b[0mget_loc\u001b[0m\u001b[0;34m(\u001b[0m\u001b[0mkey\u001b[0m\u001b[0;34m)\u001b[0m\u001b[0;34m\u001b[0m\u001b[0;34m\u001b[0m\u001b[0m\n\u001b[0m\u001b[1;32m   2928\u001b[0m             \u001b[0;32mif\u001b[0m \u001b[0mis_integer\u001b[0m\u001b[0;34m(\u001b[0m\u001b[0mindexer\u001b[0m\u001b[0;34m)\u001b[0m\u001b[0;34m:\u001b[0m\u001b[0;34m\u001b[0m\u001b[0;34m\u001b[0m\u001b[0m\n\u001b[1;32m   2929\u001b[0m                 \u001b[0mindexer\u001b[0m \u001b[0;34m=\u001b[0m \u001b[0;34m[\u001b[0m\u001b[0mindexer\u001b[0m\u001b[0;34m]\u001b[0m\u001b[0;34m\u001b[0m\u001b[0;34m\u001b[0m\u001b[0m\n",
      "\u001b[0;32m/anaconda3/lib/python3.6/site-packages/pandas/core/indexes/base.py\u001b[0m in \u001b[0;36mget_loc\u001b[0;34m(self, key, method, tolerance)\u001b[0m\n\u001b[1;32m   2656\u001b[0m                 \u001b[0;32mreturn\u001b[0m \u001b[0mself\u001b[0m\u001b[0;34m.\u001b[0m\u001b[0m_engine\u001b[0m\u001b[0;34m.\u001b[0m\u001b[0mget_loc\u001b[0m\u001b[0;34m(\u001b[0m\u001b[0mkey\u001b[0m\u001b[0;34m)\u001b[0m\u001b[0;34m\u001b[0m\u001b[0;34m\u001b[0m\u001b[0m\n\u001b[1;32m   2657\u001b[0m             \u001b[0;32mexcept\u001b[0m \u001b[0mKeyError\u001b[0m\u001b[0;34m:\u001b[0m\u001b[0;34m\u001b[0m\u001b[0;34m\u001b[0m\u001b[0m\n\u001b[0;32m-> 2658\u001b[0;31m                 \u001b[0;32mreturn\u001b[0m \u001b[0mself\u001b[0m\u001b[0;34m.\u001b[0m\u001b[0m_engine\u001b[0m\u001b[0;34m.\u001b[0m\u001b[0mget_loc\u001b[0m\u001b[0;34m(\u001b[0m\u001b[0mself\u001b[0m\u001b[0;34m.\u001b[0m\u001b[0m_maybe_cast_indexer\u001b[0m\u001b[0;34m(\u001b[0m\u001b[0mkey\u001b[0m\u001b[0;34m)\u001b[0m\u001b[0;34m)\u001b[0m\u001b[0;34m\u001b[0m\u001b[0;34m\u001b[0m\u001b[0m\n\u001b[0m\u001b[1;32m   2659\u001b[0m         \u001b[0mindexer\u001b[0m \u001b[0;34m=\u001b[0m \u001b[0mself\u001b[0m\u001b[0;34m.\u001b[0m\u001b[0mget_indexer\u001b[0m\u001b[0;34m(\u001b[0m\u001b[0;34m[\u001b[0m\u001b[0mkey\u001b[0m\u001b[0;34m]\u001b[0m\u001b[0;34m,\u001b[0m \u001b[0mmethod\u001b[0m\u001b[0;34m=\u001b[0m\u001b[0mmethod\u001b[0m\u001b[0;34m,\u001b[0m \u001b[0mtolerance\u001b[0m\u001b[0;34m=\u001b[0m\u001b[0mtolerance\u001b[0m\u001b[0;34m)\u001b[0m\u001b[0;34m\u001b[0m\u001b[0;34m\u001b[0m\u001b[0m\n\u001b[1;32m   2660\u001b[0m         \u001b[0;32mif\u001b[0m \u001b[0mindexer\u001b[0m\u001b[0;34m.\u001b[0m\u001b[0mndim\u001b[0m \u001b[0;34m>\u001b[0m \u001b[0;36m1\u001b[0m \u001b[0;32mor\u001b[0m \u001b[0mindexer\u001b[0m\u001b[0;34m.\u001b[0m\u001b[0msize\u001b[0m \u001b[0;34m>\u001b[0m \u001b[0;36m1\u001b[0m\u001b[0;34m:\u001b[0m\u001b[0;34m\u001b[0m\u001b[0;34m\u001b[0m\u001b[0m\n",
      "\u001b[0;32mpandas/_libs/index.pyx\u001b[0m in \u001b[0;36mpandas._libs.index.IndexEngine.get_loc\u001b[0;34m()\u001b[0m\n",
      "\u001b[0;32mpandas/_libs/index.pyx\u001b[0m in \u001b[0;36mpandas._libs.index.IndexEngine.get_loc\u001b[0;34m()\u001b[0m\n",
      "\u001b[0;32mpandas/_libs/hashtable_class_helper.pxi\u001b[0m in \u001b[0;36mpandas._libs.hashtable.PyObjectHashTable.get_item\u001b[0;34m()\u001b[0m\n",
      "\u001b[0;32mpandas/_libs/hashtable_class_helper.pxi\u001b[0m in \u001b[0;36mpandas._libs.hashtable.PyObjectHashTable.get_item\u001b[0;34m()\u001b[0m\n",
      "\u001b[0;31mKeyError\u001b[0m: 'occupation'"
     ]
    }
   ],
   "source": [
    "for i in users['occupation'].unique():\n",
    "    users[i] = users['occupation'] == i\n",
    "users.drop('occupation', axis=1, inplace=True)\n",
    "users.head(10)"
   ]
  },
  {
   "cell_type": "markdown",
   "metadata": {
    "_uuid": "fc7973ff9224380b2531282a88daffc826ed5b28"
   },
   "source": [
    "For each movie we count how many ratings it got, and what's the mean and standard deviation."
   ]
  },
  {
   "cell_type": "code",
   "execution_count": 9,
   "metadata": {
    "_uuid": "78bc2eab222460897f87d7ea31eec3f60559b323"
   },
   "outputs": [
    {
     "data": {
      "text/html": [
       "<div>\n",
       "<style scoped>\n",
       "    .dataframe tbody tr th:only-of-type {\n",
       "        vertical-align: middle;\n",
       "    }\n",
       "\n",
       "    .dataframe tbody tr th {\n",
       "        vertical-align: top;\n",
       "    }\n",
       "\n",
       "    .dataframe thead th {\n",
       "        text-align: right;\n",
       "    }\n",
       "</style>\n",
       "<table border=\"1\" class=\"dataframe\">\n",
       "  <thead>\n",
       "    <tr style=\"text-align: right;\">\n",
       "      <th></th>\n",
       "      <th>count</th>\n",
       "      <th>mean</th>\n",
       "      <th>std</th>\n",
       "    </tr>\n",
       "    <tr>\n",
       "      <th>movie_id</th>\n",
       "      <th></th>\n",
       "      <th></th>\n",
       "      <th></th>\n",
       "    </tr>\n",
       "  </thead>\n",
       "  <tbody>\n",
       "    <tr>\n",
       "      <th>1</th>\n",
       "      <td>452</td>\n",
       "      <td>3.878319</td>\n",
       "      <td>0.927897</td>\n",
       "    </tr>\n",
       "    <tr>\n",
       "      <th>2</th>\n",
       "      <td>131</td>\n",
       "      <td>3.206107</td>\n",
       "      <td>0.966497</td>\n",
       "    </tr>\n",
       "    <tr>\n",
       "      <th>3</th>\n",
       "      <td>90</td>\n",
       "      <td>3.033333</td>\n",
       "      <td>1.212760</td>\n",
       "    </tr>\n",
       "    <tr>\n",
       "      <th>4</th>\n",
       "      <td>209</td>\n",
       "      <td>3.550239</td>\n",
       "      <td>0.965069</td>\n",
       "    </tr>\n",
       "    <tr>\n",
       "      <th>5</th>\n",
       "      <td>86</td>\n",
       "      <td>3.302326</td>\n",
       "      <td>0.946446</td>\n",
       "    </tr>\n",
       "    <tr>\n",
       "      <th>6</th>\n",
       "      <td>26</td>\n",
       "      <td>3.576923</td>\n",
       "      <td>1.301478</td>\n",
       "    </tr>\n",
       "    <tr>\n",
       "      <th>7</th>\n",
       "      <td>392</td>\n",
       "      <td>3.798469</td>\n",
       "      <td>0.982037</td>\n",
       "    </tr>\n",
       "    <tr>\n",
       "      <th>8</th>\n",
       "      <td>219</td>\n",
       "      <td>3.995434</td>\n",
       "      <td>1.002281</td>\n",
       "    </tr>\n",
       "    <tr>\n",
       "      <th>9</th>\n",
       "      <td>299</td>\n",
       "      <td>3.896321</td>\n",
       "      <td>1.042368</td>\n",
       "    </tr>\n",
       "    <tr>\n",
       "      <th>10</th>\n",
       "      <td>89</td>\n",
       "      <td>3.831461</td>\n",
       "      <td>1.013948</td>\n",
       "    </tr>\n",
       "  </tbody>\n",
       "</table>\n",
       "</div>"
      ],
      "text/plain": [
       "          count      mean       std\n",
       "movie_id                           \n",
       "1           452  3.878319  0.927897\n",
       "2           131  3.206107  0.966497\n",
       "3            90  3.033333  1.212760\n",
       "4           209  3.550239  0.965069\n",
       "5            86  3.302326  0.946446\n",
       "6            26  3.576923  1.301478\n",
       "7           392  3.798469  0.982037\n",
       "8           219  3.995434  1.002281\n",
       "9           299  3.896321  1.042368\n",
       "10           89  3.831461  1.013948"
      ]
     },
     "execution_count": 9,
     "metadata": {},
     "output_type": "execute_result"
    }
   ],
   "source": [
    "ratings_movie_summary = ratings.groupby('movie_id')['rating'].agg(['count', 'mean', 'std'])\n",
    "ratings_movie_summary.head(10)"
   ]
  },
  {
   "cell_type": "markdown",
   "metadata": {
    "_uuid": "0e81e333b15ebeb64077f684a2dd96ab6972450f"
   },
   "source": [
    "For each user, we count how many ratings he or she gives, and the mean and standard deviation as well."
   ]
  },
  {
   "cell_type": "code",
   "execution_count": 10,
   "metadata": {
    "_uuid": "b1401401de2fd15fbee4df92af8d352203ecf755"
   },
   "outputs": [
    {
     "data": {
      "text/html": [
       "<div>\n",
       "<style scoped>\n",
       "    .dataframe tbody tr th:only-of-type {\n",
       "        vertical-align: middle;\n",
       "    }\n",
       "\n",
       "    .dataframe tbody tr th {\n",
       "        vertical-align: top;\n",
       "    }\n",
       "\n",
       "    .dataframe thead th {\n",
       "        text-align: right;\n",
       "    }\n",
       "</style>\n",
       "<table border=\"1\" class=\"dataframe\">\n",
       "  <thead>\n",
       "    <tr style=\"text-align: right;\">\n",
       "      <th></th>\n",
       "      <th>count</th>\n",
       "      <th>mean</th>\n",
       "      <th>std</th>\n",
       "    </tr>\n",
       "    <tr>\n",
       "      <th>user_id</th>\n",
       "      <th></th>\n",
       "      <th></th>\n",
       "      <th></th>\n",
       "    </tr>\n",
       "  </thead>\n",
       "  <tbody>\n",
       "    <tr>\n",
       "      <th>1</th>\n",
       "      <td>272</td>\n",
       "      <td>3.610294</td>\n",
       "      <td>1.263585</td>\n",
       "    </tr>\n",
       "    <tr>\n",
       "      <th>2</th>\n",
       "      <td>62</td>\n",
       "      <td>3.709677</td>\n",
       "      <td>1.030472</td>\n",
       "    </tr>\n",
       "    <tr>\n",
       "      <th>3</th>\n",
       "      <td>54</td>\n",
       "      <td>2.796296</td>\n",
       "      <td>1.219026</td>\n",
       "    </tr>\n",
       "    <tr>\n",
       "      <th>4</th>\n",
       "      <td>24</td>\n",
       "      <td>4.333333</td>\n",
       "      <td>0.916831</td>\n",
       "    </tr>\n",
       "    <tr>\n",
       "      <th>5</th>\n",
       "      <td>175</td>\n",
       "      <td>2.874286</td>\n",
       "      <td>1.362963</td>\n",
       "    </tr>\n",
       "    <tr>\n",
       "      <th>6</th>\n",
       "      <td>211</td>\n",
       "      <td>3.635071</td>\n",
       "      <td>1.039461</td>\n",
       "    </tr>\n",
       "    <tr>\n",
       "      <th>7</th>\n",
       "      <td>403</td>\n",
       "      <td>3.965261</td>\n",
       "      <td>1.064480</td>\n",
       "    </tr>\n",
       "    <tr>\n",
       "      <th>8</th>\n",
       "      <td>59</td>\n",
       "      <td>3.796610</td>\n",
       "      <td>1.242629</td>\n",
       "    </tr>\n",
       "    <tr>\n",
       "      <th>9</th>\n",
       "      <td>22</td>\n",
       "      <td>4.272727</td>\n",
       "      <td>0.935125</td>\n",
       "    </tr>\n",
       "    <tr>\n",
       "      <th>10</th>\n",
       "      <td>184</td>\n",
       "      <td>4.206522</td>\n",
       "      <td>0.582777</td>\n",
       "    </tr>\n",
       "  </tbody>\n",
       "</table>\n",
       "</div>"
      ],
      "text/plain": [
       "         count      mean       std\n",
       "user_id                           \n",
       "1          272  3.610294  1.263585\n",
       "2           62  3.709677  1.030472\n",
       "3           54  2.796296  1.219026\n",
       "4           24  4.333333  0.916831\n",
       "5          175  2.874286  1.362963\n",
       "6          211  3.635071  1.039461\n",
       "7          403  3.965261  1.064480\n",
       "8           59  3.796610  1.242629\n",
       "9           22  4.272727  0.935125\n",
       "10         184  4.206522  0.582777"
      ]
     },
     "execution_count": 10,
     "metadata": {},
     "output_type": "execute_result"
    }
   ],
   "source": [
    "ratings_user_summary = ratings.groupby('user_id')['rating'].agg(['count', 'mean', 'std'])\n",
    "ratings_user_summary.head(10)"
   ]
  },
  {
   "cell_type": "code",
   "execution_count": 11,
   "metadata": {
    "_uuid": "2ecb4a322d23ff6f330bcb45f0e563998d847ba5"
   },
   "outputs": [
    {
     "data": {
      "text/plain": [
       "<matplotlib.axes._subplots.AxesSubplot at 0x10d8cf1d0>"
      ]
     },
     "execution_count": 11,
     "metadata": {},
     "output_type": "execute_result"
    },
    {
     "data": {
      "image/png": "[encoded data removed]",
      "text/plain": [
       "<Figure size 432x288 with 1 Axes>"
      ]
     },
     "metadata": {},
     "output_type": "display_data"
    }
   ],
   "source": [
    "ratings_movie_summary.sort_values(by='count')['count'].hist(bins=20)"
   ]
  },
  {
   "cell_type": "code",
   "execution_count": 12,
   "metadata": {
    "_uuid": "99c94bad715dfca5e04551870beeb471ca10a8f7"
   },
   "outputs": [
    {
     "data": {
      "text/plain": [
       "<matplotlib.axes._subplots.AxesSubplot at 0x1a15d5e080>"
      ]
     },
     "execution_count": 12,
     "metadata": {},
     "output_type": "execute_result"
    },
    {
     "data": {
      "image/png": "[encoded data removed]",
      "text/plain": [
       "<Figure size 432x288 with 1 Axes>"
      ]
     },
     "metadata": {},
     "output_type": "display_data"
    }
   ],
   "source": [
    "ratings_movie_summary.sort_values(by='mean')['mean'].hist(bins=20)"
   ]
  },
  {
   "cell_type": "code",
   "execution_count": 13,
   "metadata": {
    "_uuid": "a29120842caa93367a5c7ecf4a00225cc5841c7c"
   },
   "outputs": [
    {
     "data": {
      "text/plain": [
       "<matplotlib.axes._subplots.AxesSubplot at 0x1a15dd4b00>"
      ]
     },
     "execution_count": 13,
     "metadata": {},
     "output_type": "execute_result"
    },
    {
     "data": {
      "image/png": "[encoded data removed]",
      "text/plain": [
       "<Figure size 432x288 with 1 Axes>"
      ]
     },
     "metadata": {},
     "output_type": "display_data"
    }
   ],
   "source": [
    "ratings_user_summary.sort_values(by='count')['count'].hist(bins=20)"
   ]
  },
  {
   "cell_type": "code",
   "execution_count": 14,
   "metadata": {
    "_uuid": "c7cee3cf4cafcc5bbf21e4f542bb13e23f1189f2"
   },
   "outputs": [
    {
     "data": {
      "text/plain": [
       "<matplotlib.axes._subplots.AxesSubplot at 0x1a15eda550>"
      ]
     },
     "execution_count": 14,
     "metadata": {},
     "output_type": "execute_result"
    },
    {
     "data": {
      "image/png": "[encoded data removed]",
      "text/plain": [
       "<Figure size 432x288 with 1 Axes>"
      ]
     },
     "metadata": {},
     "output_type": "display_data"
    }
   ],
   "source": [
    "ratings_user_summary.sort_values(by='mean')['mean'].hist(bins=20)"
   ]
  },
  {
   "cell_type": "markdown",
   "metadata": {
    "_uuid": "19fab17660ea6a24bac74092f78a8d6f753d373e"
   },
   "source": [
    "We create a pivot table for ratings and store the total mean and standard deviation values."
   ]
  },
  {
   "cell_type": "code",
   "execution_count": 15,
   "metadata": {
    "_uuid": "55c386a7c30ccd83393a2bb50cb1788930fc617f"
   },
   "outputs": [
    {
     "data": {
      "text/html": [
       "<div>\n",
       "<style scoped>\n",
       "    .dataframe tbody tr th:only-of-type {\n",
       "        vertical-align: middle;\n",
       "    }\n",
       "\n",
       "    .dataframe tbody tr th {\n",
       "        vertical-align: top;\n",
       "    }\n",
       "\n",
       "    .dataframe thead th {\n",
       "        text-align: right;\n",
       "    }\n",
       "</style>\n",
       "<table border=\"1\" class=\"dataframe\">\n",
       "  <thead>\n",
       "    <tr style=\"text-align: right;\">\n",
       "      <th>movie_id</th>\n",
       "      <th>1</th>\n",
       "      <th>2</th>\n",
       "      <th>3</th>\n",
       "      <th>4</th>\n",
       "      <th>5</th>\n",
       "      <th>6</th>\n",
       "      <th>7</th>\n",
       "      <th>8</th>\n",
       "      <th>9</th>\n",
       "      <th>10</th>\n",
       "    </tr>\n",
       "    <tr>\n",
       "      <th>user_id</th>\n",
       "      <th></th>\n",
       "      <th></th>\n",
       "      <th></th>\n",
       "      <th></th>\n",
       "      <th></th>\n",
       "      <th></th>\n",
       "      <th></th>\n",
       "      <th></th>\n",
       "      <th></th>\n",
       "      <th></th>\n",
       "    </tr>\n",
       "  </thead>\n",
       "  <tbody>\n",
       "    <tr>\n",
       "      <th>1</th>\n",
       "      <td>5.0</td>\n",
       "      <td>3.0</td>\n",
       "      <td>4.0</td>\n",
       "      <td>3.0</td>\n",
       "      <td>3.0</td>\n",
       "      <td>5.0</td>\n",
       "      <td>4.0</td>\n",
       "      <td>1.0</td>\n",
       "      <td>5.0</td>\n",
       "      <td>3.0</td>\n",
       "    </tr>\n",
       "    <tr>\n",
       "      <th>2</th>\n",
       "      <td>4.0</td>\n",
       "      <td>NaN</td>\n",
       "      <td>NaN</td>\n",
       "      <td>NaN</td>\n",
       "      <td>NaN</td>\n",
       "      <td>NaN</td>\n",
       "      <td>NaN</td>\n",
       "      <td>NaN</td>\n",
       "      <td>NaN</td>\n",
       "      <td>2.0</td>\n",
       "    </tr>\n",
       "    <tr>\n",
       "      <th>3</th>\n",
       "      <td>NaN</td>\n",
       "      <td>NaN</td>\n",
       "      <td>NaN</td>\n",
       "      <td>NaN</td>\n",
       "      <td>NaN</td>\n",
       "      <td>NaN</td>\n",
       "      <td>NaN</td>\n",
       "      <td>NaN</td>\n",
       "      <td>NaN</td>\n",
       "      <td>NaN</td>\n",
       "    </tr>\n",
       "    <tr>\n",
       "      <th>4</th>\n",
       "      <td>NaN</td>\n",
       "      <td>NaN</td>\n",
       "      <td>NaN</td>\n",
       "      <td>NaN</td>\n",
       "      <td>NaN</td>\n",
       "      <td>NaN</td>\n",
       "      <td>NaN</td>\n",
       "      <td>NaN</td>\n",
       "      <td>NaN</td>\n",
       "      <td>NaN</td>\n",
       "    </tr>\n",
       "    <tr>\n",
       "      <th>5</th>\n",
       "      <td>4.0</td>\n",
       "      <td>3.0</td>\n",
       "      <td>NaN</td>\n",
       "      <td>NaN</td>\n",
       "      <td>NaN</td>\n",
       "      <td>NaN</td>\n",
       "      <td>NaN</td>\n",
       "      <td>NaN</td>\n",
       "      <td>NaN</td>\n",
       "      <td>NaN</td>\n",
       "    </tr>\n",
       "    <tr>\n",
       "      <th>6</th>\n",
       "      <td>4.0</td>\n",
       "      <td>NaN</td>\n",
       "      <td>NaN</td>\n",
       "      <td>NaN</td>\n",
       "      <td>NaN</td>\n",
       "      <td>NaN</td>\n",
       "      <td>2.0</td>\n",
       "      <td>4.0</td>\n",
       "      <td>4.0</td>\n",
       "      <td>NaN</td>\n",
       "    </tr>\n",
       "    <tr>\n",
       "      <th>7</th>\n",
       "      <td>NaN</td>\n",
       "      <td>NaN</td>\n",
       "      <td>NaN</td>\n",
       "      <td>5.0</td>\n",
       "      <td>NaN</td>\n",
       "      <td>NaN</td>\n",
       "      <td>5.0</td>\n",
       "      <td>5.0</td>\n",
       "      <td>5.0</td>\n",
       "      <td>4.0</td>\n",
       "    </tr>\n",
       "    <tr>\n",
       "      <th>8</th>\n",
       "      <td>NaN</td>\n",
       "      <td>NaN</td>\n",
       "      <td>NaN</td>\n",
       "      <td>NaN</td>\n",
       "      <td>NaN</td>\n",
       "      <td>NaN</td>\n",
       "      <td>3.0</td>\n",
       "      <td>NaN</td>\n",
       "      <td>NaN</td>\n",
       "      <td>NaN</td>\n",
       "    </tr>\n",
       "    <tr>\n",
       "      <th>9</th>\n",
       "      <td>NaN</td>\n",
       "      <td>NaN</td>\n",
       "      <td>NaN</td>\n",
       "      <td>NaN</td>\n",
       "      <td>NaN</td>\n",
       "      <td>5.0</td>\n",
       "      <td>4.0</td>\n",
       "      <td>NaN</td>\n",
       "      <td>NaN</td>\n",
       "      <td>NaN</td>\n",
       "    </tr>\n",
       "    <tr>\n",
       "      <th>10</th>\n",
       "      <td>4.0</td>\n",
       "      <td>NaN</td>\n",
       "      <td>NaN</td>\n",
       "      <td>4.0</td>\n",
       "      <td>NaN</td>\n",
       "      <td>NaN</td>\n",
       "      <td>4.0</td>\n",
       "      <td>NaN</td>\n",
       "      <td>4.0</td>\n",
       "      <td>NaN</td>\n",
       "    </tr>\n",
       "  </tbody>\n",
       "</table>\n",
       "</div>"
      ],
      "text/plain": [
       "movie_id   1    2    3    4    5    6    7    8    9    10\n",
       "user_id                                                   \n",
       "1         5.0  3.0  4.0  3.0  3.0  5.0  4.0  1.0  5.0  3.0\n",
       "2         4.0  NaN  NaN  NaN  NaN  NaN  NaN  NaN  NaN  2.0\n",
       "3         NaN  NaN  NaN  NaN  NaN  NaN  NaN  NaN  NaN  NaN\n",
       "4         NaN  NaN  NaN  NaN  NaN  NaN  NaN  NaN  NaN  NaN\n",
       "5         4.0  3.0  NaN  NaN  NaN  NaN  NaN  NaN  NaN  NaN\n",
       "6         4.0  NaN  NaN  NaN  NaN  NaN  2.0  4.0  4.0  NaN\n",
       "7         NaN  NaN  NaN  5.0  NaN  NaN  5.0  5.0  5.0  4.0\n",
       "8         NaN  NaN  NaN  NaN  NaN  NaN  3.0  NaN  NaN  NaN\n",
       "9         NaN  NaN  NaN  NaN  NaN  5.0  4.0  NaN  NaN  NaN\n",
       "10        4.0  NaN  NaN  4.0  NaN  NaN  4.0  NaN  4.0  NaN"
      ]
     },
     "execution_count": 15,
     "metadata": {},
     "output_type": "execute_result"
    }
   ],
   "source": [
    "ratings_p = pd.pivot_table(ratings, values='rating', index='user_id', columns='movie_id')\n",
    "ratings_p.iloc[:10, :10]"
   ]
  },
  {
   "cell_type": "code",
   "execution_count": 16,
   "metadata": {
    "_uuid": "68a4c1d875789a8713a61180a13c87e1f00eaf9d"
   },
   "outputs": [],
   "source": [
    "mean = ratings_p.stack().mean()\n",
    "std = ratings_p.stack().std()"
   ]
  },
  {
   "cell_type": "markdown",
   "metadata": {
    "_uuid": "68de0e2c0d0793ad2e893c3f5afbf7101957ea3e"
   },
   "source": [
    "**Notations:**\n",
    "\n",
    "$\\mu_i$ : The mean of all ratings received by movie i.\n",
    "\n",
    "$\\mu_u$ : The mean of all ratings from user u.\n",
    "\n",
    "$\\mu$ : The mean of all ratings.\n",
    "\n",
    "$\\sigma_i$ : The standard deviation of all ratings received by movie i.\n",
    "\n",
    "$\\sigma_u$ : The standard deviation of all ratings from user u.\n",
    "\n",
    "$r_{ui}$ : User u's rating on movie i.\n",
    "\n",
    "$\\hat{r}_{ui}$ : Prediction about user u's rating on movie i.\n",
    "\n",
    "$N^k_u(i)$ : k nearest neighbors of movie i, that are rated by user u."
   ]
  },
  {
   "cell_type": "markdown",
   "metadata": {
    "_uuid": "5f75927ff57a3902f032157174cd1dafcedc1504"
   },
   "source": [
    "- **Baseline Model**\n",
    "\n",
    "In the first baseline model, we predict the rating from a specific user on a specific movie, just by the average rating that a movie receives, with adjustment by how this user's average rating compared with the total average.\n",
    "\n",
    "$$\\hat{r}_{ui} = \\mu_u + \\mu_i - \\mu$$"
   ]
  },
  {
   "cell_type": "code",
   "execution_count": 17,
   "metadata": {
    "_kg_hide-input": true,
    "_uuid": "555f4f2a2995ff4ea9564dd1818a2b414b2354fe"
   },
   "outputs": [
    {
     "name": "stdout",
     "output_type": "stream",
     "text": [
      "RMSE: 0.9384\n",
      "MAE: 0.7384\n"
     ]
    }
   ],
   "source": [
    "movie_mean = np.ones(ratings_p.shape)\n",
    "movie_mean = pd.DataFrame(movie_mean * np.array(ratings_movie_summary['mean']).reshape(1,1682))\n",
    "user_mean = np.ones(ratings_p.T.shape)\n",
    "user_mean = pd.DataFrame(user_mean * np.array(ratings_user_summary['mean'])).T\n",
    "pred = movie_mean + user_mean - mean\n",
    "score = abs(np.array(ratings_p) - pred)\n",
    "score_2 = score ** 2\n",
    "print('RMSE: {:.4f}'.format(np.sqrt(score_2.stack().mean())))\n",
    "print('MAE: {:.4f}'.format(score.stack().mean()))"
   ]
  },
  {
   "cell_type": "markdown",
   "metadata": {
    "_uuid": "4532c9690508fe8835ec950533d98408b7ee6d08"
   },
   "source": [
    "Since we don't have train-test-split in our prediction, we are actually using the mean of the data to predict every single data. Therefore, the score might be biased because of data leakage. So we do cross-validation on the model."
   ]
  },
  {
   "cell_type": "code",
   "execution_count": 18,
   "metadata": {
    "_kg_hide-input": true,
    "_uuid": "dc9ffa108ba52ecec24d679d08995ae521fcdde4"
   },
   "outputs": [
    {
     "name": "stdout",
     "output_type": "stream",
     "text": [
      "Evaluating RMSE, MAE of the Baseline Model. \n",
      "\n",
      "------------\n"
     ]
    },
    {
     "name": "stderr",
     "output_type": "stream",
     "text": [
      "/anaconda3/lib/python3.6/site-packages/pandas/core/indexing.py:190: SettingWithCopyWarning: \n",
      "A value is trying to be set on a copy of a slice from a DataFrame\n",
      "\n",
      "See the caveats in the documentation: http://pandas.pydata.org/pandas-docs/stable/indexing.html#indexing-view-versus-copy\n",
      "  self._setitem_with_indexer(indexer, value)\n"
     ]
    },
    {
     "name": "stdout",
     "output_type": "stream",
     "text": [
      "Fold 1\n",
      "RMSE: 0.9798\n",
      "MAE: 0.7709\n",
      "------------\n",
      "Fold 2\n",
      "RMSE: 0.9706\n",
      "MAE: 0.7599\n",
      "------------\n",
      "Fold 3\n",
      "RMSE: 0.9684\n",
      "MAE: 0.7602\n",
      "------------\n",
      "Fold 4\n",
      "RMSE: 0.9638\n",
      "MAE: 0.7564\n",
      "------------\n",
      "Fold 5\n",
      "RMSE: 0.9635\n",
      "MAE: 0.7606\n",
      "------------\n",
      "------------\n",
      "Mean RMSE: 0.9692\n",
      "Mean MAE: 0.7616\n",
      "------------\n",
      "------------\n"
     ]
    }
   ],
   "source": [
    "from sklearn.model_selection import KFold\n",
    "\n",
    "kfolds = KFold(n_splits = 5, random_state = 13)\n",
    "rmse = []\n",
    "mae = []\n",
    "i = 0\n",
    "print('Evaluating RMSE, MAE of the Baseline Model. \\n')\n",
    "print('-'*12)\n",
    "for train_index, test_index in kfolds.split(ratings):\n",
    "    train = ratings.copy()\n",
    "    test = ratings.copy()\n",
    "    train['rating'].iloc[test_index] = np.NaN\n",
    "    test['rating'].iloc[train_index] = np.NaN\n",
    "    train_movie_summary = train.groupby('movie_id')['rating'].agg(['count', 'mean', 'std'])\n",
    "    train_user_summary = train.groupby('user_id')['rating'].agg(['count', 'mean', 'std'])\n",
    "    test_p = pd.pivot_table(test, values='rating', index='user_id', columns='movie_id', dropna=False)\n",
    "    movie_mean = np.ones(ratings_p.shape)\n",
    "    movie_mean = pd.DataFrame(movie_mean * np.array(train_movie_summary['mean']).reshape(1,1682))\n",
    "    user_mean = np.ones(ratings_p.T.shape)\n",
    "    user_mean = pd.DataFrame(user_mean * np.array(train_user_summary['mean'])).T\n",
    "    train_p = movie_mean + user_mean - mean\n",
    "    score = abs(np.array(test_p) - train_p)\n",
    "    score_2 = score ** 2\n",
    "    rmse += [np.sqrt(score_2.stack().mean())]\n",
    "    mae += [score.stack().mean()]\n",
    "    i += 1\n",
    "    print('Fold', i)\n",
    "    print('RMSE: {:.4f}'.format(np.sqrt(score_2.stack().mean())))\n",
    "    print('MAE: {:.4f}'.format(score.stack().mean()))\n",
    "    print('-'*12)\n",
    "print('-'*12)\n",
    "print('Mean RMSE: {:.4f}'.format(np.mean(rmse)))\n",
    "print('Mean MAE: {:.4f}'.format(np.mean(mae)))\n",
    "print('-'*12)\n",
    "print('-'*12)"
   ]
  },
  {
   "cell_type": "markdown",
   "metadata": {
    "_uuid": "02cf33de260ecbad8e2c74cc53de71347f0dff8f"
   },
   "source": [
    "- **Baseline_Plus Model**\n",
    "\n",
    "In the second model, we want to do it slightly better using z-score.\n",
    "\n",
    "$$\\hat{r}_{ui} = \\mu_u + \\sigma_u * \\frac{(\\mu_i - \\mu)}{\\sigma}$$"
   ]
  },
  {
   "cell_type": "code",
   "execution_count": 19,
   "metadata": {
    "_kg_hide-input": true,
    "_uuid": "d457f3a000f5179331dde9a039fa6c0a0266fef7"
   },
   "outputs": [
    {
     "name": "stdout",
     "output_type": "stream",
     "text": [
      "RMSE: 0.9345\n",
      "MAE: 0.7339\n"
     ]
    }
   ],
   "source": [
    "movie_mean = np.ones(ratings_p.shape)\n",
    "movie_mean = pd.DataFrame(movie_mean * np.array(ratings_movie_summary['mean']).reshape(1,1682))\n",
    "user_mean = np.ones(ratings_p.T.shape)\n",
    "user_mean = pd.DataFrame(user_mean * np.array(ratings_user_summary['mean'])).T\n",
    "user_std = np.ones(ratings_p.T.shape)\n",
    "user_std = pd.DataFrame(user_std * np.array(ratings_user_summary['std'])).T\n",
    "pred_plus = user_mean + (movie_mean - mean)/std * user_std\n",
    "score_plus = abs(np.array(ratings_p) - pred_plus)\n",
    "score_2_plus = score_plus ** 2\n",
    "print('RMSE: {:.4f}'.format(np.sqrt(score_2_plus.stack().mean())))\n",
    "print('MAE: {:.4f}'.format(score_plus.stack().mean()))"
   ]
  },
  {
   "cell_type": "markdown",
   "metadata": {
    "_uuid": "ca2b7cc5e4e54a340acc751cc478a92472b50899"
   },
   "source": [
    "Use our baseline model to recommend movies for user 196."
   ]
  },
  {
   "cell_type": "code",
   "execution_count": 20,
   "metadata": {
    "_uuid": "66c3370440df071c4628155c217ed62557679501"
   },
   "outputs": [
    {
     "name": "stdout",
     "output_type": "stream",
     "text": [
      "                                                      title release_date  \\\n",
      "movie_id                                                                   \n",
      "814                           Great Day in Harlem, A (1994)   1994-01-01   \n",
      "1599                          Someone Else's America (1995)   1996-05-10   \n",
      "1201             Marlene Dietrich: Shadow and Light (1996)    1996-04-02   \n",
      "1122                         They Made Me a Criminal (1939)   1939-01-01   \n",
      "1653      Entertaining Angels: The Dorothy Day Story (1996)   1996-09-27   \n",
      "1293                                        Star Kid (1997)   1998-01-16   \n",
      "1500                              Santa with Muscles (1996)   1996-11-08   \n",
      "1189                                     Prefontaine (1997)   1997-01-24   \n",
      "1536                                   Aiqing wansui (1994)   1996-07-22   \n",
      "1467                   Saint of Fort Washington, The (1993)   1993-01-01   \n",
      "\n",
      "          Estimate_Score  \n",
      "movie_id                  \n",
      "814             4.942375  \n",
      "1599            4.942375  \n",
      "1201            4.942375  \n",
      "1122            4.942375  \n",
      "1653            4.942375  \n",
      "1293            4.942375  \n",
      "1500            4.942375  \n",
      "1189            4.942375  \n",
      "1536            4.942375  \n",
      "1467            4.942375  \n"
     ]
    },
    {
     "name": "stderr",
     "output_type": "stream",
     "text": [
      "/anaconda3/lib/python3.6/site-packages/ipykernel_launcher.py:2: SettingWithCopyWarning: \n",
      "A value is trying to be set on a copy of a slice from a DataFrame.\n",
      "Try using .loc[row_indexer,col_indexer] = value instead\n",
      "\n",
      "See the caveats in the documentation: http://pandas.pydata.org/pandas-docs/stable/indexing.html#indexing-view-versus-copy\n",
      "  \n"
     ]
    }
   ],
   "source": [
    "user_196 = movies[['title', 'release_date']]\n",
    "user_196['Estimate_Score'] = np.array(pred_plus.loc[195])\n",
    "user_196 = user_196.sort_values('Estimate_Score', ascending=False)\n",
    "print(user_196.head(10))"
   ]
  },
  {
   "cell_type": "markdown",
   "metadata": {
    "_uuid": "0bb3780138172bc8a9f1ce5a67542a573e7c4a95"
   },
   "source": [
    "Here is the cross-validation score for our second model"
   ]
  },
  {
   "cell_type": "code",
   "execution_count": 21,
   "metadata": {
    "_kg_hide-input": true,
    "_uuid": "f4d3ad826ab87cda2d1089509321612e03e1b8cf"
   },
   "outputs": [
    {
     "name": "stdout",
     "output_type": "stream",
     "text": [
      "Evaluating RMSE, MAE of the Baseline_Plus Model. \n",
      "\n",
      "------------\n"
     ]
    },
    {
     "name": "stderr",
     "output_type": "stream",
     "text": [
      "/anaconda3/lib/python3.6/site-packages/pandas/core/indexing.py:190: SettingWithCopyWarning: \n",
      "A value is trying to be set on a copy of a slice from a DataFrame\n",
      "\n",
      "See the caveats in the documentation: http://pandas.pydata.org/pandas-docs/stable/indexing.html#indexing-view-versus-copy\n",
      "  self._setitem_with_indexer(indexer, value)\n"
     ]
    },
    {
     "name": "stdout",
     "output_type": "stream",
     "text": [
      "Fold 1\n",
      "RMSE: 0.9759\n",
      "MAE: 0.7665\n",
      "------------\n",
      "Fold 2\n",
      "RMSE: 0.9687\n",
      "MAE: 0.7569\n",
      "------------\n",
      "Fold 3\n",
      "RMSE: 0.9631\n",
      "MAE: 0.7544\n",
      "------------\n",
      "Fold 4\n",
      "RMSE: 0.9597\n",
      "MAE: 0.7516\n",
      "------------\n",
      "Fold 5\n",
      "RMSE: 0.9597\n",
      "MAE: 0.7570\n",
      "------------\n",
      "------------\n",
      "Mean RMSE: 0.9654\n",
      "Mean MAE: 0.7573\n",
      "------------\n",
      "------------\n"
     ]
    }
   ],
   "source": [
    "rmse_plus = []\n",
    "mae_plus = []\n",
    "i = 0\n",
    "print('Evaluating RMSE, MAE of the Baseline_Plus Model. \\n')\n",
    "print('-'*12)\n",
    "for train_index, test_index in kfolds.split(ratings):\n",
    "    train = ratings.copy()\n",
    "    test = ratings.copy()\n",
    "    train['rating'].iloc[test_index] = np.NaN\n",
    "    test['rating'].iloc[train_index] = np.NaN\n",
    "    train_movie_summary = train.groupby('movie_id')['rating'].agg(['count', 'mean', 'std'])\n",
    "    train_user_summary = train.groupby('user_id')['rating'].agg(['count', 'mean', 'std'])\n",
    "    test_p = pd.pivot_table(test, values='rating', index='user_id', columns='movie_id', dropna=False)\n",
    "    movie_mean = np.ones(ratings_p.shape)\n",
    "    movie_mean = pd.DataFrame(movie_mean * np.array(train_movie_summary['mean']).reshape(1,1682))\n",
    "    user_mean = np.ones(ratings_p.T.shape)\n",
    "    user_mean = pd.DataFrame(user_mean * np.array(train_user_summary['mean'])).T\n",
    "    user_std = np.ones(ratings_p.T.shape)\n",
    "    user_std = pd.DataFrame(user_std * np.array(train_user_summary['std'])).T\n",
    "    train_p = user_mean + (movie_mean - mean)/std * user_std\n",
    "    score = abs(np.array(test_p) - train_p)\n",
    "    score_2 = score ** 2\n",
    "    rmse_plus += [np.sqrt(score_2.stack().mean())]\n",
    "    mae_plus += [score.stack().mean()]\n",
    "    i += 1\n",
    "    print('Fold', i)\n",
    "    print('RMSE: {:.4f}'.format(np.sqrt(score_2.stack().mean())))\n",
    "    print('MAE: {:.4f}'.format(score.stack().mean()))\n",
    "    print('-'*12)\n",
    "print('-'*12)\n",
    "print('Mean RMSE: {:.4f}'.format(np.mean(rmse_plus)))\n",
    "print('Mean MAE: {:.4f}'.format(np.mean(mae_plus)))\n",
    "print('-'*12)\n",
    "print('-'*12)"
   ]
  },
  {
   "cell_type": "markdown",
   "metadata": {
    "_uuid": "521d9e989ba55700ed6f2f9a79b42bd65c86ffa7"
   },
   "source": [
    "- **Baseline Model with SVM/Gradient Boosting**\n",
    "\n",
    "We can improve this model even more, by applying SVM regressor or Gradient Boosting on each approximation, instead of just using z-score."
   ]
  },
  {
   "cell_type": "markdown",
   "metadata": {
    "_uuid": "0c4d4443b8aff783f8ae9159bdd72251bef1c24c"
   },
   "source": [
    "- SVM"
   ]
  },
  {
   "cell_type": "code",
   "execution_count": 22,
   "metadata": {
    "_kg_hide-input": true,
    "_uuid": "22cf1986b95b4e955a48cc9b8ee4daaadc641f78"
   },
   "outputs": [
    {
     "name": "stdout",
     "output_type": "stream",
     "text": [
      "RMSE: 0.9105\n",
      "MAE: 0.6748\n"
     ]
    }
   ],
   "source": [
    "from sklearn.svm import SVR\n",
    "\n",
    "movie_mean = np.ones(ratings_p.shape)\n",
    "movie_mean = pd.DataFrame(movie_mean * np.array(ratings_movie_summary['mean']).reshape(1,1682))\n",
    "X = np.array(ratings_p*0) + movie_mean\n",
    "svm = SVR(gamma=1, C=1)\n",
    "pred_svm = ratings_p.copy()\n",
    "for i in range(ratings_p.shape[0]):\n",
    "    svm.fit(np.array(X.iloc[i].dropna()).reshape(-1,1), ratings_p.iloc[i].dropna())\n",
    "    pred_svm.iloc[i] = svm.predict(np.array(movie_mean.iloc[0]).reshape(-1,1))\n",
    "score_svm = abs(np.array(ratings_p) - pred_svm)\n",
    "score_2_svm = score_svm ** 2\n",
    "print('RMSE: {:.4f}'.format(np.sqrt(score_2_svm.stack().mean())))\n",
    "print('MAE: {:.4f}'.format(score_svm.stack().mean()))"
   ]
  },
  {
   "cell_type": "markdown",
   "metadata": {
    "_uuid": "c9702df20dd522c62f4be52082be443796f4af0f"
   },
   "source": [
    "Use our svm model to recommend movies for user 196."
   ]
  },
  {
   "cell_type": "code",
   "execution_count": 23,
   "metadata": {
    "_kg_hide-input": false,
    "_kg_hide-output": false,
    "_uuid": "c490b335433f0372a7488c7efe29e55e65a1ad59"
   },
   "outputs": [
    {
     "name": "stdout",
     "output_type": "stream",
     "text": [
      "                                                      title release_date  \\\n",
      "movie_id                                                                   \n",
      "1398                                            Anna (1996)   1996-11-13   \n",
      "119                  Maya Lin: A Strong Clear Vision (1994)   1994-01-01   \n",
      "1594                                         Everest (1998)   1998-03-10   \n",
      "1642                               Some Mother's Son (1996)   1996-12-27   \n",
      "408                                   Close Shave, A (1995)   1996-04-28   \n",
      "318                                 Schindler's List (1993)   1993-01-01   \n",
      "169                              Wrong Trousers, The (1993)   1993-01-01   \n",
      "483                                       Casablanca (1942)   1942-01-01   \n",
      "1449                                 Pather Panchali (1955)   1996-03-22   \n",
      "114       Wallace & Gromit: The Best of Aardman Animatio...   1996-04-05   \n",
      "\n",
      "          Estimate_Score  \n",
      "movie_id                  \n",
      "1398            4.454999  \n",
      "119             4.454999  \n",
      "1594            4.454999  \n",
      "1642            4.454999  \n",
      "408             4.453928  \n",
      "318             4.449875  \n",
      "169             4.449808  \n",
      "483             4.447849  \n",
      "1449            4.447541  \n",
      "114             4.445732  \n"
     ]
    },
    {
     "name": "stderr",
     "output_type": "stream",
     "text": [
      "/anaconda3/lib/python3.6/site-packages/ipykernel_launcher.py:2: SettingWithCopyWarning: \n",
      "A value is trying to be set on a copy of a slice from a DataFrame.\n",
      "Try using .loc[row_indexer,col_indexer] = value instead\n",
      "\n",
      "See the caveats in the documentation: http://pandas.pydata.org/pandas-docs/stable/indexing.html#indexing-view-versus-copy\n",
      "  \n"
     ]
    }
   ],
   "source": [
    "user_196_svm = movies[['title', 'release_date']]\n",
    "user_196_svm['Estimate_Score'] = np.array(pred_svm.loc[195])\n",
    "user_196_svm = user_196_svm.sort_values('Estimate_Score', ascending=False)\n",
    "print(user_196_svm.head(10))"
   ]
  },
  {
   "cell_type": "markdown",
   "metadata": {
    "_uuid": "c2613bcef37a68164ec5cda5a3464beafcc9bf69"
   },
   "source": [
    "Cross-Validation"
   ]
  },
  {
   "cell_type": "code",
   "execution_count": 24,
   "metadata": {
    "_kg_hide-input": true,
    "_uuid": "bbe414490d4e31f9ff1179a835e79ca79e692e73"
   },
   "outputs": [
    {
     "name": "stdout",
     "output_type": "stream",
     "text": [
      "Evaluating RMSE, MAE of the Baseline_SVM Model. \n",
      "\n",
      "------------\n"
     ]
    },
    {
     "name": "stderr",
     "output_type": "stream",
     "text": [
      "/anaconda3/lib/python3.6/site-packages/pandas/core/indexing.py:190: SettingWithCopyWarning: \n",
      "A value is trying to be set on a copy of a slice from a DataFrame\n",
      "\n",
      "See the caveats in the documentation: http://pandas.pydata.org/pandas-docs/stable/indexing.html#indexing-view-versus-copy\n",
      "  self._setitem_with_indexer(indexer, value)\n"
     ]
    },
    {
     "name": "stdout",
     "output_type": "stream",
     "text": [
      "Fold 1\n",
      "RMSE: 0.9622\n",
      "MAE: 0.7220\n",
      "------------\n",
      "Fold 2\n",
      "RMSE: 0.9499\n",
      "MAE: 0.7094\n",
      "------------\n",
      "Fold 3\n",
      "RMSE: 0.9475\n",
      "MAE: 0.7130\n",
      "------------\n",
      "Fold 4\n",
      "RMSE: 0.9435\n",
      "MAE: 0.7114\n",
      "------------\n",
      "Fold 5\n",
      "RMSE: 0.9447\n",
      "MAE: 0.7151\n",
      "------------\n",
      "------------\n",
      "Mean RMSE: 0.9496\n",
      "Mean MAE: 0.7142\n",
      "------------\n",
      "------------\n"
     ]
    }
   ],
   "source": [
    "rmse_svm = []\n",
    "mae_svm = []\n",
    "fold = 0\n",
    "movie_mean = pd.DataFrame(np.ones(ratings_p.shape) * np.array(ratings_movie_summary['mean']).reshape(1,1682))\n",
    "print('Evaluating RMSE, MAE of the Baseline_SVM Model. \\n')\n",
    "print('-'*12)\n",
    "for train_index, test_index in kfolds.split(ratings):\n",
    "    train = ratings.copy()\n",
    "    test = ratings.copy()\n",
    "    train['rating'].iloc[test_index] = np.NaN\n",
    "    test['rating'].iloc[train_index] = np.NaN\n",
    "    train_movie_summary = train.groupby('movie_id')['rating'].agg(['count', 'mean', 'std'])\n",
    "    train_user_summary = train.groupby('user_id')['rating'].agg(['count', 'mean', 'std'])\n",
    "    train_p = pd.pivot_table(train, values='rating', index='user_id', columns='movie_id', dropna=False)\n",
    "    test_p = pd.pivot_table(test, values='rating', index='user_id', columns='movie_id', dropna=False)\n",
    "    train_mean = pd.DataFrame(np.ones(ratings_p.shape) * np.array(train_movie_summary['mean']).reshape(1,1682))\n",
    "    X = np.array(train_p*0) + train_mean\n",
    "    pred = ratings_p.copy()\n",
    "    for i in range(ratings_p.shape[0]):\n",
    "        svm.fit(np.array(X.iloc[i].dropna()).reshape(-1,1), train_p.iloc[i].dropna())\n",
    "        pred.iloc[i] = svm.predict(np.array(movie_mean.iloc[0]).reshape(-1,1))\n",
    "    score = abs(np.array(test_p) - pred)\n",
    "    score_2 = score ** 2\n",
    "    rmse_svm += [np.sqrt(score_2.stack().mean())]\n",
    "    mae_svm += [score.stack().mean()]\n",
    "    fold += 1\n",
    "    print('Fold', fold)\n",
    "    print('RMSE: {:.4f}'.format(np.sqrt(score_2.stack().mean())))\n",
    "    print('MAE: {:.4f}'.format(score.stack().mean()))\n",
    "    print('-'*12)\n",
    "print('-'*12)\n",
    "print('Mean RMSE: {:.4f}'.format(np.mean(rmse_svm)))\n",
    "print('Mean MAE: {:.4f}'.format(np.mean(mae_svm)))\n",
    "print('-'*12)\n",
    "print('-'*12)"
   ]
  },
  {
   "cell_type": "markdown",
   "metadata": {
    "_uuid": "5fffee28226dd3bf147904d52e701bd12b0860da"
   },
   "source": [
    "Gradient Boosting"
   ]
  },
  {
   "cell_type": "code",
   "execution_count": 25,
   "metadata": {
    "_kg_hide-input": true,
    "_uuid": "8e226b62b89a6849998f48f1559436aa4541b028"
   },
   "outputs": [
    {
     "ename": "ModuleNotFoundError",
     "evalue": "No module named 'xgboost'",
     "output_type": "error",
     "traceback": [
      "\u001b[0;31m---------------------------------------------------------------------------\u001b[0m",
      "\u001b[0;31mModuleNotFoundError\u001b[0m                       Traceback (most recent call last)",
      "\u001b[0;32m<ipython-input-25-b432e331a54c>\u001b[0m in \u001b[0;36m<module>\u001b[0;34m()\u001b[0m\n\u001b[0;32m----> 1\u001b[0;31m \u001b[0;32mfrom\u001b[0m \u001b[0mxgboost\u001b[0m \u001b[0;32mimport\u001b[0m \u001b[0mXGBRegressor\u001b[0m\u001b[0;34m\u001b[0m\u001b[0;34m\u001b[0m\u001b[0m\n\u001b[0m\u001b[1;32m      2\u001b[0m \u001b[0;34m\u001b[0m\u001b[0m\n\u001b[1;32m      3\u001b[0m \u001b[0mmovie_mean\u001b[0m \u001b[0;34m=\u001b[0m \u001b[0mnp\u001b[0m\u001b[0;34m.\u001b[0m\u001b[0mones\u001b[0m\u001b[0;34m(\u001b[0m\u001b[0mratings_p\u001b[0m\u001b[0;34m.\u001b[0m\u001b[0mshape\u001b[0m\u001b[0;34m)\u001b[0m\u001b[0;34m\u001b[0m\u001b[0;34m\u001b[0m\u001b[0m\n\u001b[1;32m      4\u001b[0m \u001b[0mmovie_mean\u001b[0m \u001b[0;34m=\u001b[0m \u001b[0mpd\u001b[0m\u001b[0;34m.\u001b[0m\u001b[0mDataFrame\u001b[0m\u001b[0;34m(\u001b[0m\u001b[0mmovie_mean\u001b[0m \u001b[0;34m*\u001b[0m \u001b[0mnp\u001b[0m\u001b[0;34m.\u001b[0m\u001b[0marray\u001b[0m\u001b[0;34m(\u001b[0m\u001b[0mratings_movie_summary\u001b[0m\u001b[0;34m[\u001b[0m\u001b[0;34m'mean'\u001b[0m\u001b[0;34m]\u001b[0m\u001b[0;34m)\u001b[0m\u001b[0;34m.\u001b[0m\u001b[0mreshape\u001b[0m\u001b[0;34m(\u001b[0m\u001b[0;36m1\u001b[0m\u001b[0;34m,\u001b[0m\u001b[0;36m1682\u001b[0m\u001b[0;34m)\u001b[0m\u001b[0;34m)\u001b[0m\u001b[0;34m\u001b[0m\u001b[0;34m\u001b[0m\u001b[0m\n\u001b[1;32m      5\u001b[0m \u001b[0mX\u001b[0m \u001b[0;34m=\u001b[0m \u001b[0mnp\u001b[0m\u001b[0;34m.\u001b[0m\u001b[0marray\u001b[0m\u001b[0;34m(\u001b[0m\u001b[0mratings_p\u001b[0m\u001b[0;34m*\u001b[0m\u001b[0;36m0\u001b[0m\u001b[0;34m)\u001b[0m \u001b[0;34m+\u001b[0m \u001b[0mmovie_mean\u001b[0m\u001b[0;34m\u001b[0m\u001b[0;34m\u001b[0m\u001b[0m\n",
      "\u001b[0;31mModuleNotFoundError\u001b[0m: No module named 'xgboost'"
     ]
    }
   ],
   "source": [
    "from xgboost import XGBRegressor\n",
    "\n",
    "movie_mean = np.ones(ratings_p.shape)\n",
    "movie_mean = pd.DataFrame(movie_mean * np.array(ratings_movie_summary['mean']).reshape(1,1682))\n",
    "X = np.array(ratings_p*0) + movie_mean\n",
    "xgb = XGBRegressor(learning_rate=0.1, max_depth=2, min_child_weight=10, gamma=1)\n",
    "pred_xgb = ratings_p.copy()\n",
    "for i in range(ratings_p.shape[0]):\n",
    "    xgb.fit(np.array(X.iloc[i].dropna()).reshape(-1,1), ratings_p.iloc[i].dropna())\n",
    "    pred_xgb.iloc[i] = xgb.predict(np.array(movie_mean.iloc[0]).reshape(-1,1))\n",
    "score_xgb = abs(np.array(ratings_p) - pred_xgb)\n",
    "score_2_xgb = score_xgb ** 2\n",
    "print('RMSE: {:.4f}'.format(np.sqrt(score_2_xgb.stack().mean())))\n",
    "print('MAE: {:.4f}'.format(score_xgb.stack().mean()))"
   ]
  },
  {
   "cell_type": "markdown",
   "metadata": {
    "_uuid": "225df07b6670abc518be62f8d11a21b781308a54"
   },
   "source": [
    "Cross-Validation"
   ]
  },
  {
   "cell_type": "code",
   "execution_count": null,
   "metadata": {
    "_kg_hide-input": true,
    "_uuid": "e8fbbe33f8b48cf8ffe78128bb72791e7a090a5f",
    "scrolled": false
   },
   "outputs": [],
   "source": [
    "rmse_xgb = []\n",
    "mae_xgb = []\n",
    "fold = 0\n",
    "movie_mean = pd.DataFrame(np.ones(ratings_p.shape) * np.array(ratings_movie_summary['mean']).reshape(1,1682))\n",
    "print('Evaluating RMSE, MAE of the Baseline_XGB Model. \\n')\n",
    "print('-'*12)\n",
    "for train_index, test_index in kfolds.split(ratings):\n",
    "    train = ratings.copy()\n",
    "    test = ratings.copy()\n",
    "    train['rating'].iloc[test_index] = np.NaN\n",
    "    test['rating'].iloc[train_index] = np.NaN\n",
    "    train_movie_summary = train.groupby('movie_id')['rating'].agg(['count', 'mean', 'std'])\n",
    "    train_user_summary = train.groupby('user_id')['rating'].agg(['count', 'mean', 'std'])\n",
    "    train_p = pd.pivot_table(train, values='rating', index='user_id', columns='movie_id', dropna=False)\n",
    "    test_p = pd.pivot_table(test, values='rating', index='user_id', columns='movie_id', dropna=False)\n",
    "    train_mean = pd.DataFrame(np.ones(ratings_p.shape) * np.array(train_movie_summary['mean']).reshape(1,1682))\n",
    "    X = np.array(train_p*0) + train_mean\n",
    "    pred = ratings_p.copy()\n",
    "    for i in range(ratings_p.shape[0]):\n",
    "        xgb.fit(np.array(X.iloc[i].dropna()).reshape(-1,1), train_p.iloc[i].dropna())\n",
    "        pred.iloc[i] = xgb.predict(np.array(movie_mean.iloc[0]).reshape(-1,1))\n",
    "    score = abs(np.array(test_p) - pred)\n",
    "    score_2 = score ** 2\n",
    "    rmse_xgb += [np.sqrt(score_2.stack().mean())]\n",
    "    mae_xgb += [score.stack().mean()]\n",
    "    fold += 1\n",
    "    print('Fold', fold)\n",
    "    print('RMSE: {:.4f}'.format(np.sqrt(score_2.stack().mean())))\n",
    "    print('MAE: {:.4f}'.format(score.stack().mean()))\n",
    "    print('-'*12)\n",
    "print('-'*12)\n",
    "print('Mean RMSE: {:.4f}'.format(np.mean(rmse_xgb)))\n",
    "print('Mean MAE: {:.4f}'.format(np.mean(mae_xgb)))\n",
    "print('-'*12)\n",
    "print('-'*12)"
   ]
  },
  {
   "cell_type": "markdown",
   "metadata": {
    "_uuid": "b74e7553e1b18df4cbf9ccb4bba72d7cab31c5ee"
   },
   "source": [
    "- **Pearsons'R Correlation Model**\n",
    "\n",
    "We might also want to recommend movies just for a specific movie. Like the recommendation list showed on the webpage of a specific movie.\n",
    "\n",
    "Here we recommend new movies based on the Pearsons'R correlation between movies."
   ]
  },
  {
   "cell_type": "code",
   "execution_count": null,
   "metadata": {
    "_kg_hide-input": true,
    "_uuid": "1f817700d2330c4d010595d2faa94f05e8c5e522"
   },
   "outputs": [],
   "source": [
    "def recommend(movie_title, min_count):\n",
    "    print(\"For movie ({})\".format(movie_title))\n",
    "    print(\"- Top 10 movies recommended based on Pearsons'R correlation - \")\n",
    "    i = movies[movies['title'] == movie_title].index[0]\n",
    "    target = ratings_p[i]\n",
    "    similar_to_target = ratings_p.corrwith(target)\n",
    "    corr_target = pd.DataFrame(similar_to_target, columns = ['PearsonR'])\n",
    "    corr_target.dropna(inplace = True)\n",
    "    corr_target = corr_target.sort_values('PearsonR', ascending = False)\n",
    "    corr_target.index = corr_target.index.map(int)\n",
    "    corr_target = corr_target.join(movies).join(ratings_movie_summary)\\\n",
    "                  [['PearsonR', 'title', 'count', 'mean']]\n",
    "    print (corr_target[corr_target['count']>min_count][:10].to_string(index=False))"
   ]
  },
  {
   "cell_type": "code",
   "execution_count": null,
   "metadata": {
    "_uuid": "e54f02bb1f84169ce09a7593a38710a218270398"
   },
   "outputs": [],
   "source": [
    "recommend('Shawshank Redemption, The (1994)', 10)"
   ]
  },
  {
   "cell_type": "markdown",
   "metadata": {
    "_uuid": "0bbf4d04e225a4daf640e212b244bac758f3f55c"
   },
   "source": [
    "- **K-Nearest Neighbor (kNN) Model**\n",
    "\n",
    "We can treat the **Pearsons' R Correlation** between movies as the distance, and using these distances to build a **K-Nearest Neighbor model**.\n",
    "\n",
    "Notations:\n",
    "\n",
    "$r_{ui}$ : User u's rating on movie i.\n",
    "\n",
    "$\\hat{r}_{ui}$ : Prediction about user u's rating on movie i.\n",
    "\n",
    "$N^k_u(i)$ : k nearest neighbors of movie i, that are rated by user u.\n",
    "\n",
    "Then we can have our kNN model as:\n",
    "\n",
    "$$\\hat{r}_{ui} = \\frac{\\sum_{j \\in N^k_u(i)} corr(i, j) * r_{uj}}{\\sum_{j \\in N^k_u(i)} corr(i, j)}$$"
   ]
  },
  {
   "cell_type": "code",
   "execution_count": null,
   "metadata": {
    "_uuid": "f5693cce65fc96899bcdf233004e1b84df913f1e"
   },
   "outputs": [],
   "source": [
    "sim = ratings_p.corr().abs()\n",
    "sim.iloc[:10, :10]"
   ]
  },
  {
   "cell_type": "code",
   "execution_count": null,
   "metadata": {
    "_kg_hide-input": true,
    "_kg_hide-output": true,
    "_uuid": "52ec496cef19fcaf951a76ae5aee525e8bf0fa4d",
    "scrolled": true
   },
   "outputs": [],
   "source": [
    "knn_pred = ratings_p.copy()\n",
    "for i in ratings_p.index:\n",
    "    N = sim.loc[ratings[ratings['user_id'] == i].index]\n",
    "    for j in ratings_p.columns:\n",
    "        try:\n",
    "            N_k = N[j].sort_values(ascending=False).drop(j)[:30]\n",
    "        except:\n",
    "            N_k = N[j].sort_values(ascending=False)[:30]\n",
    "        weighted_rating = N_k*ratings_p.loc[i, N_k.index]\n",
    "        knn_pred.loc[i, j] = weighted_rating.sum()/N_k.sum()\n",
    "\n",
    "knn_pred.iloc[:10, :10]"
   ]
  },
  {
   "cell_type": "code",
   "execution_count": null,
   "metadata": {
    "_kg_hide-input": true,
    "_kg_hide-output": true,
    "_uuid": "d8772c4b4e1f93a47ea8a6e00c285b3c7cad7bd1"
   },
   "outputs": [],
   "source": [
    "score_knn = abs(np.array(ratings_p) - knn_pred)\n",
    "score_2_knn = score_knn ** 2\n",
    "print('RMSE: {:.4f}'.format(np.sqrt(score_2_knn.stack().mean())))\n",
    "print('MAE: {:.4f}'.format(score_knn.stack().mean()))"
   ]
  },
  {
   "cell_type": "markdown",
   "metadata": {
    "_uuid": "c51f5035440cd944874342e763c9e433d2bf1acd"
   },
   "source": [
    "train-test split score"
   ]
  },
  {
   "cell_type": "code",
   "execution_count": null,
   "metadata": {
    "_kg_hide-input": true,
    "_uuid": "62edec23de724d25c356e33d2a5cedb4fe1ef427"
   },
   "outputs": [],
   "source": [
    "train = ratings.copy()\n",
    "test = ratings.copy()\n",
    "train['rating'].iloc[80000:] = np.NaN\n",
    "test['rating'].iloc[:80000] = np.NaN\n",
    "train_movie_summary = train.groupby('movie_id')['rating'].agg(['count', 'mean', 'std'])\n",
    "train_user_summary = train.groupby('user_id')['rating'].agg(['count', 'mean', 'std'])\n",
    "train_p = pd.pivot_table(train, values='rating', index='user_id', columns='movie_id', dropna=False)\n",
    "test_p = pd.pivot_table(test, values='rating', index='user_id', columns='movie_id', dropna=False)\n",
    "\n",
    "knn_pred = ratings_p.copy()\n",
    "for i in ratings_p.index:\n",
    "    if i % 100 == 0:\n",
    "        print(i)\n",
    "    N = sim.loc[train[train['user_id'] == i].index]\n",
    "    for j in ratings_p.columns:\n",
    "        try:\n",
    "            N_k = N[j].sort_values(ascending=False).drop(j)[:30]\n",
    "        except:\n",
    "            N_k = N[j].sort_values(ascending=False)[:30]\n",
    "        weighted_rating = N_k*train_p.loc[i, N_k.index]\n",
    "        knn_pred.loc[i, j] = weighted_rating.sum()/N_k.sum()\n",
    "\n",
    "score_knn = abs(np.array(ratings_p) - knn_pred)\n",
    "score_2_knn = score_knn ** 2\n",
    "print('RMSE: {:.4f}'.format(np.sqrt(score_2_knn.stack().mean())))\n",
    "print('MAE: {:.4f}'.format(score_knn.stack().mean()))"
   ]
  },
  {
   "cell_type": "markdown",
   "metadata": {
    "_uuid": "6cbf11bf5c8b79c62b687e7570525145d372b39d"
   },
   "source": [
    "- **kNN_Plus Model**\n",
    "\n",
    "Now we can improve our KNN model just by the same trick we used on our baseline model: adjust by the z-score.\n",
    "\n",
    "Notation:\n",
    "\n",
    "$\\mu_i$ : The mean of all ratings received by movie i.\n",
    "\n",
    "$\\sigma_i$ : The standard deviation of all ratings received by movie i.\n",
    "\n",
    "$$\\hat{r}_{ui} = \\mu_i + \\sigma_i * \\frac{\\sum_{j \\in N^k_u(i)} corr(i, j) *( r_{uj} - \\mu_j) / \\sigma_j}{\\sum_{j \\in N^k_u(i)} corr(i, j)}$$"
   ]
  },
  {
   "cell_type": "code",
   "execution_count": null,
   "metadata": {
    "_kg_hide-input": true,
    "_kg_hide-output": true,
    "_uuid": "5b89ec701ee782ffac989d111365c1c6f1ee7f14",
    "scrolled": true
   },
   "outputs": [],
   "source": [
    "knn_plus_pred = ratings_p.copy()\n",
    "for i in ratings_p.index:\n",
    "    N = sim.loc[ratings[ratings['user_id'] == i].index]\n",
    "    for j in ratings_p.columns:\n",
    "        try:\n",
    "            N_k = N[j].sort_values(ascending=False).drop(j)[:30]\n",
    "        except:\n",
    "            N_k = N[j].sort_values(ascending=False)[:30]\n",
    "        weighted_rating = N_k*(ratings_p.loc[i, N_k.index] - ratings_movie_summary.loc[N_k.index, 'mean'])/ ratings_movie_summary.loc[N_k.index, 'std']\n",
    "        knn_plus_pred.loc[i, j] = weighted_rating.sum()/N_k.sum() * ratings_movie_summary.loc[j, 'std'] + ratings_movie_summary.loc[j, 'mean']\n",
    "\n",
    "knn_plus_pred.iloc[:10, :10]"
   ]
  },
  {
   "cell_type": "code",
   "execution_count": null,
   "metadata": {
    "_kg_hide-input": true,
    "_kg_hide-output": true,
    "_uuid": "a92121590e441f7763ed0a6c46546da158a0b3f8"
   },
   "outputs": [],
   "source": [
    "score_knn_plus = abs(np.array(ratings_p) - knn_plus_pred)\n",
    "score_2_knn_plus = score_knn ** 2\n",
    "print('RMSE: {:.4f}'.format(np.sqrt(score_2_knn_plus.stack().mean())))\n",
    "print('MAE: {:.4f}'.format(score_knn_plus.stack().mean()))"
   ]
  },
  {
   "cell_type": "markdown",
   "metadata": {
    "_uuid": "87998a28d860627e779a44c5d88ec2ebb2c76984"
   },
   "source": [
    "train-test split score."
   ]
  },
  {
   "cell_type": "code",
   "execution_count": null,
   "metadata": {
    "_kg_hide-input": true,
    "_uuid": "ed37604b0b098dfb22756ab8cc4d2bbb563954d0"
   },
   "outputs": [],
   "source": [
    "train = ratings.copy()\n",
    "test = ratings.copy()\n",
    "train['rating'].iloc[80001:] = np.NaN\n",
    "test['rating'].iloc[:80001] = np.NaN\n",
    "train_movie_summary = train.groupby('movie_id')['rating'].agg(['count', 'mean', 'std'])\n",
    "train_user_summary = train.groupby('user_id')['rating'].agg(['count', 'mean', 'std'])\n",
    "train_p = pd.pivot_table(train, values='rating', index='user_id', columns='movie_id', dropna=False)\n",
    "test_p = pd.pivot_table(test, values='rating', index='user_id', columns='movie_id', dropna=False)\n",
    "\n",
    "knn_plus_pred = ratings_p.copy()\n",
    "for i in ratings_p.index:\n",
    "    if i % 100 == 0:\n",
    "        print(i)\n",
    "    N = sim.loc[train[train['user_id'] == i].index]\n",
    "    for j in ratings_p.columns:\n",
    "        try:\n",
    "            N_k = N[j].sort_values(ascending=False).drop(j)[:30]\n",
    "        except:\n",
    "            N_k = N[j].sort_values(ascending=False)[:30]\n",
    "        weighted_rating = N_k*(train_p.loc[i, N_k.index] - train_movie_summary.loc[N_k.index, 'mean'])/ train_movie_summary.loc[N_k.index, 'std']\n",
    "        knn_plus_pred.loc[i, j] = weighted_rating.sum()/N_k.sum() * train_movie_summary.loc[j, 'std'] + train_movie_summary.loc[j, 'mean']\n",
    "\n",
    "score_knn = abs(np.array(ratings_p) - knn_plus_pred)\n",
    "score_2_knn = score_knn ** 2\n",
    "print('RMSE: {:.4f}'.format(np.sqrt(score_2_knn.stack().mean())))\n",
    "print('MAE: {:.4f}'.format(score_knn.stack().mean()))"
   ]
  },
  {
   "cell_type": "markdown",
   "metadata": {
    "_uuid": "be4f0a3236e2fbfa2224be5261c900f87ad10c60"
   },
   "source": [
    "- **Supervised Learning Model**\n",
    "\n",
    "Gradient Boosting as supervised learning.\n",
    "\n",
    "I take each user-movie combination as one instance, and hence take full use of the features from the user and movie."
   ]
  },
  {
   "cell_type": "code",
   "execution_count": null,
   "metadata": {
    "_kg_hide-input": true,
    "_uuid": "c4fa949605f173a8a6e8718afe68ace1e03e2390"
   },
   "outputs": [],
   "source": [
    "from datetime import datetime\n",
    "\n",
    "r_cols = ['user_id', 'movie_id', 'rating', 'unix_timestamp']\n",
    "ratings = pd.read_csv('../input/ml-100k/u.data', sep='\\t', names=r_cols, encoding='latin-1')\n",
    "ratings['unix_timestamp'] = ratings['unix_timestamp'].apply(datetime.fromtimestamp)\n",
    "ratings.columns = ['user_id', 'movie_id', 'rating', 'time']\n",
    "ratings.head(10)\n",
    "\n",
    "m_cols = ['movie_id', 'title', 'release_date', 'video_release_date', 'imdb_url','unknown', 'Action', 'Adventure',\\\n",
    "          'Animation', 'Children\\'s', 'Comedy', 'Crime', 'Documentary', 'Drama', 'Fantasy','Film-Noir', 'Horror',\\\n",
    "          'Musical', 'Mystery', 'Romance', 'Sci-Fi', 'Thriller', 'War', 'Western']\n",
    "movies = pd.read_csv('../input/ml-100k/u.item', sep='|', names=m_cols, encoding='latin-1')"
   ]
  },
  {
   "cell_type": "code",
   "execution_count": null,
   "metadata": {
    "_kg_hide-input": true,
    "_uuid": "4c3414c35a1213da5e54e6a5dd4e846da69f793f"
   },
   "outputs": [],
   "source": [
    "from xgboost import XGBRegressor\n",
    "from sklearn.model_selection import train_test_split\n",
    "#occupation = {'none': 0, 'administrator': 1, 'artist': 2, 'doctor': 3, 'educator': 4, 'engineer': 5, 'entertainment': 6,\\\n",
    "#              'executive': 7, 'healthcare': 8, 'homemaker': 9, 'lawyer': 10, 'librarian': 11, 'marketing': 12,\\\n",
    "#              'programmer': 13, 'salesman': 14, 'scientist': 15, 'student': 16, 'technician': 17, 'writer': 18,\\\n",
    "#              'retired': 19, 'other': 20}\n",
    "df = ratings_p.stack(dropna=False).reset_index()\n",
    "df.columns = ['user_id', 'movie_id', 'rating']\n",
    "df = df.merge(users, on='user_id')\n",
    "df = df.merge(movies, on='movie_id')\n",
    "df['sex'] = df['sex'].replace(['F', 'M'], [1, 0])\n",
    "#df['occupation'] = df['occupation'].replace(occupation)\n",
    "df.drop(['release_date', 'video_release_date', 'imdb_url', 'title', 'zip_code'], axis=1, inplace=True)\n",
    "df_train = df.dropna()\n",
    "df.head(10)"
   ]
  },
  {
   "cell_type": "code",
   "execution_count": null,
   "metadata": {
    "_kg_hide-input": true,
    "_uuid": "158054a7a22cec94467297f867e6da47b311e7c8"
   },
   "outputs": [],
   "source": [
    "rmse_reg = []\n",
    "mae_reg = []\n",
    "i = 0\n",
    "print('Evaluating RMSE, MAE of the XGB_Reg Model. \\n')\n",
    "print('-'*12)\n",
    "for train_index, test_index in kfolds.split(ratings):\n",
    "    X_train = df_train.drop('rating', axis=1).iloc[train_index]\n",
    "    y_train = df_train['rating'].iloc[train_index]\n",
    "    X_test = df_train.drop('rating', axis=1).iloc[test_index]\n",
    "    y_test = df_train['rating'].iloc[test_index]\n",
    "    xgb = XGBRegressor(learning_rate=0.1, max_depth=10, min_child_weight=10, gamma=0.03).fit(X_train, y_train)\n",
    "    y_pred = xgb.predict(X_test)\n",
    "    score = abs(y_test - y_pred)\n",
    "    score_2 = score**2\n",
    "    rmse_reg += [np.sqrt(np.mean(score_2))]\n",
    "    mae_reg += [np.mean(score)]\n",
    "    i += 1\n",
    "    print('Fold', i)\n",
    "    print('RMSE: {:.4f}'.format(np.sqrt(np.mean(score_2))))\n",
    "    print('MAE: {:.4f}'.format(np.mean(score)))\n",
    "    print('-'*12)\n",
    "print('-'*12)\n",
    "print('Mean RMSE: {:.4f}'.format(np.mean(rmse_reg)))\n",
    "print('Mean MAE: {:.4f}'.format(np.mean(mae_reg)))\n",
    "print('-'*12)\n",
    "print('-'*12)"
   ]
  },
  {
   "cell_type": "markdown",
   "metadata": {
    "_uuid": "45f5343289f9a6f654909f9dc1af68a06a1d69aa"
   },
   "source": [
    "The next model takes more than 6 hours to run. So I don't commit it this time. I'll move it into a seperate notebook."
   ]
  },
  {
   "cell_type": "markdown",
   "metadata": {
    "_uuid": "1a49d2277c92a93f1dd5802e257f0bcbd1cd3e32"
   },
   "source": [
    "- **Improvement on Gradient Boosting Model (?)**\n",
    "\n",
    "In the previous model, we use rating as the target variable, therefore the model knows nothing about what ratings that the movie has received, and what ratings the user has given. Now we might want to include all related ratings, both from the same user and for the same movie, as features in our model.\n",
    "\n",
    "This model takes a much longer time than others.\n",
    "\n",
    "Notice that two of the slots on each row in these new features will actually contain the target value! However, I right now have no clue that this will result in data leakage since the model has no idea where these hidden correct ratings locate.\n",
    "\n",
    "It makes sense that this model will beat all other models, since it contains more information like the age and gender of the user, genre of the movie, etc. However, it is still not safe to say that we are free of data leakage here. So I leave a question mark here."
   ]
  },
  {
   "cell_type": "code",
   "execution_count": null,
   "metadata": {
    "_kg_hide-input": true,
    "_kg_hide-output": true,
    "_uuid": "ee84bb76091248cf663fd0e48c797731d1900374"
   },
   "outputs": [],
   "source": [
    "### BUG. Need Fix. ###\n",
    "\n",
    "#df = df.merge(ratings_p, left_on='user_id', right_index=True)\n",
    "#df = df.merge(ratings_p.T, left_on='movie_id', right_index=True)\n",
    "#df.head(10)"
   ]
  },
  {
   "cell_type": "code",
   "execution_count": null,
   "metadata": {
    "_kg_hide-input": true,
    "_uuid": "39d9b2fbd5358f998071bac8f8de5c2e45bbe3b0"
   },
   "outputs": [],
   "source": [
    "#df_train = df_train.merge(ratings_p, left_on='user_id', right_index=True)\n",
    "#df_train = df_train.merge(ratings_p.T, left_on='movie_id', right_index=True)\n",
    "#df_train.head(10)"
   ]
  },
  {
   "cell_type": "code",
   "execution_count": null,
   "metadata": {
    "_kg_hide-input": true,
    "_uuid": "252b024fb228156923f286f3b57b39188093bfdb",
    "scrolled": true
   },
   "outputs": [],
   "source": [
    "#for i in range(df_train.shape[0]):\n",
    "#    if i % 1000 == 0:\n",
    "#        print(i)\n",
    "#    row = df_train.iloc[i]\n",
    "#    df_train.iloc[i][str(row[1])+'_x'] = np.NaN\n",
    "#    df_train.iloc[i][str(row[0])+'_y'] = np.NaN"
   ]
  },
  {
   "cell_type": "markdown",
   "metadata": {
    "_uuid": "a57004d0967b668ccbb18e9b708736ddb3661464"
   },
   "source": [
    "Train-test-split score."
   ]
  },
  {
   "cell_type": "code",
   "execution_count": null,
   "metadata": {
    "_kg_hide-input": true,
    "_uuid": "70431be331057c500c244d88dede926cdbdeee6e"
   },
   "outputs": [],
   "source": [
    "#X_train, X_test, y_train, y_test = train_test_split(df_train.drop(['rating'], axis=1), df_train['rating'], random_state = 0)\n",
    "#xgb = XGBRegressor(learning_rate=0.1, max_depth=10, min_child_weight=10, gamma=0.03).fit(X_train, y_train)\n",
    "#y_pred = xgb.predict(X_test)\n",
    "#score = abs(y_test - y_pred)\n",
    "#score_2 = score**2\n",
    "#print('RMSE: {:.4f}'.format(np.sqrt(np.mean(score_2))))\n",
    "#print('MAE: {:.4f}'.format(np.mean(score)))\n",
    "\n",
    "# RMSE: 0.7401\n",
    "# MAE: 0.5674"
   ]
  },
  {
   "cell_type": "markdown",
   "metadata": {
    "_uuid": "bafe0d310b37624a9be8b65198bc8277dd67b8cf"
   },
   "source": [
    "Use our model to recommond movie for user 196."
   ]
  },
  {
   "cell_type": "markdown",
   "metadata": {
    "_uuid": "74e6fe1c42fbfae88b3742da2a49e4bd9b038dd0"
   },
   "source": [
    "Here is all movies rated by user 196."
   ]
  },
  {
   "cell_type": "code",
   "execution_count": null,
   "metadata": {
    "_uuid": "d2ea8d95232358b905f58f29ca7c4a6453ae1b0a"
   },
   "outputs": [],
   "source": [
    "#pred_196 = df[df['user_id']==196]\n",
    "#pred_196 = pred_196.merge(ratings_p, left_on='user_id', right_index=True)\n",
    "#pred_196 = pred_196.merge(ratings_p.T, left_on='movie_id', right_index=True)\n",
    "#pred_196.head(10)"
   ]
  },
  {
   "cell_type": "markdown",
   "metadata": {
    "_uuid": "937d2a427b5f6719c2c6c3a77321f3b857fdb183"
   },
   "source": [
    "Here is the recommendation to user 196."
   ]
  },
  {
   "cell_type": "code",
   "execution_count": null,
   "metadata": {
    "_kg_hide-input": true,
    "_uuid": "b70b286d73e8500582da543585f322e0d185774c"
   },
   "outputs": [],
   "source": [
    "#xgb = XGBRegressor(learning_rate=0.1, max_depth=10, min_child_weight=10, gamma=0.03)\\\n",
    "#      .fit(df_train.drop(['rating'], axis=1), df_train['rating'])\n",
    "#pred_196['rating'] = xgb.predict(pred_196.drop('rating', axis=1))\n",
    "#user_196_reg = movies[['movie_id', 'title', 'release_date']]\n",
    "#user_196_reg['Estimate_Score'] = np.array(pred_196['rating'])\n",
    "#user_196_reg.drop('movie_id', axis=1, inplace=True)\n",
    "#user_196_reg = user_196_reg.sort_values('Estimate_Score', ascending=False)\n",
    "#print(user_196_reg.head(10))"
   ]
  },
  {
   "cell_type": "markdown",
   "metadata": {
    "_uuid": "d72a08f0b96a6701946532c780ca4449410c1a2c"
   },
   "source": [
    "Cross-Validation"
   ]
  },
  {
   "cell_type": "code",
   "execution_count": null,
   "metadata": {
    "_kg_hide-input": true,
    "_uuid": "4857096d99a1021818206e0ecfa7a3b0458d70ea"
   },
   "outputs": [],
   "source": [
    "#rmse_reg_plus = []\n",
    "#mae_reg_plus = []\n",
    "#i = 0\n",
    "#print('Evaluating RMSE, MAE of the XGB_Reg_Plus Model. \\n')\n",
    "#print('-'*12)\n",
    "#for train_index, test_index in kfolds.split(ratings):\n",
    "#    X_train = df_train.drop('rating', axis=1).iloc[train_index]\n",
    "#    y_train = df_train['rating'].iloc[train_index]\n",
    "#    X_test = df_train.drop('rating', axis=1).iloc[test_index]\n",
    "#    y_test = df_train['rating'].iloc[test_index]\n",
    "#    xgb = XGBRegressor(learning_rate=0.1, max_depth=10, min_child_weight=10, gamma=0.03).fit(X_train, y_train)\n",
    "#    y_pred = xgb.predict(X_test)\n",
    "#    score = abs(y_test - y_pred)\n",
    "#    score_2 = score**2\n",
    "#    rmse_reg_plus += [np.sqrt(np.mean(score_2))]\n",
    "#    mae_reg_plus += [np.mean(score)]\n",
    "#    i += 1\n",
    "#    print('Fold', i)\n",
    "#    print('RMSE: {:.4f}'.format(np.sqrt(np.mean(score_2))))\n",
    "#    print('MAE: {:.4f}'.format(np.mean(score)))\n",
    "#    print('-'*12)\n",
    "#print('-'*12)\n",
    "#print('Mean RMSE: {:.4f}'.format(np.mean(rmse_reg_plus)))\n",
    "#print('Mean MAE: {:.4f}'.format(np.mean(mae_reg_plus)))\n",
    "#print('-'*12)\n",
    "#print('-'*12)"
   ]
  },
  {
   "cell_type": "code",
   "execution_count": null,
   "metadata": {},
   "outputs": [],
   "source": []
  }
 ],
 "metadata": {
  "kernelspec": {
   "display_name": "Python 3",
   "language": "python",
   "name": "python3"
  },
  "language_info": {
   "codemirror_mode": {
    "name": "ipython",
    "version": 3
   },
   "file_extension": ".py",
   "mimetype": "text/x-python",
   "name": "python",
   "nbconvert_exporter": "python",
   "pygments_lexer": "ipython3",
   "version": "3.6.8"
  }
 },
 "nbformat": 4,
 "nbformat_minor": 1
}
